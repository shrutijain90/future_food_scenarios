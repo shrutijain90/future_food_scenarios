{
 "cells": [
  {
   "cell_type": "code",
   "execution_count": 1,
   "id": "c1014e76-8cd8-47f4-8f36-8c56c3f0342b",
   "metadata": {},
   "outputs": [
    {
     "name": "stdout",
     "output_type": "stream",
     "text": [
      "\u001b[34mfuture_trade\u001b[m\u001b[m\n"
     ]
    }
   ],
   "source": [
    "import os\n",
    "os.chdir('../..')\n",
    "!ls"
   ]
  },
  {
   "cell_type": "code",
   "execution_count": 2,
   "id": "79686dbd-b349-47ac-a72c-57bbaa0232e5",
   "metadata": {},
   "outputs": [],
   "source": [
    "import pandas as pd\n",
    "import numpy as np\n",
    "import matplotlib.pyplot as plt\n",
    "import seaborn as sns\n",
    "from pyomo.environ import *\n",
    "from pyomo.mpec import *\n",
    "import math\n",
    "import datetime\n",
    "from sklearn.metrics import mean_squared_error\n",
    "from sklearn.metrics import r2_score\n",
    "\n",
    "from future_trade.spatial_trade_model.functions_general import *\n",
    "from future_trade.spatial_trade_model.functions_calibration import *\n",
    "from pathos.multiprocessing import ProcessPool, cpu_count"
   ]
  },
  {
   "cell_type": "code",
   "execution_count": 3,
   "id": "c8002e45-588b-49f6-8e59-ada12a4c0196",
   "metadata": {},
   "outputs": [],
   "source": [
    "data_dir = '../../OPSIS/Data/Trade_clearance_model'\n",
    "calibration_output = f'{data_dir}/Output/Calibration/'"
   ]
  },
  {
   "cell_type": "code",
   "execution_count": 4,
   "id": "5e0cb287-a1b8-4835-a330-8e54cac58093",
   "metadata": {},
   "outputs": [
    {
     "name": "stdout",
     "output_type": "stream",
     "text": [
      "jwhea\n",
      "rows in calibrated trade: (2704, 3)\n",
      "accuracy: 0.7917899408284024\n",
      "precision: 0.9850894632206759\n",
      "recall: 0.6439246263807668\n",
      "r2 linear: 0.9999996833361503\n",
      "r2 log: 0.8004486035152457\n",
      "r2 linear excl dom sup: 0.9999679845625908\n",
      "r2 log excl dom sup: 0.7809993024384435\n",
      "rmse: 2045.0708001145783\n",
      "jrice\n",
      "rows in calibrated trade: (2704, 3)\n",
      "accuracy: 0.7200443786982249\n",
      "precision: 0.9713804713804713\n",
      "recall: 0.4381169324221716\n",
      "r2 linear: 0.9999998757157693\n",
      "r2 log: 0.718027380592348\n",
      "r2 linear excl dom sup: 0.999895248120694\n",
      "r2 log excl dom sup: 0.6800793231727184\n",
      "rmse: 1371.3441800728745\n",
      "jmaiz\n",
      "rows in calibrated trade: (2704, 3)\n",
      "accuracy: 0.7370562130177515\n",
      "precision: 0.9879518072289156\n",
      "recall: 0.5391190006574622\n",
      "r2 linear: 0.9999999187718134\n",
      "r2 log: 0.7255413625674878\n",
      "r2 linear excl dom sup: 0.9999868940983797\n",
      "r2 log excl dom sup: 0.685371092870577\n",
      "rmse: 2265.7030730969\n",
      "jbarl\n",
      "rows in calibrated trade: (2704, 3)\n",
      "accuracy: 0.823594674556213\n",
      "precision: 0.8439024390243902\n",
      "recall: 0.5766666666666667\n",
      "r2 linear: 0.9999932819894468\n",
      "r2 log: 0.7603811171137969\n",
      "r2 linear excl dom sup: 0.9998576497315486\n",
      "r2 log excl dom sup: 0.7135624799356071\n",
      "rmse: 1435.9038686545582\n",
      "jmill\n",
      "rows in calibrated trade: (2704, 3)\n",
      "accuracy: 0.8435650887573964\n",
      "precision: 0.5809018567639257\n",
      "recall: 0.4524793388429752\n",
      "r2 linear: 0.9999987321752575\n",
      "r2 log: 0.5872220630247782\n",
      "r2 linear excl dom sup: 0.9409352184288701\n",
      "r2 log excl dom sup: 0.40372004716835497\n",
      "rmse: 316.49351389219686\n",
      "jsorg\n",
      "rows in calibrated trade: (2704, 3)\n",
      "accuracy: 0.8394970414201184\n",
      "precision: 0.531615925058548\n",
      "recall: 0.4924078091106291\n",
      "r2 linear: 0.9999945094386926\n",
      "r2 log: 0.5077240122378517\n",
      "r2 linear excl dom sup: 0.9999315422630259\n",
      "r2 log excl dom sup: 0.28244208098934387\n",
      "rmse: 678.9854518130841\n",
      "jocer\n",
      "rows in calibrated trade: (2704, 3)\n",
      "accuracy: 0.7481508875739645\n",
      "precision: 0.8962386511024644\n",
      "recall: 0.5348297213622291\n",
      "r2 linear: 0.9999905463153941\n",
      "r2 log: 0.6566982740605727\n",
      "r2 linear excl dom sup: 0.999554875349557\n",
      "r2 log excl dom sup: 0.5830121038921737\n",
      "rmse: 1023.2043221685861\n",
      "jcass\n",
      "rows in calibrated trade: (2704, 3)\n",
      "accuracy: 0.8842455621301775\n",
      "precision: 0.8793103448275862\n",
      "recall: 0.47842401500938087\n",
      "r2 linear: 0.9999996958483177\n",
      "r2 log: 0.7199435126157575\n",
      "r2 linear excl dom sup: 0.9999986028278297\n",
      "r2 log excl dom sup: 0.6552954829896975\n",
      "rmse: 1150.797844892886\n",
      "jpota\n",
      "rows in calibrated trade: (2704, 3)\n",
      "accuracy: 0.6394230769230769\n",
      "precision: 0.8261877172653534\n",
      "recall: 0.4635890767230169\n",
      "r2 linear: 0.9999995149911497\n",
      "r2 log: 0.6282022313267666\n",
      "r2 linear excl dom sup: 0.9989864903989087\n",
      "r2 log excl dom sup: 0.5436230594159774\n",
      "rmse: 1529.4792479528364\n",
      "jyams\n",
      "rows in calibrated trade: (2704, 3)\n",
      "accuracy: 0.974112426035503\n",
      "precision: 0.8157894736842105\n",
      "recall: 0.7469879518072289\n",
      "r2 linear: 0.9999999994400999\n",
      "r2 log: 0.6789301783802688\n",
      "r2 linear excl dom sup: 0.9956870960711374\n",
      "r2 log excl dom sup: 0.3804786444697561\n",
      "rmse: 27.799497106828902\n",
      "jswpt\n",
      "rows in calibrated trade: (2704, 3)\n",
      "accuracy: 0.8494822485207101\n",
      "precision: 0.5847457627118644\n",
      "recall: 0.44325481798715205\n",
      "r2 linear: 0.999999887458109\n",
      "r2 log: 0.5937937448387558\n",
      "r2 linear excl dom sup: 0.9776217371522653\n",
      "r2 log excl dom sup: 0.33880234838580414\n",
      "rmse: 353.44165972933524\n",
      "jorat\n",
      "rows in calibrated trade: (2704, 3)\n",
      "accuracy: 0.9267751479289941\n",
      "precision: 0.6946902654867256\n",
      "recall: 0.548951048951049\n",
      "r2 linear: 0.9999999592507137\n",
      "r2 log: 0.6791481908843315\n",
      "r2 linear excl dom sup: 0.9981746633656834\n",
      "r2 log excl dom sup: 0.3621941517049937\n",
      "rmse: 39.8176256205586\n",
      "jvege\n",
      "rows in calibrated trade: (2704, 3)\n",
      "accuracy: 0.5761834319526628\n",
      "precision: 0.9892008639308856\n",
      "recall: 0.548502994011976\n",
      "r2 linear: 0.9999999962716564\n",
      "r2 log: 0.5778845971798857\n",
      "r2 linear excl dom sup: 0.9999754119555174\n",
      "r2 log excl dom sup: 0.49102916798368446\n",
      "rmse: 710.831812170502\n",
      "jbana\n",
      "rows in calibrated trade: (2704, 3)\n",
      "accuracy: 0.8831360946745562\n",
      "precision: 0.7022222222222222\n",
      "recall: 0.6345381526104418\n",
      "r2 linear: 0.9999998724565181\n",
      "r2 log: 0.8477951538542857\n",
      "r2 linear excl dom sup: 0.9999898618408537\n",
      "r2 log excl dom sup: 0.8002562358573506\n",
      "rmse: 266.48758469279323\n",
      "jplnt\n",
      "rows in calibrated trade: (2704, 3)\n",
      "accuracy: 0.966715976331361\n",
      "precision: 0.7169811320754716\n",
      "recall: 0.7169811320754716\n",
      "r2 linear: 0.9999998660274613\n",
      "r2 log: 0.6476061288904809\n",
      "r2 linear excl dom sup: 0.9993405581662895\n",
      "r2 log excl dom sup: 0.40292010900312303\n",
      "rmse: 126.86626506717415\n",
      "jsubf\n",
      "rows in calibrated trade: (2704, 3)\n",
      "accuracy: 0.6357248520710059\n",
      "precision: 0.9767441860465116\n",
      "recall: 0.5513361462728551\n",
      "r2 linear: 0.9999997918332368\n",
      "r2 log: 0.5524936313639348\n",
      "r2 linear excl dom sup: 0.9998409990594844\n",
      "r2 log excl dom sup: 0.49779497543330264\n",
      "rmse: 1455.1279128400943\n",
      "jtemf\n",
      "rows in calibrated trade: (2704, 3)\n",
      "accuracy: 0.6017011834319527\n",
      "precision: 0.8303571428571429\n",
      "recall: 0.4802065404475043\n",
      "r2 linear: 0.9999990236746944\n",
      "r2 log: 0.42130701919013747\n",
      "r2 linear excl dom sup: 0.9979444569779565\n",
      "r2 log excl dom sup: 0.3450737609759351\n",
      "rmse: 2050.517044623607\n",
      "jbean\n",
      "rows in calibrated trade: (2704, 3)\n",
      "accuracy: 0.6405325443786982\n",
      "precision: 0.775175644028103\n",
      "recall: 0.4590846047156727\n",
      "r2 linear: 0.9999929094614877\n",
      "r2 log: 0.5156964547407469\n",
      "r2 linear excl dom sup: 0.9985960558830361\n",
      "r2 log excl dom sup: 0.42356565319460704\n",
      "rmse: 465.2053544232214\n",
      "jchkp\n",
      "rows in calibrated trade: (2704, 3)\n",
      "accuracy: 0.8624260355029586\n",
      "precision: 0.8958837772397095\n",
      "recall: 0.5293276108726752\n",
      "r2 linear: 0.9999999017906017\n",
      "r2 log: 0.7956200010999794\n",
      "r2 linear excl dom sup: 0.9998726370549383\n",
      "r2 log excl dom sup: 0.7637873695043365\n",
      "rmse: 69.00668983824991\n",
      "jcowp\n",
      "rows in calibrated trade: (2704, 3)\n",
      "accuracy: 0.9360207100591716\n",
      "precision: 0.6556291390728477\n",
      "recall: 0.45\n",
      "r2 linear: 0.9999995927958589\n",
      "r2 log: 0.5754504499388147\n",
      "r2 linear excl dom sup: 0.8454798817340239\n",
      "r2 log excl dom sup: 0.3045267760087109\n",
      "rmse: 69.10183876105583\n",
      "jlent\n",
      "rows in calibrated trade: (2704, 3)\n",
      "accuracy: 0.8476331360946746\n",
      "precision: 0.78419452887538\n",
      "recall: 0.4307178631051753\n",
      "r2 linear: 0.999953574417347\n",
      "r2 log: 0.6646800971411142\n",
      "r2 linear excl dom sup: 0.9997889651718852\n",
      "r2 log excl dom sup: 0.6175313912626872\n",
      "rmse: 209.33882107669427\n",
      "jpigp\n",
      "rows in calibrated trade: (2704, 3)\n",
      "accuracy: 0.981508875739645\n",
      "precision: 0.851063829787234\n",
      "recall: 0.6896551724137931\n",
      "r2 linear: 0.9999999343820408\n",
      "r2 log: 0.5547792674620498\n",
      "r2 linear excl dom sup: 0.999992107641154\n",
      "r2 log excl dom sup: 0.3167498737339297\n",
      "rmse: 19.868949322631288\n",
      "jopul\n",
      "rows in calibrated trade: (2704, 3)\n",
      "accuracy: 0.6446005917159763\n",
      "precision: 0.8232876712328767\n",
      "recall: 0.41939986043265876\n",
      "r2 linear: 0.999902332132642\n",
      "r2 log: 0.5269829555072345\n",
      "r2 linear excl dom sup: 0.9997013863260935\n",
      "r2 log excl dom sup: 0.43642735639447217\n",
      "rmse: 817.5933728975634\n",
      "jsoyb\n",
      "rows in calibrated trade: (2704, 3)\n",
      "accuracy: 0.6982248520710059\n",
      "precision: 0.9329359165424739\n",
      "recall: 0.44810307802433785\n",
      "r2 linear: 0.9999983846543068\n",
      "r2 log: 0.6641478001721606\n",
      "r2 linear excl dom sup: 0.9999982532507596\n",
      "r2 log excl dom sup: 0.631203560760804\n",
      "rmse: 2620.509645055721\n",
      "jgrnd\n",
      "rows in calibrated trade: (2704, 3)\n",
      "accuracy: 0.794008875739645\n",
      "precision: 0.95625\n",
      "recall: 0.46130653266331656\n",
      "r2 linear: 0.9999996940465997\n",
      "r2 log: 0.7918514492571027\n",
      "r2 linear excl dom sup: 0.9994524097558768\n",
      "r2 log excl dom sup: 0.7487907000505428\n",
      "rmse: 183.0306810921043\n",
      "jothr\n",
      "rows in calibrated trade: (2704, 3)\n",
      "accuracy: 0.6527366863905325\n",
      "precision: 0.9725557461406518\n",
      "recall: 0.555609995100441\n",
      "r2 linear: 0.9999940168285886\n",
      "r2 log: 0.7145423655631287\n",
      "r2 linear excl dom sup: 0.9998477769941295\n",
      "r2 log excl dom sup: 0.6853041254190491\n",
      "rmse: 294.09666724468417\n",
      "jrpsd\n",
      "rows in calibrated trade: (2704, 3)\n",
      "accuracy: 0.7359467455621301\n",
      "precision: 0.8758503401360545\n",
      "recall: 0.4455017301038062\n",
      "r2 linear: 0.9999939778212337\n",
      "r2 log: 0.645894316251896\n",
      "r2 linear excl dom sup: 0.9999605206384824\n",
      "r2 log excl dom sup: 0.6005043309340745\n",
      "rmse: 948.0740505413389\n",
      "jsnfl\n",
      "rows in calibrated trade: (2704, 3)\n",
      "accuracy: 0.7429733727810651\n",
      "precision: 0.8111782477341389\n",
      "recall: 0.48509485094850946\n",
      "r2 linear: 0.999947870618773\n",
      "r2 log: 0.5424231372727921\n",
      "r2 linear excl dom sup: 0.9997295193933649\n",
      "r2 log excl dom sup: 0.5025328934843469\n",
      "rmse: 1365.8941884388532\n",
      "jtols\n",
      "rows in calibrated trade: (2704, 3)\n",
      "accuracy: 0.6024408284023669\n",
      "precision: 0.9637681159420289\n",
      "recall: 0.47234906139015725\n",
      "r2 linear: 0.999995688950037\n",
      "r2 log: 0.4993735314762242\n",
      "r2 linear excl dom sup: 0.9991306085780765\n",
      "r2 log excl dom sup: 0.4365758389456198\n",
      "rmse: 1097.1306433596974\n",
      "jpalm\n",
      "rows in calibrated trade: (2704, 3)\n",
      "accuracy: 0.8982988165680473\n",
      "precision: 0.7602459016393442\n",
      "recall: 0.7013232514177694\n",
      "r2 linear: 0.9999997144465775\n",
      "r2 log: 0.7315123811422354\n",
      "r2 linear excl dom sup: 0.9999972325596107\n",
      "r2 log excl dom sup: 0.7438419399116742\n",
      "rmse: 1304.3406913802894\n",
      "jsugb\n",
      "rows in calibrated trade: (2704, 3)\n",
      "accuracy: 0.8472633136094675\n",
      "precision: 0.9484066767830045\n",
      "recall: 0.6225099601593626\n",
      "r2 linear: 0.9999993398130729\n",
      "r2 log: 0.7717618072716261\n",
      "r2 linear excl dom sup: 0.9999198093961271\n",
      "r2 log excl dom sup: 0.7439107934331937\n",
      "rmse: 1077.99884893185\n",
      "jsugc\n",
      "rows in calibrated trade: (2704, 3)\n",
      "accuracy: 0.8328402366863905\n",
      "precision: 0.9300791556728232\n",
      "recall: 0.6385869565217391\n",
      "r2 linear: 0.999999983629987\n",
      "r2 log: 0.7463268046734033\n",
      "r2 linear excl dom sup: 0.9999936621588389\n",
      "r2 log excl dom sup: 0.7229743836456433\n",
      "rmse: 1832.145879827158\n"
     ]
    }
   ],
   "source": [
    "for crop_code in [\n",
    "    'jwhea', 'jrice', 'jmaiz', 'jbarl', 'jmill', 'jsorg', \n",
    "    'jocer', 'jcass', 'jpota', 'jyams', 'jswpt', 'jorat', \n",
    "    'jvege', 'jbana', 'jplnt', 'jsubf', 'jtemf', 'jbean', \n",
    "    'jchkp', 'jcowp', 'jlent', 'jpigp', 'jopul', 'jsoyb',\n",
    "    'jgrnd', 'jothr', 'jrpsd', 'jsnfl', 'jtols', 'jpalm', \n",
    "    'jsugb', 'jsugc']:\n",
    "    print(crop_code)\n",
    "    df_country = pd.read_csv(f'{data_dir}/Grouped_Input/Country_data/country_information_'+str(crop_code)+'.csv')\n",
    "    df_bil = pd.read_csv(f'{data_dir}/Grouped_Input/Trade_cost/bilateral_trade_cost_'+str(crop_code)+'.csv')\n",
    "    \n",
    "    trade_cal = pd.read_csv(f'{calibration_output}trade_calibration_{crop_code}.csv', header=None)\n",
    "    trade_cal.columns = ['from_abbreviation', 'to_abbreviation', 'trade_cal']\n",
    "    trade_cal['trade_cal'] = trade_cal['trade_cal'] * 1000\n",
    "\n",
    "    calib = pd.read_csv(f'{calibration_output}calib_calibration_{crop_code}.csv', header=None)\n",
    "    calib.columns = ['from_abbreviation', 'to_abbreviation', 'calib']\n",
    "\n",
    "    tc = pd.read_csv(f'{calibration_output}tc_calibration_{crop_code}.csv', header=None)\n",
    "    tc.columns = ['from_abbreviation', 'to_abbreviation', 'tc']\n",
    "\n",
    "    conprice = pd.read_csv(f'{calibration_output}conprice_calibration_{crop_code}.csv', header=None)\n",
    "    conprice.columns = ['abbreviation', 'conprice']\n",
    "\n",
    "    prodprice = pd.read_csv(f'{calibration_output}prodprice_calibration_{crop_code}.csv', header=None)\n",
    "    prodprice.columns = ['abbreviation', 'prodprice']\n",
    "    \n",
    "    print(f'rows in calibrated trade: {trade_cal.shape}')\n",
    "\n",
    "    df_bil = df_bil.merge(trade_cal)\n",
    "    print(f\"accuracy: {len(df_bil[(df_bil['trade_cal']>1)==(df_bil['q_calib']>1)])/(len(df_bil))}\")\n",
    "    print(f\"precision: {len(df_bil[(df_bil['trade_cal']>1) & (df_bil['q_calib']>1)]) / len(df_bil[(df_bil['trade_cal']>1)])}\")\n",
    "    print(f\"recall: {len(df_bil[(df_bil['trade_cal']>1) & (df_bil['q_calib']>1)]) / len(df_bil[(df_bil['q_calib']>1)])}\")\n",
    "    print(f\"r2 linear: {r2_score(df_bil['q_calib'], df_bil['trade_cal'])}\")\n",
    "    print(f\"r2 log: {r2_score(np.log(df_bil['q_calib']+1), np.log(df_bil['trade_cal']+1))}\")\n",
    "    print(f\"r2 linear excl dom sup: {r2_score(df_bil[df_bil['from_abbreviation']!=df_bil['to_abbreviation']]['q_calib'], df_bil[df_bil['from_abbreviation']!=df_bil['to_abbreviation']]['trade_cal'])}\")\n",
    "    print(f\"r2 log excl dom sup: {r2_score(np.log(df_bil[df_bil['from_abbreviation']!=df_bil['to_abbreviation']]['q_calib']+1), np.log(df_bil[df_bil['from_abbreviation']!=df_bil['to_abbreviation']]['trade_cal']+1))}\")\n",
    "    print(f\"rmse: {np.sqrt(mean_squared_error(df_bil['q_calib'], df_bil['trade_cal']))}\")"
   ]
  },
  {
   "cell_type": "code",
   "execution_count": 5,
   "id": "54d0c928-04d6-4f25-bec4-2c2c48412d1a",
   "metadata": {},
   "outputs": [],
   "source": [
    "crop_code = 'jbean'"
   ]
  },
  {
   "cell_type": "code",
   "execution_count": 6,
   "id": "d41134d9-45cb-4a0d-8f85-897c9d124759",
   "metadata": {},
   "outputs": [],
   "source": [
    "df_country = pd.read_csv(f'{data_dir}/Grouped_Input/Country_data/country_information_'+str(crop_code)+'.csv')\n",
    "df_bil = pd.read_csv(f'{data_dir}/Grouped_Input/Trade_cost/bilateral_trade_cost_'+str(crop_code)+'.csv')\n",
    "\n",
    "trade_cal = pd.read_csv(f'{calibration_output}trade_calibration_{crop_code}.csv', header=None)\n",
    "trade_cal.columns = ['from_abbreviation', 'to_abbreviation', 'trade_cal']\n",
    "trade_cal['trade_cal'] = trade_cal['trade_cal'] * 1000\n",
    "\n",
    "calib = pd.read_csv(f'{calibration_output}calib_calibration_{crop_code}.csv', header=None)\n",
    "calib.columns = ['from_abbreviation', 'to_abbreviation', 'calib']\n",
    "\n",
    "tc = pd.read_csv(f'{calibration_output}tc_calibration_{crop_code}.csv', header=None)\n",
    "tc.columns = ['from_abbreviation', 'to_abbreviation', 'tc']\n",
    "\n",
    "conprice = pd.read_csv(f'{calibration_output}conprice_calibration_{crop_code}.csv', header=None)\n",
    "conprice.columns = ['abbreviation', 'conprice']\n",
    "\n",
    "prodprice = pd.read_csv(f'{calibration_output}prodprice_calibration_{crop_code}.csv', header=None)\n",
    "prodprice.columns = ['abbreviation', 'prodprice']"
   ]
  },
  {
   "cell_type": "code",
   "execution_count": 7,
   "id": "ce74f6a0-e7fb-4adb-9186-025dfb99cb18",
   "metadata": {},
   "outputs": [
    {
     "data": {
      "text/html": [
       "<div>\n",
       "<style scoped>\n",
       "    .dataframe tbody tr th:only-of-type {\n",
       "        vertical-align: middle;\n",
       "    }\n",
       "\n",
       "    .dataframe tbody tr th {\n",
       "        vertical-align: top;\n",
       "    }\n",
       "\n",
       "    .dataframe thead th {\n",
       "        text-align: right;\n",
       "    }\n",
       "</style>\n",
       "<table border=\"1\" class=\"dataframe\">\n",
       "  <thead>\n",
       "    <tr style=\"text-align: right;\">\n",
       "      <th></th>\n",
       "      <th>calib</th>\n",
       "    </tr>\n",
       "  </thead>\n",
       "  <tbody>\n",
       "    <tr>\n",
       "      <th>count</th>\n",
       "      <td>2704.000000</td>\n",
       "    </tr>\n",
       "    <tr>\n",
       "      <th>mean</th>\n",
       "      <td>0.224944</td>\n",
       "    </tr>\n",
       "    <tr>\n",
       "      <th>std</th>\n",
       "      <td>1.872875</td>\n",
       "    </tr>\n",
       "    <tr>\n",
       "      <th>min</th>\n",
       "      <td>0.000000</td>\n",
       "    </tr>\n",
       "    <tr>\n",
       "      <th>25%</th>\n",
       "      <td>0.000000</td>\n",
       "    </tr>\n",
       "    <tr>\n",
       "      <th>50%</th>\n",
       "      <td>0.000000</td>\n",
       "    </tr>\n",
       "    <tr>\n",
       "      <th>75%</th>\n",
       "      <td>0.000000</td>\n",
       "    </tr>\n",
       "    <tr>\n",
       "      <th>max</th>\n",
       "      <td>43.682484</td>\n",
       "    </tr>\n",
       "  </tbody>\n",
       "</table>\n",
       "</div>"
      ],
      "text/plain": [
       "             calib\n",
       "count  2704.000000\n",
       "mean      0.224944\n",
       "std       1.872875\n",
       "min       0.000000\n",
       "25%       0.000000\n",
       "50%       0.000000\n",
       "75%       0.000000\n",
       "max      43.682484"
      ]
     },
     "execution_count": 7,
     "metadata": {},
     "output_type": "execute_result"
    }
   ],
   "source": [
    "calib.describe()"
   ]
  },
  {
   "cell_type": "code",
   "execution_count": 8,
   "id": "52803680-85d8-4d29-8b80-9f68cb82bfe5",
   "metadata": {},
   "outputs": [
    {
     "data": {
      "text/html": [
       "<div>\n",
       "<style scoped>\n",
       "    .dataframe tbody tr th:only-of-type {\n",
       "        vertical-align: middle;\n",
       "    }\n",
       "\n",
       "    .dataframe tbody tr th {\n",
       "        vertical-align: top;\n",
       "    }\n",
       "\n",
       "    .dataframe thead th {\n",
       "        text-align: right;\n",
       "    }\n",
       "</style>\n",
       "<table border=\"1\" class=\"dataframe\">\n",
       "  <thead>\n",
       "    <tr style=\"text-align: right;\">\n",
       "      <th></th>\n",
       "      <th>tc</th>\n",
       "    </tr>\n",
       "  </thead>\n",
       "  <tbody>\n",
       "    <tr>\n",
       "      <th>count</th>\n",
       "      <td>2704.000000</td>\n",
       "    </tr>\n",
       "    <tr>\n",
       "      <th>mean</th>\n",
       "      <td>164.525293</td>\n",
       "    </tr>\n",
       "    <tr>\n",
       "      <th>std</th>\n",
       "      <td>59.163992</td>\n",
       "    </tr>\n",
       "    <tr>\n",
       "      <th>min</th>\n",
       "      <td>14.016404</td>\n",
       "    </tr>\n",
       "    <tr>\n",
       "      <th>25%</th>\n",
       "      <td>123.705669</td>\n",
       "    </tr>\n",
       "    <tr>\n",
       "      <th>50%</th>\n",
       "      <td>154.037214</td>\n",
       "    </tr>\n",
       "    <tr>\n",
       "      <th>75%</th>\n",
       "      <td>193.503371</td>\n",
       "    </tr>\n",
       "    <tr>\n",
       "      <th>max</th>\n",
       "      <td>487.202825</td>\n",
       "    </tr>\n",
       "  </tbody>\n",
       "</table>\n",
       "</div>"
      ],
      "text/plain": [
       "                tc\n",
       "count  2704.000000\n",
       "mean    164.525293\n",
       "std      59.163992\n",
       "min      14.016404\n",
       "25%     123.705669\n",
       "50%     154.037214\n",
       "75%     193.503371\n",
       "max     487.202825"
      ]
     },
     "execution_count": 8,
     "metadata": {},
     "output_type": "execute_result"
    }
   ],
   "source": [
    "tc.describe()"
   ]
  },
  {
   "cell_type": "code",
   "execution_count": 9,
   "id": "c3ce3ca3-fed0-40e5-9cb3-c4a59cd87932",
   "metadata": {},
   "outputs": [
    {
     "data": {
      "text/html": [
       "<div>\n",
       "<style scoped>\n",
       "    .dataframe tbody tr th:only-of-type {\n",
       "        vertical-align: middle;\n",
       "    }\n",
       "\n",
       "    .dataframe tbody tr th {\n",
       "        vertical-align: top;\n",
       "    }\n",
       "\n",
       "    .dataframe thead th {\n",
       "        text-align: right;\n",
       "    }\n",
       "</style>\n",
       "<table border=\"1\" class=\"dataframe\">\n",
       "  <thead>\n",
       "    <tr style=\"text-align: right;\">\n",
       "      <th></th>\n",
       "      <th>conprice</th>\n",
       "    </tr>\n",
       "  </thead>\n",
       "  <tbody>\n",
       "    <tr>\n",
       "      <th>count</th>\n",
       "      <td>52.000000</td>\n",
       "    </tr>\n",
       "    <tr>\n",
       "      <th>mean</th>\n",
       "      <td>567.416100</td>\n",
       "    </tr>\n",
       "    <tr>\n",
       "      <th>std</th>\n",
       "      <td>153.343946</td>\n",
       "    </tr>\n",
       "    <tr>\n",
       "      <th>min</th>\n",
       "      <td>301.969692</td>\n",
       "    </tr>\n",
       "    <tr>\n",
       "      <th>25%</th>\n",
       "      <td>450.367618</td>\n",
       "    </tr>\n",
       "    <tr>\n",
       "      <th>50%</th>\n",
       "      <td>562.345905</td>\n",
       "    </tr>\n",
       "    <tr>\n",
       "      <th>75%</th>\n",
       "      <td>687.185466</td>\n",
       "    </tr>\n",
       "    <tr>\n",
       "      <th>max</th>\n",
       "      <td>927.435182</td>\n",
       "    </tr>\n",
       "  </tbody>\n",
       "</table>\n",
       "</div>"
      ],
      "text/plain": [
       "         conprice\n",
       "count   52.000000\n",
       "mean   567.416100\n",
       "std    153.343946\n",
       "min    301.969692\n",
       "25%    450.367618\n",
       "50%    562.345905\n",
       "75%    687.185466\n",
       "max    927.435182"
      ]
     },
     "execution_count": 9,
     "metadata": {},
     "output_type": "execute_result"
    }
   ],
   "source": [
    "conprice.describe()"
   ]
  },
  {
   "cell_type": "code",
   "execution_count": 10,
   "id": "a0200632-8b37-450f-b76d-ee57f4f767a9",
   "metadata": {},
   "outputs": [
    {
     "data": {
      "text/html": [
       "<div>\n",
       "<style scoped>\n",
       "    .dataframe tbody tr th:only-of-type {\n",
       "        vertical-align: middle;\n",
       "    }\n",
       "\n",
       "    .dataframe tbody tr th {\n",
       "        vertical-align: top;\n",
       "    }\n",
       "\n",
       "    .dataframe thead th {\n",
       "        text-align: right;\n",
       "    }\n",
       "</style>\n",
       "<table border=\"1\" class=\"dataframe\">\n",
       "  <thead>\n",
       "    <tr style=\"text-align: right;\">\n",
       "      <th></th>\n",
       "      <th>prodprice</th>\n",
       "    </tr>\n",
       "  </thead>\n",
       "  <tbody>\n",
       "    <tr>\n",
       "      <th>count</th>\n",
       "      <td>52.000000</td>\n",
       "    </tr>\n",
       "    <tr>\n",
       "      <th>mean</th>\n",
       "      <td>988.744774</td>\n",
       "    </tr>\n",
       "    <tr>\n",
       "      <th>std</th>\n",
       "      <td>481.379378</td>\n",
       "    </tr>\n",
       "    <tr>\n",
       "      <th>min</th>\n",
       "      <td>270.013694</td>\n",
       "    </tr>\n",
       "    <tr>\n",
       "      <th>25%</th>\n",
       "      <td>661.314625</td>\n",
       "    </tr>\n",
       "    <tr>\n",
       "      <th>50%</th>\n",
       "      <td>975.086061</td>\n",
       "    </tr>\n",
       "    <tr>\n",
       "      <th>75%</th>\n",
       "      <td>1258.268598</td>\n",
       "    </tr>\n",
       "    <tr>\n",
       "      <th>max</th>\n",
       "      <td>2507.761522</td>\n",
       "    </tr>\n",
       "  </tbody>\n",
       "</table>\n",
       "</div>"
      ],
      "text/plain": [
       "         prodprice\n",
       "count    52.000000\n",
       "mean    988.744774\n",
       "std     481.379378\n",
       "min     270.013694\n",
       "25%     661.314625\n",
       "50%     975.086061\n",
       "75%    1258.268598\n",
       "max    2507.761522"
      ]
     },
     "execution_count": 10,
     "metadata": {},
     "output_type": "execute_result"
    }
   ],
   "source": [
    "prodprice.describe()"
   ]
  },
  {
   "cell_type": "code",
   "execution_count": 11,
   "id": "faab6cd5-61ec-4c06-b29e-fbe5cdeb3f15",
   "metadata": {},
   "outputs": [
    {
     "data": {
      "text/html": [
       "<div>\n",
       "<style scoped>\n",
       "    .dataframe tbody tr th:only-of-type {\n",
       "        vertical-align: middle;\n",
       "    }\n",
       "\n",
       "    .dataframe tbody tr th {\n",
       "        vertical-align: top;\n",
       "    }\n",
       "\n",
       "    .dataframe thead th {\n",
       "        text-align: right;\n",
       "    }\n",
       "</style>\n",
       "<table border=\"1\" class=\"dataframe\">\n",
       "  <thead>\n",
       "    <tr style=\"text-align: right;\">\n",
       "      <th></th>\n",
       "      <th>from_abbreviation</th>\n",
       "      <th>to_abbreviation</th>\n",
       "      <th>calib</th>\n",
       "    </tr>\n",
       "  </thead>\n",
       "  <tbody>\n",
       "    <tr>\n",
       "      <th>430</th>\n",
       "      <td>G09</td>\n",
       "      <td>G15</td>\n",
       "      <td>0.472777</td>\n",
       "    </tr>\n",
       "    <tr>\n",
       "      <th>1328</th>\n",
       "      <td>G26</td>\n",
       "      <td>G29</td>\n",
       "      <td>0.473876</td>\n",
       "    </tr>\n",
       "    <tr>\n",
       "      <th>1060</th>\n",
       "      <td>G21</td>\n",
       "      <td>G21</td>\n",
       "      <td>0.492312</td>\n",
       "    </tr>\n",
       "    <tr>\n",
       "      <th>1625</th>\n",
       "      <td>G32</td>\n",
       "      <td>G14</td>\n",
       "      <td>0.497200</td>\n",
       "    </tr>\n",
       "    <tr>\n",
       "      <th>256</th>\n",
       "      <td>G05</td>\n",
       "      <td>G49</td>\n",
       "      <td>0.529313</td>\n",
       "    </tr>\n",
       "    <tr>\n",
       "      <th>...</th>\n",
       "      <td>...</td>\n",
       "      <td>...</td>\n",
       "      <td>...</td>\n",
       "    </tr>\n",
       "    <tr>\n",
       "      <th>198</th>\n",
       "      <td>G04</td>\n",
       "      <td>G43</td>\n",
       "      <td>20.956221</td>\n",
       "    </tr>\n",
       "    <tr>\n",
       "      <th>808</th>\n",
       "      <td>G16</td>\n",
       "      <td>G29</td>\n",
       "      <td>21.902574</td>\n",
       "    </tr>\n",
       "    <tr>\n",
       "      <th>178</th>\n",
       "      <td>G04</td>\n",
       "      <td>G23</td>\n",
       "      <td>30.458533</td>\n",
       "    </tr>\n",
       "    <tr>\n",
       "      <th>2460</th>\n",
       "      <td>G48</td>\n",
       "      <td>G17</td>\n",
       "      <td>34.950122</td>\n",
       "    </tr>\n",
       "    <tr>\n",
       "      <th>2466</th>\n",
       "      <td>G48</td>\n",
       "      <td>G23</td>\n",
       "      <td>43.682484</td>\n",
       "    </tr>\n",
       "  </tbody>\n",
       "</table>\n",
       "<p>100 rows × 3 columns</p>\n",
       "</div>"
      ],
      "text/plain": [
       "     from_abbreviation to_abbreviation      calib\n",
       "430                G09             G15   0.472777\n",
       "1328               G26             G29   0.473876\n",
       "1060               G21             G21   0.492312\n",
       "1625               G32             G14   0.497200\n",
       "256                G05             G49   0.529313\n",
       "...                ...             ...        ...\n",
       "198                G04             G43  20.956221\n",
       "808                G16             G29  21.902574\n",
       "178                G04             G23  30.458533\n",
       "2460               G48             G17  34.950122\n",
       "2466               G48             G23  43.682484\n",
       "\n",
       "[100 rows x 3 columns]"
      ]
     },
     "execution_count": 11,
     "metadata": {},
     "output_type": "execute_result"
    }
   ],
   "source": [
    "calib.sort_values('calib').tail(100)"
   ]
  },
  {
   "cell_type": "code",
   "execution_count": 12,
   "id": "f2e24dca-b170-4624-8883-d3050fd316d6",
   "metadata": {},
   "outputs": [
    {
     "data": {
      "text/html": [
       "<div>\n",
       "<style scoped>\n",
       "    .dataframe tbody tr th:only-of-type {\n",
       "        vertical-align: middle;\n",
       "    }\n",
       "\n",
       "    .dataframe tbody tr th {\n",
       "        vertical-align: top;\n",
       "    }\n",
       "\n",
       "    .dataframe thead th {\n",
       "        text-align: right;\n",
       "    }\n",
       "</style>\n",
       "<table border=\"1\" class=\"dataframe\">\n",
       "  <thead>\n",
       "    <tr style=\"text-align: right;\">\n",
       "      <th></th>\n",
       "      <th>trade_USD_t</th>\n",
       "    </tr>\n",
       "  </thead>\n",
       "  <tbody>\n",
       "    <tr>\n",
       "      <th>count</th>\n",
       "      <td>2704.000000</td>\n",
       "    </tr>\n",
       "    <tr>\n",
       "      <th>mean</th>\n",
       "      <td>164.422307</td>\n",
       "    </tr>\n",
       "    <tr>\n",
       "      <th>std</th>\n",
       "      <td>59.125416</td>\n",
       "    </tr>\n",
       "    <tr>\n",
       "      <th>min</th>\n",
       "      <td>20.662449</td>\n",
       "    </tr>\n",
       "    <tr>\n",
       "      <th>25%</th>\n",
       "      <td>123.078758</td>\n",
       "    </tr>\n",
       "    <tr>\n",
       "      <th>50%</th>\n",
       "      <td>153.826487</td>\n",
       "    </tr>\n",
       "    <tr>\n",
       "      <th>75%</th>\n",
       "      <td>193.297088</td>\n",
       "    </tr>\n",
       "    <tr>\n",
       "      <th>max</th>\n",
       "      <td>487.202836</td>\n",
       "    </tr>\n",
       "  </tbody>\n",
       "</table>\n",
       "</div>"
      ],
      "text/plain": [
       "       trade_USD_t\n",
       "count  2704.000000\n",
       "mean    164.422307\n",
       "std      59.125416\n",
       "min      20.662449\n",
       "25%     123.078758\n",
       "50%     153.826487\n",
       "75%     193.297088\n",
       "max     487.202836"
      ]
     },
     "execution_count": 12,
     "metadata": {},
     "output_type": "execute_result"
    }
   ],
   "source": [
    "df_bil[['trade_USD_t']].describe()"
   ]
  },
  {
   "cell_type": "code",
   "execution_count": 13,
   "id": "e9563401-6cd3-4f83-beba-243d19492654",
   "metadata": {},
   "outputs": [
    {
     "data": {
      "text/plain": [
       "count      52.000000\n",
       "mean      988.041768\n",
       "std       490.929813\n",
       "min       245.141757\n",
       "25%       687.661551\n",
       "50%       975.774390\n",
       "75%      1260.904224\n",
       "max      2507.841736\n",
       "Name: prod_price_USD_t, dtype: float64"
      ]
     },
     "execution_count": 13,
     "metadata": {},
     "output_type": "execute_result"
    }
   ],
   "source": [
    "df_country['prod_price_USD_t'].describe()"
   ]
  },
  {
   "cell_type": "code",
   "execution_count": 14,
   "id": "000d19b8-79bf-4ec2-b986-58d079846838",
   "metadata": {},
   "outputs": [
    {
     "data": {
      "text/plain": [
       "0.9980827624071233"
      ]
     },
     "execution_count": 14,
     "metadata": {},
     "output_type": "execute_result"
    }
   ],
   "source": [
    "d = df_bil[['from_abbreviation', 'to_abbreviation', 'trade_USD_t']].merge(tc)\n",
    "r2_score(d['trade_USD_t'], d['tc'])"
   ]
  },
  {
   "cell_type": "code",
   "execution_count": 15,
   "id": "f6f82902-cdc3-486f-a77e-3a0e9ce1511b",
   "metadata": {},
   "outputs": [
    {
     "data": {
      "text/plain": [
       "2.588402760250056"
      ]
     },
     "execution_count": 15,
     "metadata": {},
     "output_type": "execute_result"
    }
   ],
   "source": [
    "np.sqrt(mean_squared_error(d['trade_USD_t'], d['tc']))"
   ]
  },
  {
   "cell_type": "code",
   "execution_count": 16,
   "id": "85e73ad0-9950-4708-8789-76eae6ffc690",
   "metadata": {},
   "outputs": [
    {
     "data": {
      "text/plain": [
       "0.9974386053414546"
      ]
     },
     "execution_count": 16,
     "metadata": {},
     "output_type": "execute_result"
    }
   ],
   "source": [
    "d = df_country[['abbreviation', 'prod_price_USD_t']].merge(prodprice)\n",
    "r2_score(d['prod_price_USD_t'], d['prodprice'])"
   ]
  },
  {
   "cell_type": "code",
   "execution_count": 17,
   "id": "d77a84de-8fc7-433e-9ff7-55fc0a56e352",
   "metadata": {},
   "outputs": [
    {
     "data": {
      "text/plain": [
       "24.60600299950381"
      ]
     },
     "execution_count": 17,
     "metadata": {},
     "output_type": "execute_result"
    }
   ],
   "source": [
    "np.sqrt(mean_squared_error(d['prod_price_USD_t'], d['prodprice']))"
   ]
  },
  {
   "cell_type": "code",
   "execution_count": 18,
   "id": "6e3d2dfe-ded9-4dbd-8e39-163250a49355",
   "metadata": {},
   "outputs": [],
   "source": [
    "df_bil = df_bil.merge(trade_cal)"
   ]
  },
  {
   "cell_type": "code",
   "execution_count": 19,
   "id": "a28bd214-c398-4c2a-9acf-7bfea3c09de2",
   "metadata": {},
   "outputs": [
    {
     "data": {
      "text/html": [
       "<div>\n",
       "<style scoped>\n",
       "    .dataframe tbody tr th:only-of-type {\n",
       "        vertical-align: middle;\n",
       "    }\n",
       "\n",
       "    .dataframe tbody tr th {\n",
       "        vertical-align: top;\n",
       "    }\n",
       "\n",
       "    .dataframe thead th {\n",
       "        text-align: right;\n",
       "    }\n",
       "</style>\n",
       "<table border=\"1\" class=\"dataframe\">\n",
       "  <thead>\n",
       "    <tr style=\"text-align: right;\">\n",
       "      <th></th>\n",
       "      <th>q_calib</th>\n",
       "      <th>trade_cal</th>\n",
       "    </tr>\n",
       "  </thead>\n",
       "  <tbody>\n",
       "    <tr>\n",
       "      <th>count</th>\n",
       "      <td>2.704000e+03</td>\n",
       "      <td>2.704000e+03</td>\n",
       "    </tr>\n",
       "    <tr>\n",
       "      <th>mean</th>\n",
       "      <td>1.234991e+04</td>\n",
       "      <td>1.235658e+04</td>\n",
       "    </tr>\n",
       "    <tr>\n",
       "      <th>std</th>\n",
       "      <td>1.747372e+05</td>\n",
       "      <td>1.747234e+05</td>\n",
       "    </tr>\n",
       "    <tr>\n",
       "      <th>min</th>\n",
       "      <td>0.000000e+00</td>\n",
       "      <td>1.000000e+00</td>\n",
       "    </tr>\n",
       "    <tr>\n",
       "      <th>25%</th>\n",
       "      <td>2.711874e-02</td>\n",
       "      <td>1.000000e+00</td>\n",
       "    </tr>\n",
       "    <tr>\n",
       "      <th>50%</th>\n",
       "      <td>1.642511e+00</td>\n",
       "      <td>1.000000e+00</td>\n",
       "    </tr>\n",
       "    <tr>\n",
       "      <th>75%</th>\n",
       "      <td>1.084856e+02</td>\n",
       "      <td>7.250000e+01</td>\n",
       "    </tr>\n",
       "    <tr>\n",
       "      <th>max</th>\n",
       "      <td>5.900894e+06</td>\n",
       "      <td>5.900498e+06</td>\n",
       "    </tr>\n",
       "  </tbody>\n",
       "</table>\n",
       "</div>"
      ],
      "text/plain": [
       "            q_calib     trade_cal\n",
       "count  2.704000e+03  2.704000e+03\n",
       "mean   1.234991e+04  1.235658e+04\n",
       "std    1.747372e+05  1.747234e+05\n",
       "min    0.000000e+00  1.000000e+00\n",
       "25%    2.711874e-02  1.000000e+00\n",
       "50%    1.642511e+00  1.000000e+00\n",
       "75%    1.084856e+02  7.250000e+01\n",
       "max    5.900894e+06  5.900498e+06"
      ]
     },
     "execution_count": 19,
     "metadata": {},
     "output_type": "execute_result"
    }
   ],
   "source": [
    "df_bil[['q_calib', 'trade_cal']].describe()"
   ]
  },
  {
   "cell_type": "code",
   "execution_count": 20,
   "id": "1f4cd2b4-f66e-4fe4-a264-0416abf78261",
   "metadata": {},
   "outputs": [
    {
     "data": {
      "text/plain": [
       "q_calib      3.339417e+07\n",
       "trade_cal    3.341219e+07\n",
       "dtype: float64"
      ]
     },
     "execution_count": 20,
     "metadata": {},
     "output_type": "execute_result"
    }
   ],
   "source": [
    "df_bil[['q_calib', 'trade_cal']].sum()"
   ]
  },
  {
   "cell_type": "code",
   "execution_count": 21,
   "id": "2a6def01-6752-4ecd-b749-8bee555aada2",
   "metadata": {},
   "outputs": [
    {
     "data": {
      "text/plain": [
       "q_calib      4.166576e+06\n",
       "trade_cal    4.198431e+06\n",
       "dtype: float64"
      ]
     },
     "execution_count": 21,
     "metadata": {},
     "output_type": "execute_result"
    }
   ],
   "source": [
    "df_bil[df_bil['from_abbreviation']!=df_bil['to_abbreviation']][['q_calib', 'trade_cal']].sum()"
   ]
  },
  {
   "cell_type": "code",
   "execution_count": 22,
   "id": "9c60ee24-a501-4625-b1b0-5f8565caad66",
   "metadata": {},
   "outputs": [
    {
     "data": {
      "text/plain": [
       "(1442, 10)"
      ]
     },
     "execution_count": 22,
     "metadata": {},
     "output_type": "execute_result"
    }
   ],
   "source": [
    "df_bil[df_bil['q_calib']>1].shape"
   ]
  },
  {
   "cell_type": "code",
   "execution_count": 23,
   "id": "6a3949ac-9495-446a-8553-0d83844d6d07",
   "metadata": {},
   "outputs": [
    {
     "data": {
      "text/plain": [
       "(854, 10)"
      ]
     },
     "execution_count": 23,
     "metadata": {},
     "output_type": "execute_result"
    }
   ],
   "source": [
    "df_bil[df_bil['trade_cal']>1].shape"
   ]
  },
  {
   "cell_type": "code",
   "execution_count": 24,
   "id": "d9027c49-7cb1-4fa5-a767-fa3f827c4a1e",
   "metadata": {},
   "outputs": [
    {
     "data": {
      "text/html": [
       "<div>\n",
       "<style scoped>\n",
       "    .dataframe tbody tr th:only-of-type {\n",
       "        vertical-align: middle;\n",
       "    }\n",
       "\n",
       "    .dataframe tbody tr th {\n",
       "        vertical-align: top;\n",
       "    }\n",
       "\n",
       "    .dataframe thead th {\n",
       "        text-align: right;\n",
       "    }\n",
       "</style>\n",
       "<table border=\"1\" class=\"dataframe\">\n",
       "  <thead>\n",
       "    <tr style=\"text-align: right;\">\n",
       "      <th></th>\n",
       "      <th>q_calib</th>\n",
       "      <th>trade_cal</th>\n",
       "    </tr>\n",
       "  </thead>\n",
       "  <tbody>\n",
       "    <tr>\n",
       "      <th>count</th>\n",
       "      <td>1.920000e+02</td>\n",
       "      <td>192.000000</td>\n",
       "    </tr>\n",
       "    <tr>\n",
       "      <th>mean</th>\n",
       "      <td>1.476782e-01</td>\n",
       "      <td>477.041667</td>\n",
       "    </tr>\n",
       "    <tr>\n",
       "      <th>std</th>\n",
       "      <td>2.276557e-01</td>\n",
       "      <td>797.931165</td>\n",
       "    </tr>\n",
       "    <tr>\n",
       "      <th>min</th>\n",
       "      <td>3.763926e-08</td>\n",
       "      <td>2.000000</td>\n",
       "    </tr>\n",
       "    <tr>\n",
       "      <th>25%</th>\n",
       "      <td>2.068387e-03</td>\n",
       "      <td>23.000000</td>\n",
       "    </tr>\n",
       "    <tr>\n",
       "      <th>50%</th>\n",
       "      <td>3.311484e-02</td>\n",
       "      <td>138.000000</td>\n",
       "    </tr>\n",
       "    <tr>\n",
       "      <th>75%</th>\n",
       "      <td>1.806308e-01</td>\n",
       "      <td>526.500000</td>\n",
       "    </tr>\n",
       "    <tr>\n",
       "      <th>max</th>\n",
       "      <td>9.894604e-01</td>\n",
       "      <td>4573.000000</td>\n",
       "    </tr>\n",
       "  </tbody>\n",
       "</table>\n",
       "</div>"
      ],
      "text/plain": [
       "            q_calib    trade_cal\n",
       "count  1.920000e+02   192.000000\n",
       "mean   1.476782e-01   477.041667\n",
       "std    2.276557e-01   797.931165\n",
       "min    3.763926e-08     2.000000\n",
       "25%    2.068387e-03    23.000000\n",
       "50%    3.311484e-02   138.000000\n",
       "75%    1.806308e-01   526.500000\n",
       "max    9.894604e-01  4573.000000"
      ]
     },
     "execution_count": 24,
     "metadata": {},
     "output_type": "execute_result"
    }
   ],
   "source": [
    "# false positives\n",
    "df_bil[(df_bil['trade_cal']>1) & (df_bil['q_calib']<=1)][['q_calib', 'trade_cal']].describe()"
   ]
  },
  {
   "cell_type": "code",
   "execution_count": 25,
   "id": "61a9d8df-ef29-4633-b5ba-c0325f6d1a2a",
   "metadata": {},
   "outputs": [
    {
     "data": {
      "text/html": [
       "<div>\n",
       "<style scoped>\n",
       "    .dataframe tbody tr th:only-of-type {\n",
       "        vertical-align: middle;\n",
       "    }\n",
       "\n",
       "    .dataframe tbody tr th {\n",
       "        vertical-align: top;\n",
       "    }\n",
       "\n",
       "    .dataframe thead th {\n",
       "        text-align: right;\n",
       "    }\n",
       "</style>\n",
       "<table border=\"1\" class=\"dataframe\">\n",
       "  <thead>\n",
       "    <tr style=\"text-align: right;\">\n",
       "      <th></th>\n",
       "      <th>from_abbreviation</th>\n",
       "      <th>to_abbreviation</th>\n",
       "      <th>IMPACT_code</th>\n",
       "      <th>q_calib</th>\n",
       "      <th>q_old</th>\n",
       "      <th>trade_USD_t</th>\n",
       "      <th>adv</th>\n",
       "      <th>trade_relationship</th>\n",
       "      <th>trade_relationship_old</th>\n",
       "      <th>trade_cal</th>\n",
       "    </tr>\n",
       "  </thead>\n",
       "  <tbody>\n",
       "    <tr>\n",
       "      <th>1101</th>\n",
       "      <td>G22</td>\n",
       "      <td>G10</td>\n",
       "      <td>jbean</td>\n",
       "      <td>0.044862</td>\n",
       "      <td>0.000216</td>\n",
       "      <td>132.157402</td>\n",
       "      <td>0.050000</td>\n",
       "      <td>1</td>\n",
       "      <td>1</td>\n",
       "      <td>3098.0</td>\n",
       "    </tr>\n",
       "    <tr>\n",
       "      <th>1309</th>\n",
       "      <td>G26</td>\n",
       "      <td>G10</td>\n",
       "      <td>jbean</td>\n",
       "      <td>0.091219</td>\n",
       "      <td>2.774586</td>\n",
       "      <td>131.447695</td>\n",
       "      <td>0.050000</td>\n",
       "      <td>1</td>\n",
       "      <td>1</td>\n",
       "      <td>3713.0</td>\n",
       "    </tr>\n",
       "    <tr>\n",
       "      <th>789</th>\n",
       "      <td>G16</td>\n",
       "      <td>G10</td>\n",
       "      <td>jbean</td>\n",
       "      <td>0.047379</td>\n",
       "      <td>6.528124</td>\n",
       "      <td>141.078878</td>\n",
       "      <td>0.050000</td>\n",
       "      <td>1</td>\n",
       "      <td>1</td>\n",
       "      <td>3971.0</td>\n",
       "    </tr>\n",
       "    <tr>\n",
       "      <th>1317</th>\n",
       "      <td>G26</td>\n",
       "      <td>G18</td>\n",
       "      <td>jbean</td>\n",
       "      <td>0.007913</td>\n",
       "      <td>23.141881</td>\n",
       "      <td>129.241044</td>\n",
       "      <td>0.195609</td>\n",
       "      <td>1</td>\n",
       "      <td>1</td>\n",
       "      <td>4081.0</td>\n",
       "    </tr>\n",
       "    <tr>\n",
       "      <th>1057</th>\n",
       "      <td>G21</td>\n",
       "      <td>G18</td>\n",
       "      <td>jbean</td>\n",
       "      <td>0.173911</td>\n",
       "      <td>45.663333</td>\n",
       "      <td>133.255393</td>\n",
       "      <td>0.246933</td>\n",
       "      <td>1</td>\n",
       "      <td>1</td>\n",
       "      <td>4573.0</td>\n",
       "    </tr>\n",
       "  </tbody>\n",
       "</table>\n",
       "</div>"
      ],
      "text/plain": [
       "     from_abbreviation to_abbreviation IMPACT_code   q_calib      q_old  \\\n",
       "1101               G22             G10       jbean  0.044862   0.000216   \n",
       "1309               G26             G10       jbean  0.091219   2.774586   \n",
       "789                G16             G10       jbean  0.047379   6.528124   \n",
       "1317               G26             G18       jbean  0.007913  23.141881   \n",
       "1057               G21             G18       jbean  0.173911  45.663333   \n",
       "\n",
       "      trade_USD_t       adv  trade_relationship  trade_relationship_old  \\\n",
       "1101   132.157402  0.050000                   1                       1   \n",
       "1309   131.447695  0.050000                   1                       1   \n",
       "789    141.078878  0.050000                   1                       1   \n",
       "1317   129.241044  0.195609                   1                       1   \n",
       "1057   133.255393  0.246933                   1                       1   \n",
       "\n",
       "      trade_cal  \n",
       "1101     3098.0  \n",
       "1309     3713.0  \n",
       "789      3971.0  \n",
       "1317     4081.0  \n",
       "1057     4573.0  "
      ]
     },
     "execution_count": 25,
     "metadata": {},
     "output_type": "execute_result"
    }
   ],
   "source": [
    "df_bil[(df_bil['trade_cal']>1) & (df_bil['q_calib']<=1)].sort_values('trade_cal').tail()"
   ]
  },
  {
   "cell_type": "code",
   "execution_count": 26,
   "id": "c6535dd9-16e8-4982-b3e6-a236b5495ad9",
   "metadata": {},
   "outputs": [
    {
     "data": {
      "text/html": [
       "<div>\n",
       "<style scoped>\n",
       "    .dataframe tbody tr th:only-of-type {\n",
       "        vertical-align: middle;\n",
       "    }\n",
       "\n",
       "    .dataframe tbody tr th {\n",
       "        vertical-align: top;\n",
       "    }\n",
       "\n",
       "    .dataframe thead th {\n",
       "        text-align: right;\n",
       "    }\n",
       "</style>\n",
       "<table border=\"1\" class=\"dataframe\">\n",
       "  <thead>\n",
       "    <tr style=\"text-align: right;\">\n",
       "      <th></th>\n",
       "      <th>q_calib</th>\n",
       "      <th>trade_cal</th>\n",
       "    </tr>\n",
       "  </thead>\n",
       "  <tbody>\n",
       "    <tr>\n",
       "      <th>count</th>\n",
       "      <td>780.000000</td>\n",
       "      <td>780.0</td>\n",
       "    </tr>\n",
       "    <tr>\n",
       "      <th>mean</th>\n",
       "      <td>63.364785</td>\n",
       "      <td>1.0</td>\n",
       "    </tr>\n",
       "    <tr>\n",
       "      <th>std</th>\n",
       "      <td>102.847828</td>\n",
       "      <td>0.0</td>\n",
       "    </tr>\n",
       "    <tr>\n",
       "      <th>min</th>\n",
       "      <td>1.011743</td>\n",
       "      <td>1.0</td>\n",
       "    </tr>\n",
       "    <tr>\n",
       "      <th>25%</th>\n",
       "      <td>4.094279</td>\n",
       "      <td>1.0</td>\n",
       "    </tr>\n",
       "    <tr>\n",
       "      <th>50%</th>\n",
       "      <td>18.996570</td>\n",
       "      <td>1.0</td>\n",
       "    </tr>\n",
       "    <tr>\n",
       "      <th>75%</th>\n",
       "      <td>79.492834</td>\n",
       "      <td>1.0</td>\n",
       "    </tr>\n",
       "    <tr>\n",
       "      <th>max</th>\n",
       "      <td>700.176997</td>\n",
       "      <td>1.0</td>\n",
       "    </tr>\n",
       "  </tbody>\n",
       "</table>\n",
       "</div>"
      ],
      "text/plain": [
       "          q_calib  trade_cal\n",
       "count  780.000000      780.0\n",
       "mean    63.364785        1.0\n",
       "std    102.847828        0.0\n",
       "min      1.011743        1.0\n",
       "25%      4.094279        1.0\n",
       "50%     18.996570        1.0\n",
       "75%     79.492834        1.0\n",
       "max    700.176997        1.0"
      ]
     },
     "execution_count": 26,
     "metadata": {},
     "output_type": "execute_result"
    }
   ],
   "source": [
    "# false negatives\n",
    "df_bil[(df_bil['trade_cal']==1) & (df_bil['q_calib']>1)][['q_calib', 'trade_cal']].describe()"
   ]
  },
  {
   "cell_type": "code",
   "execution_count": 27,
   "id": "8eba4ae4-f0bb-454b-aa09-6ca2e114513c",
   "metadata": {},
   "outputs": [
    {
     "data": {
      "text/html": [
       "<div>\n",
       "<style scoped>\n",
       "    .dataframe tbody tr th:only-of-type {\n",
       "        vertical-align: middle;\n",
       "    }\n",
       "\n",
       "    .dataframe tbody tr th {\n",
       "        vertical-align: top;\n",
       "    }\n",
       "\n",
       "    .dataframe thead th {\n",
       "        text-align: right;\n",
       "    }\n",
       "</style>\n",
       "<table border=\"1\" class=\"dataframe\">\n",
       "  <thead>\n",
       "    <tr style=\"text-align: right;\">\n",
       "      <th></th>\n",
       "      <th>from_abbreviation</th>\n",
       "      <th>to_abbreviation</th>\n",
       "      <th>IMPACT_code</th>\n",
       "      <th>q_calib</th>\n",
       "      <th>q_old</th>\n",
       "      <th>trade_USD_t</th>\n",
       "      <th>adv</th>\n",
       "      <th>trade_relationship</th>\n",
       "      <th>trade_relationship_old</th>\n",
       "      <th>trade_cal</th>\n",
       "    </tr>\n",
       "  </thead>\n",
       "  <tbody>\n",
       "    <tr>\n",
       "      <th>1170</th>\n",
       "      <td>G23</td>\n",
       "      <td>G27</td>\n",
       "      <td>jbean</td>\n",
       "      <td>617.093961</td>\n",
       "      <td>165.422380</td>\n",
       "      <td>218.164227</td>\n",
       "      <td>1.483494</td>\n",
       "      <td>1</td>\n",
       "      <td>1</td>\n",
       "      <td>1.0</td>\n",
       "    </tr>\n",
       "    <tr>\n",
       "      <th>2106</th>\n",
       "      <td>G41</td>\n",
       "      <td>G27</td>\n",
       "      <td>jbean</td>\n",
       "      <td>624.598642</td>\n",
       "      <td>496.497361</td>\n",
       "      <td>158.492827</td>\n",
       "      <td>1.030102</td>\n",
       "      <td>1</td>\n",
       "      <td>1</td>\n",
       "      <td>1.0</td>\n",
       "    </tr>\n",
       "    <tr>\n",
       "      <th>2130</th>\n",
       "      <td>G41</td>\n",
       "      <td>G51</td>\n",
       "      <td>jbean</td>\n",
       "      <td>633.757658</td>\n",
       "      <td>31.825731</td>\n",
       "      <td>164.754281</td>\n",
       "      <td>0.089901</td>\n",
       "      <td>1</td>\n",
       "      <td>1</td>\n",
       "      <td>1.0</td>\n",
       "    </tr>\n",
       "    <tr>\n",
       "      <th>1169</th>\n",
       "      <td>G23</td>\n",
       "      <td>G26</td>\n",
       "      <td>jbean</td>\n",
       "      <td>645.347632</td>\n",
       "      <td>177.098386</td>\n",
       "      <td>148.694112</td>\n",
       "      <td>0.000000</td>\n",
       "      <td>1</td>\n",
       "      <td>1</td>\n",
       "      <td>1.0</td>\n",
       "    </tr>\n",
       "    <tr>\n",
       "      <th>2122</th>\n",
       "      <td>G41</td>\n",
       "      <td>G43</td>\n",
       "      <td>jbean</td>\n",
       "      <td>700.176997</td>\n",
       "      <td>1.920330</td>\n",
       "      <td>166.350984</td>\n",
       "      <td>0.235140</td>\n",
       "      <td>1</td>\n",
       "      <td>1</td>\n",
       "      <td>1.0</td>\n",
       "    </tr>\n",
       "  </tbody>\n",
       "</table>\n",
       "</div>"
      ],
      "text/plain": [
       "     from_abbreviation to_abbreviation IMPACT_code     q_calib       q_old  \\\n",
       "1170               G23             G27       jbean  617.093961  165.422380   \n",
       "2106               G41             G27       jbean  624.598642  496.497361   \n",
       "2130               G41             G51       jbean  633.757658   31.825731   \n",
       "1169               G23             G26       jbean  645.347632  177.098386   \n",
       "2122               G41             G43       jbean  700.176997    1.920330   \n",
       "\n",
       "      trade_USD_t       adv  trade_relationship  trade_relationship_old  \\\n",
       "1170   218.164227  1.483494                   1                       1   \n",
       "2106   158.492827  1.030102                   1                       1   \n",
       "2130   164.754281  0.089901                   1                       1   \n",
       "1169   148.694112  0.000000                   1                       1   \n",
       "2122   166.350984  0.235140                   1                       1   \n",
       "\n",
       "      trade_cal  \n",
       "1170        1.0  \n",
       "2106        1.0  \n",
       "2130        1.0  \n",
       "1169        1.0  \n",
       "2122        1.0  "
      ]
     },
     "execution_count": 27,
     "metadata": {},
     "output_type": "execute_result"
    }
   ],
   "source": [
    "df_bil[(df_bil['trade_cal']==1) & (df_bil['q_calib']>1)].sort_values('q_calib').tail()"
   ]
  },
  {
   "cell_type": "code",
   "execution_count": 28,
   "id": "fc1e752b-45b0-4b5e-a09c-9fe653e601b4",
   "metadata": {},
   "outputs": [
    {
     "data": {
      "image/png": "[encoded data removed]",
      "text/plain": [
       "<Figure size 350x350 with 1 Axes>"
      ]
     },
     "metadata": {},
     "output_type": "display_data"
    }
   ],
   "source": [
    "fig, ax = plt.subplots(figsize = (3.5,3.5))\n",
    "plt.scatter(np.log(df_bil['trade_cal']), np.log(df_bil['q_calib']+1), s = 8, color = 'grey', alpha = 0.4, zorder = 3)\n",
    "plt.plot(np.linspace(0,16, 100), np.linspace(0,16, 100), color = 'k', lw = 0.5, zorder = 1)\n",
    "# plt.xlim(0, 12); \n",
    "plt.xlabel('Predicted trade ln(t)')\n",
    "# plt.ylim(0, 12); \n",
    "plt.ylabel('Observed trade ln(t)')\n",
    "plt.show()"
   ]
  },
  {
   "cell_type": "code",
   "execution_count": 30,
   "id": "e73df0c1-3c25-44b5-99fa-2bf80eca3822",
   "metadata": {},
   "outputs": [
    {
     "data": {
      "image/png": "[encoded data removed]",
      "text/plain": [
       "<Figure size 350x350 with 1 Axes>"
      ]
     },
     "metadata": {},
     "output_type": "display_data"
    }
   ],
   "source": [
    "fig, ax = plt.subplots(figsize = (3.5,3.5))\n",
    "plt.scatter(np.log(df_bil[df_bil['from_abbreviation']!=df_bil['to_abbreviation']]['trade_cal']), \n",
    "            np.log(df_bil[df_bil['from_abbreviation']!=df_bil['to_abbreviation']]['q_calib']+1), \n",
    "            s = 8, color = 'grey', alpha = 0.4, zorder = 3)\n",
    "plt.plot(np.linspace(0,16, 100), np.linspace(0,16, 100), color = 'k', lw = 0.5, zorder = 1)\n",
    "# plt.xlim(0, 12); \n",
    "plt.xlabel('Predicted trade ln(t)')\n",
    "# plt.ylim(0, 12); \n",
    "plt.ylabel('Observed trade ln(t)')\n",
    "plt.show()"
   ]
  },
  {
   "cell_type": "code",
   "execution_count": 31,
   "id": "badbc97e-4fa3-4af0-916a-0479dc90f6a6",
   "metadata": {},
   "outputs": [
    {
     "data": {
      "image/png": "[encoded data removed]",
      "text/plain": [
       "<Figure size 350x350 with 1 Axes>"
      ]
     },
     "metadata": {},
     "output_type": "display_data"
    }
   ],
   "source": [
    "fig, ax = plt.subplots(figsize = (3.5,3.5))\n",
    "plt.scatter(df_bil['trade_cal'], df_bil['q_calib'], s = 8, color = 'grey', alpha = 0.4, zorder = 3)\n",
    "# plt.plot(np.linspace(0,16, 100), np.linspace(0,16, 100), color = 'k', lw = 0.5, zorder = 1)\n",
    "# plt.xlim(0, 12); \n",
    "plt.xlabel('Predicted trade (t)')\n",
    "# plt.ylim(0, 12); \n",
    "plt.ylabel('Observed trade (t)')\n",
    "plt.show()"
   ]
  },
  {
   "cell_type": "code",
   "execution_count": 32,
   "id": "08a89e6f-ac92-4855-99dc-1d4987d0660a",
   "metadata": {},
   "outputs": [
    {
     "data": {
      "image/png": "[encoded data removed]",
      "text/plain": [
       "<Figure size 350x350 with 1 Axes>"
      ]
     },
     "metadata": {},
     "output_type": "display_data"
    }
   ],
   "source": [
    "fig, ax = plt.subplots(figsize = (3.5,3.5))\n",
    "plt.scatter(df_bil[df_bil['from_abbreviation']!=df_bil['to_abbreviation']]['trade_cal'], \n",
    "            df_bil[df_bil['from_abbreviation']!=df_bil['to_abbreviation']]['q_calib'], \n",
    "            s = 8, color = 'grey', alpha = 0.4, zorder = 3)\n",
    "# plt.plot(np.linspace(0,16, 100), np.linspace(0,16, 100), color = 'k', lw = 0.5, zorder = 1)\n",
    "# plt.xlim(0, 12); \n",
    "plt.xlabel('Predicted trade (t)')\n",
    "# plt.ylim(0, 12); \n",
    "plt.ylabel('Observed trade (t)')\n",
    "plt.show()"
   ]
  },
  {
   "cell_type": "code",
   "execution_count": null,
   "id": "661d5cee-8e92-4e2d-8ed7-f83f9c029733",
   "metadata": {},
   "outputs": [],
   "source": []
  },
  {
   "cell_type": "code",
   "execution_count": null,
   "id": "322f1c29-88f4-4d79-a81f-db9740c2715c",
   "metadata": {},
   "outputs": [],
   "source": []
  },
  {
   "cell_type": "code",
   "execution_count": null,
   "id": "ee9aa9a1-7b94-481f-b2a2-b51000daab0c",
   "metadata": {},
   "outputs": [],
   "source": []
  },
  {
   "cell_type": "code",
   "execution_count": null,
   "id": "38d375a8-49db-44c0-9c75-ed705e096ede",
   "metadata": {},
   "outputs": [],
   "source": []
  },
  {
   "cell_type": "code",
   "execution_count": 695,
   "id": "405067bd-6d8f-47b9-9c5e-f0734aea0b2b",
   "metadata": {},
   "outputs": [],
   "source": [
    "model_output = pd.read_csv('../../OPSIS/Data/Future_production_demand_data/IMPACT-output/IFPRI_model_output.csv')"
   ]
  },
  {
   "cell_type": "code",
   "execution_count": 696,
   "id": "1af1fe23-d9e3-444e-a039-a86f6e638df5",
   "metadata": {},
   "outputs": [
    {
     "data": {
      "text/html": [
       "<div>\n",
       "<style scoped>\n",
       "    .dataframe tbody tr th:only-of-type {\n",
       "        vertical-align: middle;\n",
       "    }\n",
       "\n",
       "    .dataframe tbody tr th {\n",
       "        vertical-align: top;\n",
       "    }\n",
       "\n",
       "    .dataframe thead th {\n",
       "        text-align: right;\n",
       "    }\n",
       "</style>\n",
       "<table border=\"1\" class=\"dataframe\">\n",
       "  <thead>\n",
       "    <tr style=\"text-align: right;\">\n",
       "      <th></th>\n",
       "      <th>Region</th>\n",
       "      <th>Commodity</th>\n",
       "      <th>SSP</th>\n",
       "      <th>Scenario</th>\n",
       "      <th>Impactparameter</th>\n",
       "      <th>Year</th>\n",
       "      <th>Val</th>\n",
       "    </tr>\n",
       "  </thead>\n",
       "  <tbody>\n",
       "    <tr>\n",
       "      <th>0</th>\n",
       "      <td>EAP-Australia</td>\n",
       "      <td>AMT-Beef</td>\n",
       "      <td>SSP1</td>\n",
       "      <td>SSP1-RCP8.5-HGEM</td>\n",
       "      <td>QSupXAgg -- Commodity Supply</td>\n",
       "      <td>2050</td>\n",
       "      <td>3238.019688</td>\n",
       "    </tr>\n",
       "    <tr>\n",
       "      <th>1</th>\n",
       "      <td>EAP-Australia</td>\n",
       "      <td>AMT-Beef</td>\n",
       "      <td>SSP1</td>\n",
       "      <td>SSP1-NoCC</td>\n",
       "      <td>QSupXAgg -- Commodity Supply</td>\n",
       "      <td>2050</td>\n",
       "      <td>3301.767951</td>\n",
       "    </tr>\n",
       "    <tr>\n",
       "      <th>2</th>\n",
       "      <td>EAP-Australia</td>\n",
       "      <td>AMT-Beef</td>\n",
       "      <td>SSP1</td>\n",
       "      <td>SSP1-RCP8.5-HGEM</td>\n",
       "      <td>QSupXAgg -- Commodity Supply</td>\n",
       "      <td>2040</td>\n",
       "      <td>3061.296240</td>\n",
       "    </tr>\n",
       "    <tr>\n",
       "      <th>3</th>\n",
       "      <td>EAP-Australia</td>\n",
       "      <td>AMT-Beef</td>\n",
       "      <td>SSP1</td>\n",
       "      <td>SSP1-NoCC</td>\n",
       "      <td>QSupXAgg -- Commodity Supply</td>\n",
       "      <td>2040</td>\n",
       "      <td>3097.548293</td>\n",
       "    </tr>\n",
       "    <tr>\n",
       "      <th>4</th>\n",
       "      <td>EAP-Australia</td>\n",
       "      <td>AMT-Beef</td>\n",
       "      <td>SSP1</td>\n",
       "      <td>SSP1-RCP8.5-HGEM</td>\n",
       "      <td>QSupXAgg -- Commodity Supply</td>\n",
       "      <td>2030</td>\n",
       "      <td>2807.102095</td>\n",
       "    </tr>\n",
       "  </tbody>\n",
       "</table>\n",
       "</div>"
      ],
      "text/plain": [
       "          Region Commodity   SSP          Scenario  \\\n",
       "0  EAP-Australia  AMT-Beef  SSP1  SSP1-RCP8.5-HGEM   \n",
       "1  EAP-Australia  AMT-Beef  SSP1         SSP1-NoCC   \n",
       "2  EAP-Australia  AMT-Beef  SSP1  SSP1-RCP8.5-HGEM   \n",
       "3  EAP-Australia  AMT-Beef  SSP1         SSP1-NoCC   \n",
       "4  EAP-Australia  AMT-Beef  SSP1  SSP1-RCP8.5-HGEM   \n",
       "\n",
       "                Impactparameter  Year          Val  \n",
       "0  QSupXAgg -- Commodity Supply  2050  3238.019688  \n",
       "1  QSupXAgg -- Commodity Supply  2050  3301.767951  \n",
       "2  QSupXAgg -- Commodity Supply  2040  3061.296240  \n",
       "3  QSupXAgg -- Commodity Supply  2040  3097.548293  \n",
       "4  QSupXAgg -- Commodity Supply  2030  2807.102095  "
      ]
     },
     "execution_count": 696,
     "metadata": {},
     "output_type": "execute_result"
    }
   ],
   "source": [
    "model_output.head()"
   ]
  },
  {
   "cell_type": "code",
   "execution_count": 697,
   "id": "70955429-f451-4928-8946-deae3254a3eb",
   "metadata": {},
   "outputs": [
    {
     "name": "stdout",
     "output_type": "stream",
     "text": [
      "380064\n",
      "380064\n"
     ]
    }
   ],
   "source": [
    "### only for SSP2 multiple model runs, take output from 2010 out ###\n",
    "SSP2 = model_output[(model_output['SSP']=='SSP2')&(model_output['Scenario']!='SSP2-RCP4.5-HGEM')&(model_output['Year']>2010)].reset_index(drop = True)\n",
    "\n",
    "### process variables nicely ###\n",
    "SSP2['Commodity_code'],SSP2['Commodity_name'] = SSP2['Commodity'].str.split('-', expand = True)[0],SSP2['Commodity'].str.split('-', expand = True)[1]\n",
    "SSP2['Commodity_name'] = SSP2['Commodity_name'].str.replace(' ', '')\n",
    "SSP2['Var_code'],SSP2['Var_name'] = SSP2['Impactparameter'].str.split(' -- ', expand = True)[0],SSP2['Impactparameter'].str.split(' -- ', expand = True)[1]\n",
    "\n",
    "### remove unpacked columns\n",
    "SSP2 = SSP2.drop(columns = ['Commodity','Impactparameter']).rename(columns = {'Commodity_name':'IMPACT_name'})\n",
    "\n",
    "## set baseline ##\n",
    "SSP2_2020 = SSP2[SSP2['Year']==2020][['Region','Commodity_code','IMPACT_name','Var_code','Var_name','Scenario','Val']].reset_index(drop = True).copy().rename(columns = {'Val':'Val_baseline'})\n",
    "print(len(SSP2))\n",
    "SSP2 = SSP2.merge(SSP2_2020, on = ['Region','Commodity_code','IMPACT_name','Var_code','Var_name','Scenario'], how = 'left')\n",
    "\n",
    "### drop duplicates ##\n",
    "#SSP2 = SSP2.drop_duplicates(subset = ['Scenario','Year','Region','IMPACT_name','Var_name'])\n",
    "print(len(SSP2))\n"
   ]
  },
  {
   "cell_type": "code",
   "execution_count": 698,
   "id": "ad3f425e-9004-4ffc-aba5-9f1682d00126",
   "metadata": {},
   "outputs": [
    {
     "data": {
      "text/plain": [
       "array(['Commodity Supply', 'Total Demand', 'Animal Yield', 'Total Yield'],\n",
       "      dtype=object)"
      ]
     },
     "execution_count": 698,
     "metadata": {},
     "output_type": "execute_result"
    }
   ],
   "source": [
    "SSP2['Var_name'].unique()"
   ]
  },
  {
   "cell_type": "code",
   "execution_count": 699,
   "id": "93818c2e-3456-4941-970a-d364a0c0b2b1",
   "metadata": {},
   "outputs": [
    {
     "data": {
      "text/plain": [
       "array(['QSupXAgg', 'QDXAgg', 'AnmlYldXAgg', 'TYldXAgg'], dtype=object)"
      ]
     },
     "execution_count": 699,
     "metadata": {},
     "output_type": "execute_result"
    }
   ],
   "source": [
    "SSP2['Var_code'].unique()"
   ]
  },
  {
   "cell_type": "code",
   "execution_count": 700,
   "id": "b279d84e-960e-4146-b6fc-6781e8bc0cd9",
   "metadata": {},
   "outputs": [
    {
     "data": {
      "text/plain": [
       "array([2050, 2040, 2030, 2020])"
      ]
     },
     "execution_count": 700,
     "metadata": {},
     "output_type": "execute_result"
    }
   ],
   "source": [
    "SSP2['Year'].unique()"
   ]
  },
  {
   "cell_type": "code",
   "execution_count": 701,
   "id": "cbdf4ca9-a86f-4314-ac47-d33d2242cc26",
   "metadata": {},
   "outputs": [
    {
     "data": {
      "text/plain": [
       "array(['Beef', 'Lamb', 'Pork', 'Poultry', 'Dairy', 'Eggs', 'Barley',\n",
       "       'Maize', 'Millet', 'OtherCereals', 'Rice', 'Sorghum', 'Wheat',\n",
       "       'Cacao', 'Coffee', 'Cotton', 'Other', 'Tea', 'Banana',\n",
       "       'TemperateFruit', 'TropicalFruit', 'Vegetables', 'Groundnutmeal',\n",
       "       'Othermeals', 'PalmKernelMeal', 'RapeseedMeal', 'SoybeanMeal',\n",
       "       'SunflowerMeal', 'GroundnutOil', 'OtherOils', 'PalmFruitOil',\n",
       "       'PalmKernelOil', 'RapeseedOil', 'SoybeanOil', 'SunflowerOil',\n",
       "       'Groundnut', 'OtherOilseeds', 'Rapeseed', 'Soybean', 'Sunflower',\n",
       "       'Beans', 'Chickpeas', 'Lentils', 'OtherPulses', 'Cassava',\n",
       "       'OtherRoots', 'Potato', 'SweetPotato', 'Sugarcane', 'Sugar',\n",
       "       'PalmFruit', 'PalmKernel'], dtype=object)"
      ]
     },
     "execution_count": 701,
     "metadata": {},
     "output_type": "execute_result"
    }
   ],
   "source": [
    "SSP2['IMPACT_name'].unique()"
   ]
  },
  {
   "cell_type": "code",
   "execution_count": 702,
   "id": "596dcff4-5348-4fca-807e-356a04980e4c",
   "metadata": {},
   "outputs": [
    {
     "data": {
      "text/html": [
       "<div>\n",
       "<style scoped>\n",
       "    .dataframe tbody tr th:only-of-type {\n",
       "        vertical-align: middle;\n",
       "    }\n",
       "\n",
       "    .dataframe tbody tr th {\n",
       "        vertical-align: top;\n",
       "    }\n",
       "\n",
       "    .dataframe thead th {\n",
       "        text-align: right;\n",
       "    }\n",
       "</style>\n",
       "<table border=\"1\" class=\"dataframe\">\n",
       "  <thead>\n",
       "    <tr style=\"text-align: right;\">\n",
       "      <th></th>\n",
       "      <th>Region</th>\n",
       "      <th>SSP</th>\n",
       "      <th>Scenario</th>\n",
       "      <th>Year</th>\n",
       "      <th>Val</th>\n",
       "      <th>Commodity_code</th>\n",
       "      <th>IMPACT_name</th>\n",
       "      <th>Var_code</th>\n",
       "      <th>Var_name</th>\n",
       "      <th>Val_baseline</th>\n",
       "    </tr>\n",
       "  </thead>\n",
       "  <tbody>\n",
       "    <tr>\n",
       "      <th>0</th>\n",
       "      <td>EAP-Australia</td>\n",
       "      <td>SSP2</td>\n",
       "      <td>SSP2-RCP8.5-NORE</td>\n",
       "      <td>2050</td>\n",
       "      <td>3171.699220</td>\n",
       "      <td>AMT</td>\n",
       "      <td>Beef</td>\n",
       "      <td>QSupXAgg</td>\n",
       "      <td>Commodity Supply</td>\n",
       "      <td>2529.411069</td>\n",
       "    </tr>\n",
       "    <tr>\n",
       "      <th>1</th>\n",
       "      <td>EAP-Australia</td>\n",
       "      <td>SSP2</td>\n",
       "      <td>SSP2-RCP8.5-MIRO</td>\n",
       "      <td>2050</td>\n",
       "      <td>3143.161579</td>\n",
       "      <td>AMT</td>\n",
       "      <td>Beef</td>\n",
       "      <td>QSupXAgg</td>\n",
       "      <td>Commodity Supply</td>\n",
       "      <td>2525.500166</td>\n",
       "    </tr>\n",
       "    <tr>\n",
       "      <th>2</th>\n",
       "      <td>EAP-Australia</td>\n",
       "      <td>SSP2</td>\n",
       "      <td>SSP2-RCP8.5-IPSL</td>\n",
       "      <td>2050</td>\n",
       "      <td>3149.846790</td>\n",
       "      <td>AMT</td>\n",
       "      <td>Beef</td>\n",
       "      <td>QSupXAgg</td>\n",
       "      <td>Commodity Supply</td>\n",
       "      <td>2526.616833</td>\n",
       "    </tr>\n",
       "    <tr>\n",
       "      <th>3</th>\n",
       "      <td>EAP-Australia</td>\n",
       "      <td>SSP2</td>\n",
       "      <td>SSP2-RCP8.5-HGEM</td>\n",
       "      <td>2050</td>\n",
       "      <td>3124.257407</td>\n",
       "      <td>AMT</td>\n",
       "      <td>Beef</td>\n",
       "      <td>QSupXAgg</td>\n",
       "      <td>Commodity Supply</td>\n",
       "      <td>2523.564194</td>\n",
       "    </tr>\n",
       "    <tr>\n",
       "      <th>4</th>\n",
       "      <td>EAP-Australia</td>\n",
       "      <td>SSP2</td>\n",
       "      <td>SSP2-RCP8.5-GFDL</td>\n",
       "      <td>2050</td>\n",
       "      <td>3215.349318</td>\n",
       "      <td>AMT</td>\n",
       "      <td>Beef</td>\n",
       "      <td>QSupXAgg</td>\n",
       "      <td>Commodity Supply</td>\n",
       "      <td>2538.940192</td>\n",
       "    </tr>\n",
       "  </tbody>\n",
       "</table>\n",
       "</div>"
      ],
      "text/plain": [
       "          Region   SSP          Scenario  Year          Val Commodity_code  \\\n",
       "0  EAP-Australia  SSP2  SSP2-RCP8.5-NORE  2050  3171.699220            AMT   \n",
       "1  EAP-Australia  SSP2  SSP2-RCP8.5-MIRO  2050  3143.161579            AMT   \n",
       "2  EAP-Australia  SSP2  SSP2-RCP8.5-IPSL  2050  3149.846790            AMT   \n",
       "3  EAP-Australia  SSP2  SSP2-RCP8.5-HGEM  2050  3124.257407            AMT   \n",
       "4  EAP-Australia  SSP2  SSP2-RCP8.5-GFDL  2050  3215.349318            AMT   \n",
       "\n",
       "  IMPACT_name  Var_code          Var_name  Val_baseline  \n",
       "0        Beef  QSupXAgg  Commodity Supply   2529.411069  \n",
       "1        Beef  QSupXAgg  Commodity Supply   2525.500166  \n",
       "2        Beef  QSupXAgg  Commodity Supply   2526.616833  \n",
       "3        Beef  QSupXAgg  Commodity Supply   2523.564194  \n",
       "4        Beef  QSupXAgg  Commodity Supply   2538.940192  "
      ]
     },
     "execution_count": 702,
     "metadata": {},
     "output_type": "execute_result"
    }
   ],
   "source": [
    "SSP2.head()"
   ]
  },
  {
   "cell_type": "code",
   "execution_count": 703,
   "id": "25ad6bec-ecff-4534-bb26-01c99e228adc",
   "metadata": {},
   "outputs": [],
   "source": [
    "SSP2 = SSP2[SSP2['Var_name']=='Total Yield']"
   ]
  },
  {
   "cell_type": "code",
   "execution_count": 704,
   "id": "1c8767a4-84df-4b1f-ad9d-c7713f37d97d",
   "metadata": {},
   "outputs": [
    {
     "data": {
      "text/plain": [
       "(71232, 10)"
      ]
     },
     "execution_count": 704,
     "metadata": {},
     "output_type": "execute_result"
    }
   ],
   "source": [
    "SSP2.shape"
   ]
  },
  {
   "cell_type": "code",
   "execution_count": 705,
   "id": "4c96517e-b3aa-4292-948c-63b751acfd6f",
   "metadata": {},
   "outputs": [
    {
     "data": {
      "text/html": [
       "<div>\n",
       "<style scoped>\n",
       "    .dataframe tbody tr th:only-of-type {\n",
       "        vertical-align: middle;\n",
       "    }\n",
       "\n",
       "    .dataframe tbody tr th {\n",
       "        vertical-align: top;\n",
       "    }\n",
       "\n",
       "    .dataframe thead th {\n",
       "        text-align: right;\n",
       "    }\n",
       "</style>\n",
       "<table border=\"1\" class=\"dataframe\">\n",
       "  <thead>\n",
       "    <tr style=\"text-align: right;\">\n",
       "      <th></th>\n",
       "      <th>Region</th>\n",
       "      <th>SSP</th>\n",
       "      <th>Scenario</th>\n",
       "      <th>Year</th>\n",
       "      <th>Val</th>\n",
       "      <th>Commodity_code</th>\n",
       "      <th>IMPACT_name</th>\n",
       "      <th>Var_code</th>\n",
       "      <th>Var_name</th>\n",
       "      <th>Val_baseline</th>\n",
       "    </tr>\n",
       "  </thead>\n",
       "  <tbody>\n",
       "    <tr>\n",
       "      <th>480</th>\n",
       "      <td>EAP-Australia</td>\n",
       "      <td>SSP2</td>\n",
       "      <td>SSP2-RCP8.5-NORE</td>\n",
       "      <td>2050</td>\n",
       "      <td>2.740254</td>\n",
       "      <td>CER</td>\n",
       "      <td>Barley</td>\n",
       "      <td>TYldXAgg</td>\n",
       "      <td>Total Yield</td>\n",
       "      <td>2.049672</td>\n",
       "    </tr>\n",
       "    <tr>\n",
       "      <th>481</th>\n",
       "      <td>EAP-Australia</td>\n",
       "      <td>SSP2</td>\n",
       "      <td>SSP2-RCP8.5-MIRO</td>\n",
       "      <td>2050</td>\n",
       "      <td>2.720572</td>\n",
       "      <td>CER</td>\n",
       "      <td>Barley</td>\n",
       "      <td>TYldXAgg</td>\n",
       "      <td>Total Yield</td>\n",
       "      <td>2.046791</td>\n",
       "    </tr>\n",
       "    <tr>\n",
       "      <th>482</th>\n",
       "      <td>EAP-Australia</td>\n",
       "      <td>SSP2</td>\n",
       "      <td>SSP2-RCP8.5-IPSL</td>\n",
       "      <td>2050</td>\n",
       "      <td>2.595181</td>\n",
       "      <td>CER</td>\n",
       "      <td>Barley</td>\n",
       "      <td>TYldXAgg</td>\n",
       "      <td>Total Yield</td>\n",
       "      <td>2.014886</td>\n",
       "    </tr>\n",
       "    <tr>\n",
       "      <th>483</th>\n",
       "      <td>EAP-Australia</td>\n",
       "      <td>SSP2</td>\n",
       "      <td>SSP2-RCP8.5-HGEM</td>\n",
       "      <td>2050</td>\n",
       "      <td>2.602117</td>\n",
       "      <td>CER</td>\n",
       "      <td>Barley</td>\n",
       "      <td>TYldXAgg</td>\n",
       "      <td>Total Yield</td>\n",
       "      <td>2.018240</td>\n",
       "    </tr>\n",
       "    <tr>\n",
       "      <th>484</th>\n",
       "      <td>EAP-Australia</td>\n",
       "      <td>SSP2</td>\n",
       "      <td>SSP2-RCP8.5-GFDL</td>\n",
       "      <td>2050</td>\n",
       "      <td>2.798624</td>\n",
       "      <td>CER</td>\n",
       "      <td>Barley</td>\n",
       "      <td>TYldXAgg</td>\n",
       "      <td>Total Yield</td>\n",
       "      <td>2.050278</td>\n",
       "    </tr>\n",
       "  </tbody>\n",
       "</table>\n",
       "</div>"
      ],
      "text/plain": [
       "            Region   SSP          Scenario  Year       Val Commodity_code  \\\n",
       "480  EAP-Australia  SSP2  SSP2-RCP8.5-NORE  2050  2.740254            CER   \n",
       "481  EAP-Australia  SSP2  SSP2-RCP8.5-MIRO  2050  2.720572            CER   \n",
       "482  EAP-Australia  SSP2  SSP2-RCP8.5-IPSL  2050  2.595181            CER   \n",
       "483  EAP-Australia  SSP2  SSP2-RCP8.5-HGEM  2050  2.602117            CER   \n",
       "484  EAP-Australia  SSP2  SSP2-RCP8.5-GFDL  2050  2.798624            CER   \n",
       "\n",
       "    IMPACT_name  Var_code     Var_name  Val_baseline  \n",
       "480      Barley  TYldXAgg  Total Yield      2.049672  \n",
       "481      Barley  TYldXAgg  Total Yield      2.046791  \n",
       "482      Barley  TYldXAgg  Total Yield      2.014886  \n",
       "483      Barley  TYldXAgg  Total Yield      2.018240  \n",
       "484      Barley  TYldXAgg  Total Yield      2.050278  "
      ]
     },
     "execution_count": 705,
     "metadata": {},
     "output_type": "execute_result"
    }
   ],
   "source": [
    "SSP2.head()"
   ]
  },
  {
   "cell_type": "code",
   "execution_count": 706,
   "id": "d086bffd-5a21-4885-a686-80a48f24efe6",
   "metadata": {},
   "outputs": [
    {
     "data": {
      "text/plain": [
       "31"
      ]
     },
     "execution_count": 706,
     "metadata": {},
     "output_type": "execute_result"
    }
   ],
   "source": [
    "SSP2['IMPACT_name'].nunique()"
   ]
  },
  {
   "cell_type": "code",
   "execution_count": 707,
   "id": "4c5aaca0-51f9-4e64-9947-e29a38b0d4fd",
   "metadata": {},
   "outputs": [
    {
     "data": {
      "text/plain": [
       "array(['Banana', 'Barley', 'Beans', 'Cacao', 'Cassava', 'Chickpeas',\n",
       "       'Coffee', 'Cotton', 'Groundnut', 'Lentils', 'Maize', 'Millet',\n",
       "       'Other', 'OtherCereals', 'OtherOilseeds', 'OtherPulses',\n",
       "       'OtherRoots', 'PalmFruit', 'Potato', 'Rapeseed', 'Rice', 'Sorghum',\n",
       "       'Soybean', 'Sugarcane', 'Sunflower', 'SweetPotato', 'Tea',\n",
       "       'TemperateFruit', 'TropicalFruit', 'Vegetables', 'Wheat'],\n",
       "      dtype=object)"
      ]
     },
     "execution_count": 707,
     "metadata": {},
     "output_type": "execute_result"
    }
   ],
   "source": [
    "x = SSP2['IMPACT_name'].unique()\n",
    "x.sort()\n",
    "x"
   ]
  },
  {
   "cell_type": "code",
   "execution_count": 708,
   "id": "f50a8fab-a66a-4d47-a869-f337c1e8d74c",
   "metadata": {},
   "outputs": [
    {
     "data": {
      "text/plain": [
       "IMPACT_name\n",
       "Vegetables        3744\n",
       "TemperateFruit    3576\n",
       "Other             3528\n",
       "Maize             3408\n",
       "Potato            3336\n",
       "OtherPulses       3312\n",
       "TropicalFruit     3240\n",
       "OtherOilseeds     3216\n",
       "Wheat             2736\n",
       "Beans             2712\n",
       "Rice              2592\n",
       "Groundnut         2568\n",
       "Sorghum           2472\n",
       "OtherCereals      2256\n",
       "Banana            2232\n",
       "Barley            2208\n",
       "Soybean           2136\n",
       "SweetPotato       2112\n",
       "Sugarcane         2088\n",
       "Cotton            2040\n",
       "Millet            1968\n",
       "Cassava           1800\n",
       "OtherRoots        1776\n",
       "Sunflower         1632\n",
       "Coffee            1632\n",
       "Rapeseed          1440\n",
       "Lentils           1248\n",
       "Chickpeas         1224\n",
       "Cacao             1224\n",
       "Tea               1056\n",
       "PalmFruit          720\n",
       "Name: count, dtype: int64"
      ]
     },
     "execution_count": 708,
     "metadata": {},
     "output_type": "execute_result"
    }
   ],
   "source": [
    "SSP2['IMPACT_name'].value_counts()"
   ]
  },
  {
   "cell_type": "code",
   "execution_count": 709,
   "id": "efcf8dbc-6ef4-4899-9968-5cf40d803d5d",
   "metadata": {},
   "outputs": [
    {
     "data": {
      "text/plain": [
       "157"
      ]
     },
     "execution_count": 709,
     "metadata": {},
     "output_type": "execute_result"
    }
   ],
   "source": [
    "SSP2['Region'].nunique()"
   ]
  },
  {
   "cell_type": "code",
   "execution_count": 710,
   "id": "611ca3eb-eae0-4b39-b263-d8c67a69ccf2",
   "metadata": {},
   "outputs": [
    {
     "data": {
      "text/plain": [
       "Region\n",
       "EAP-China                720\n",
       "LAC-Mexico               720\n",
       "SSA-Tanzania             696\n",
       "SAS-India                672\n",
       "SSA-Kenya                672\n",
       "                        ... \n",
       "SSA-Equatorial Guinea    192\n",
       "EAP-Mongolia             192\n",
       "EUR-Norway               168\n",
       "SSA-Djibouti              96\n",
       "EUR-Iceland               48\n",
       "Name: count, Length: 157, dtype: int64"
      ]
     },
     "execution_count": 710,
     "metadata": {},
     "output_type": "execute_result"
    }
   ],
   "source": [
    "SSP2['Region'].value_counts()"
   ]
  },
  {
   "cell_type": "code",
   "execution_count": 711,
   "id": "aa9548b4-ed67-4306-95cd-1161c90d92ea",
   "metadata": {},
   "outputs": [
    {
     "data": {
      "text/plain": [
       "6"
      ]
     },
     "execution_count": 711,
     "metadata": {},
     "output_type": "execute_result"
    }
   ],
   "source": [
    "SSP2['Scenario'].nunique()"
   ]
  },
  {
   "cell_type": "code",
   "execution_count": 712,
   "id": "0ee0965e-e4fc-43a0-a866-b5418d885745",
   "metadata": {},
   "outputs": [
    {
     "data": {
      "text/plain": [
       "Scenario\n",
       "SSP2-RCP8.5-NORE    11872\n",
       "SSP2-RCP8.5-MIRO    11872\n",
       "SSP2-RCP8.5-IPSL    11872\n",
       "SSP2-RCP8.5-HGEM    11872\n",
       "SSP2-RCP8.5-GFDL    11872\n",
       "SSP2-NoCC           11872\n",
       "Name: count, dtype: int64"
      ]
     },
     "execution_count": 712,
     "metadata": {},
     "output_type": "execute_result"
    }
   ],
   "source": [
    "SSP2['Scenario'].value_counts()"
   ]
  },
  {
   "cell_type": "code",
   "execution_count": 713,
   "id": "819e75b0-ca11-462f-acb8-6a9727fceccc",
   "metadata": {},
   "outputs": [
    {
     "data": {
      "text/plain": [
       "4"
      ]
     },
     "execution_count": 713,
     "metadata": {},
     "output_type": "execute_result"
    }
   ],
   "source": [
    "SSP2['Year'].nunique()"
   ]
  },
  {
   "cell_type": "code",
   "execution_count": 714,
   "id": "267b1f75-1f0b-4f31-be14-dadcc5c86f88",
   "metadata": {},
   "outputs": [
    {
     "data": {
      "text/plain": [
       "Year\n",
       "2050    17808\n",
       "2040    17808\n",
       "2030    17808\n",
       "2020    17808\n",
       "Name: count, dtype: int64"
      ]
     },
     "execution_count": 714,
     "metadata": {},
     "output_type": "execute_result"
    }
   ],
   "source": [
    "SSP2['Year'].value_counts()"
   ]
  },
  {
   "cell_type": "code",
   "execution_count": 715,
   "id": "0585c273-cafe-4ada-9efe-4cd2fb8e1f60",
   "metadata": {},
   "outputs": [
    {
     "data": {
      "text/plain": [
       "116808"
      ]
     },
     "execution_count": 715,
     "metadata": {},
     "output_type": "execute_result"
    }
   ],
   "source": [
    "31*157*6*4"
   ]
  },
  {
   "cell_type": "code",
   "execution_count": null,
   "id": "592acde5-17b3-4902-92e9-276ac4435218",
   "metadata": {},
   "outputs": [],
   "source": []
  },
  {
   "cell_type": "code",
   "execution_count": null,
   "id": "f684e495-4a42-4c43-96f9-319a4d7260ee",
   "metadata": {},
   "outputs": [],
   "source": []
  },
  {
   "cell_type": "code",
   "execution_count": null,
   "id": "68f71519-ddb7-4249-a5cb-64d2439279d0",
   "metadata": {},
   "outputs": [],
   "source": []
  },
  {
   "cell_type": "code",
   "execution_count": null,
   "id": "0d323286-96f6-4a66-bda6-c678ccc648e5",
   "metadata": {},
   "outputs": [],
   "source": []
  },
  {
   "cell_type": "markdown",
   "id": "1c25eb36-b81c-48af-a5e0-d7aea6c787d3",
   "metadata": {},
   "source": [
    "'jwhea', 'jrice', 'jmaiz', \n",
    "'jbarl', 'jmill', 'jsorg', \n",
    "'jocer', 'jcass', 'jpota', \n",
    "'jyams', 'jswpt', 'jorat', \n",
    "'jvege', 'jbana', 'jplnt', \n",
    "'jsubf', 'jtemf', 'jbean', \n",
    "'jchkp', 'jcowp', 'jlent', \n",
    "'jpigp', 'jopul', 'jsoyb',\n",
    "'jgrnd', 'jothr', 'jrpsd', \n",
    "'jsnfl', 'jtols', 'jpalm', \n",
    "'jsugb', 'jsugc'\n",
    "\n",
    "\n",
    "problem crops (start with the scenarios for the others for now):\n",
    "millet: 0.08 r2 for prices, prices are also scaled down to as much as 20%, which doesn't happen often for other crops) \n",
    "bean, chkp, cowp, lent, pigp, opul: negative or almost 0 r2, prices are scaled down quite often and to as much as 20%\n",
    "grnd: calibration was extremely difficult!!!! uzbekistan has 4e8 price??? check fao data\n",
    "rpsd, snfl: negative r2, scatterplot looks weird, prices are scaled down to as much as 20%\n",
    "tols: uzbekistan has a price of 4e8 (probably because og groundnut again)\n",
    "\n",
    "when is calib a problem? its usually close to 0, but all crops have right skews"
   ]
  },
  {
   "cell_type": "code",
   "execution_count": 716,
   "id": "2ed2a830-a439-4f3b-b70e-4d0e1b708538",
   "metadata": {},
   "outputs": [],
   "source": [
    "crop_code = 'jorat'\n",
    "country_file = pd.read_csv(f'{data_dir}/Input/Country_data/country_information_'+str(crop_code)+'.csv')\n",
    "bil_file = pd.read_csv(f'{data_dir}/Input/Trade_cost/bilateral_trade_cost_'+str(crop_code)+'.csv')\n",
    "\n",
    "cal_tc = pd.read_csv(f'{calibration_output}/tc_calibration_{crop_code}.csv', header=None, names=['from_abbreviation', 'to_abbreviation', 'tc_cal'])\n",
    "cal_price = pd.read_csv(f'{calibration_output}/prodprice_calibration_{crop_code}.csv', header=None, names=['abbreviation', 'price_cal'])\n",
    "calib = pd.read_csv(f'{calibration_output}/calib_calibration_{crop_code}.csv', header=None, names=['from_abbreviation', 'to_abbreviation', 'calib'])\n",
    "\n",
    "price_compare = country_file.merge(cal_price)\n",
    "tc_compare = bil_file.merge(cal_tc)"
   ]
  },
  {
   "cell_type": "code",
   "execution_count": 717,
   "id": "13cb590c-7d07-40d5-92c9-9aa8630f7144",
   "metadata": {},
   "outputs": [
    {
     "name": "stdout",
     "output_type": "stream",
     "text": [
      "     from_abbreviation to_abbreviation     calib\n",
      "2210               G43             G27  0.096332\n",
      "2228               G43             G45  0.098549\n",
      "1028               G20             G41  0.170564\n",
      "2201               G43             G18  0.204519\n",
      "1837               G36             G18  0.214451\n",
      "1843               G36             G24  0.236137\n",
      "2218               G43             G35  0.478294\n",
      "2200               G43             G17  0.636850\n",
      "1572               G31             G13  1.167244\n",
      "1611               G31             G52  1.487730\n"
     ]
    },
    {
     "data": {
      "text/plain": [
       "<Axes: >"
      ]
     },
     "execution_count": 717,
     "metadata": {},
     "output_type": "execute_result"
    },
    {
     "data": {
      "image/png": "[encoded data removed]",
      "text/plain": [
       "<Figure size 640x480 with 1 Axes>"
      ]
     },
     "metadata": {},
     "output_type": "display_data"
    }
   ],
   "source": [
    "#calib\n",
    "print(calib.sort_values(by='calib').tail(10))\n",
    "calib['calib'].hist(bins=100)"
   ]
  },
  {
   "cell_type": "code",
   "execution_count": 718,
   "id": "1c8fd110-a3cd-4f37-ae00-242d188ef4e1",
   "metadata": {},
   "outputs": [
    {
     "ename": "ValueError",
     "evalue": "Found array with 0 sample(s) (shape=(0,)) while a minimum of 1 is required.",
     "output_type": "error",
     "traceback": [
      "\u001b[0;31m---------------------------------------------------------------------------\u001b[0m",
      "\u001b[0;31mValueError\u001b[0m                                Traceback (most recent call last)",
      "Cell \u001b[0;32mIn[718], line 2\u001b[0m\n\u001b[1;32m      1\u001b[0m \u001b[38;5;66;03m#tc\u001b[39;00m\n\u001b[0;32m----> 2\u001b[0m \u001b[38;5;28mprint\u001b[39m(np\u001b[38;5;241m.\u001b[39msqrt(\u001b[43mmean_squared_error\u001b[49m\u001b[43m(\u001b[49m\u001b[43mtc_compare\u001b[49m\u001b[43m[\u001b[49m\u001b[38;5;124;43m'\u001b[39;49m\u001b[38;5;124;43mtrade_USD_t\u001b[39;49m\u001b[38;5;124;43m'\u001b[39;49m\u001b[43m]\u001b[49m\u001b[43m,\u001b[49m\u001b[43m \u001b[49m\u001b[43mtc_compare\u001b[49m\u001b[43m[\u001b[49m\u001b[38;5;124;43m'\u001b[39;49m\u001b[38;5;124;43mtc_cal\u001b[39;49m\u001b[38;5;124;43m'\u001b[39;49m\u001b[43m]\u001b[49m\u001b[43m)\u001b[49m))\n\u001b[1;32m      3\u001b[0m \u001b[38;5;28mprint\u001b[39m(r2_score(tc_compare[\u001b[38;5;124m'\u001b[39m\u001b[38;5;124mtrade_USD_t\u001b[39m\u001b[38;5;124m'\u001b[39m], tc_compare[\u001b[38;5;124m'\u001b[39m\u001b[38;5;124mtc_cal\u001b[39m\u001b[38;5;124m'\u001b[39m]))\n\u001b[1;32m      4\u001b[0m \u001b[38;5;28mprint\u001b[39m((tc_compare[\u001b[38;5;124m'\u001b[39m\u001b[38;5;124mtc_cal\u001b[39m\u001b[38;5;124m'\u001b[39m] \u001b[38;5;241m/\u001b[39m tc_compare[\u001b[38;5;124m'\u001b[39m\u001b[38;5;124mtrade_USD_t\u001b[39m\u001b[38;5;124m'\u001b[39m])\u001b[38;5;241m.\u001b[39mdescribe())\n",
      "File \u001b[0;32m~/anaconda3/envs/ifpri/lib/python3.10/site-packages/sklearn/utils/_param_validation.py:211\u001b[0m, in \u001b[0;36mvalidate_params.<locals>.decorator.<locals>.wrapper\u001b[0;34m(*args, **kwargs)\u001b[0m\n\u001b[1;32m    205\u001b[0m \u001b[38;5;28;01mtry\u001b[39;00m:\n\u001b[1;32m    206\u001b[0m     \u001b[38;5;28;01mwith\u001b[39;00m config_context(\n\u001b[1;32m    207\u001b[0m         skip_parameter_validation\u001b[38;5;241m=\u001b[39m(\n\u001b[1;32m    208\u001b[0m             prefer_skip_nested_validation \u001b[38;5;129;01mor\u001b[39;00m global_skip_validation\n\u001b[1;32m    209\u001b[0m         )\n\u001b[1;32m    210\u001b[0m     ):\n\u001b[0;32m--> 211\u001b[0m         \u001b[38;5;28;01mreturn\u001b[39;00m \u001b[43mfunc\u001b[49m\u001b[43m(\u001b[49m\u001b[38;5;241;43m*\u001b[39;49m\u001b[43margs\u001b[49m\u001b[43m,\u001b[49m\u001b[43m \u001b[49m\u001b[38;5;241;43m*\u001b[39;49m\u001b[38;5;241;43m*\u001b[39;49m\u001b[43mkwargs\u001b[49m\u001b[43m)\u001b[49m\n\u001b[1;32m    212\u001b[0m \u001b[38;5;28;01mexcept\u001b[39;00m InvalidParameterError \u001b[38;5;28;01mas\u001b[39;00m e:\n\u001b[1;32m    213\u001b[0m     \u001b[38;5;66;03m# When the function is just a wrapper around an estimator, we allow\u001b[39;00m\n\u001b[1;32m    214\u001b[0m     \u001b[38;5;66;03m# the function to delegate validation to the estimator, but we replace\u001b[39;00m\n\u001b[1;32m    215\u001b[0m     \u001b[38;5;66;03m# the name of the estimator by the name of the function in the error\u001b[39;00m\n\u001b[1;32m    216\u001b[0m     \u001b[38;5;66;03m# message to avoid confusion.\u001b[39;00m\n\u001b[1;32m    217\u001b[0m     msg \u001b[38;5;241m=\u001b[39m re\u001b[38;5;241m.\u001b[39msub(\n\u001b[1;32m    218\u001b[0m         \u001b[38;5;124mr\u001b[39m\u001b[38;5;124m\"\u001b[39m\u001b[38;5;124mparameter of \u001b[39m\u001b[38;5;124m\\\u001b[39m\u001b[38;5;124mw+ must be\u001b[39m\u001b[38;5;124m\"\u001b[39m,\n\u001b[1;32m    219\u001b[0m         \u001b[38;5;124mf\u001b[39m\u001b[38;5;124m\"\u001b[39m\u001b[38;5;124mparameter of \u001b[39m\u001b[38;5;132;01m{\u001b[39;00mfunc\u001b[38;5;241m.\u001b[39m\u001b[38;5;18m__qualname__\u001b[39m\u001b[38;5;132;01m}\u001b[39;00m\u001b[38;5;124m must be\u001b[39m\u001b[38;5;124m\"\u001b[39m,\n\u001b[1;32m    220\u001b[0m         \u001b[38;5;28mstr\u001b[39m(e),\n\u001b[1;32m    221\u001b[0m     )\n",
      "File \u001b[0;32m~/anaconda3/envs/ifpri/lib/python3.10/site-packages/sklearn/metrics/_regression.py:474\u001b[0m, in \u001b[0;36mmean_squared_error\u001b[0;34m(y_true, y_pred, sample_weight, multioutput, squared)\u001b[0m\n\u001b[1;32m    404\u001b[0m \u001b[38;5;129m@validate_params\u001b[39m(\n\u001b[1;32m    405\u001b[0m     {\n\u001b[1;32m    406\u001b[0m         \u001b[38;5;124m\"\u001b[39m\u001b[38;5;124my_true\u001b[39m\u001b[38;5;124m\"\u001b[39m: [\u001b[38;5;124m\"\u001b[39m\u001b[38;5;124marray-like\u001b[39m\u001b[38;5;124m\"\u001b[39m],\n\u001b[0;32m   (...)\u001b[0m\n\u001b[1;32m    415\u001b[0m     y_true, y_pred, \u001b[38;5;241m*\u001b[39m, sample_weight\u001b[38;5;241m=\u001b[39m\u001b[38;5;28;01mNone\u001b[39;00m, multioutput\u001b[38;5;241m=\u001b[39m\u001b[38;5;124m\"\u001b[39m\u001b[38;5;124muniform_average\u001b[39m\u001b[38;5;124m\"\u001b[39m, squared\u001b[38;5;241m=\u001b[39m\u001b[38;5;28;01mTrue\u001b[39;00m\n\u001b[1;32m    416\u001b[0m ):\n\u001b[1;32m    417\u001b[0m \u001b[38;5;250m    \u001b[39m\u001b[38;5;124;03m\"\"\"Mean squared error regression loss.\u001b[39;00m\n\u001b[1;32m    418\u001b[0m \n\u001b[1;32m    419\u001b[0m \u001b[38;5;124;03m    Read more in the :ref:`User Guide <mean_squared_error>`.\u001b[39;00m\n\u001b[0;32m   (...)\u001b[0m\n\u001b[1;32m    472\u001b[0m \u001b[38;5;124;03m    0.825...\u001b[39;00m\n\u001b[1;32m    473\u001b[0m \u001b[38;5;124;03m    \"\"\"\u001b[39;00m\n\u001b[0;32m--> 474\u001b[0m     y_type, y_true, y_pred, multioutput \u001b[38;5;241m=\u001b[39m \u001b[43m_check_reg_targets\u001b[49m\u001b[43m(\u001b[49m\n\u001b[1;32m    475\u001b[0m \u001b[43m        \u001b[49m\u001b[43my_true\u001b[49m\u001b[43m,\u001b[49m\u001b[43m \u001b[49m\u001b[43my_pred\u001b[49m\u001b[43m,\u001b[49m\u001b[43m \u001b[49m\u001b[43mmultioutput\u001b[49m\n\u001b[1;32m    476\u001b[0m \u001b[43m    \u001b[49m\u001b[43m)\u001b[49m\n\u001b[1;32m    477\u001b[0m     check_consistent_length(y_true, y_pred, sample_weight)\n\u001b[1;32m    478\u001b[0m     output_errors \u001b[38;5;241m=\u001b[39m np\u001b[38;5;241m.\u001b[39maverage((y_true \u001b[38;5;241m-\u001b[39m y_pred) \u001b[38;5;241m*\u001b[39m\u001b[38;5;241m*\u001b[39m \u001b[38;5;241m2\u001b[39m, axis\u001b[38;5;241m=\u001b[39m\u001b[38;5;241m0\u001b[39m, weights\u001b[38;5;241m=\u001b[39msample_weight)\n",
      "File \u001b[0;32m~/anaconda3/envs/ifpri/lib/python3.10/site-packages/sklearn/metrics/_regression.py:100\u001b[0m, in \u001b[0;36m_check_reg_targets\u001b[0;34m(y_true, y_pred, multioutput, dtype)\u001b[0m\n\u001b[1;32m     66\u001b[0m \u001b[38;5;250m\u001b[39m\u001b[38;5;124;03m\"\"\"Check that y_true and y_pred belong to the same regression task.\u001b[39;00m\n\u001b[1;32m     67\u001b[0m \n\u001b[1;32m     68\u001b[0m \u001b[38;5;124;03mParameters\u001b[39;00m\n\u001b[0;32m   (...)\u001b[0m\n\u001b[1;32m     97\u001b[0m \u001b[38;5;124;03m    correct keyword.\u001b[39;00m\n\u001b[1;32m     98\u001b[0m \u001b[38;5;124;03m\"\"\"\u001b[39;00m\n\u001b[1;32m     99\u001b[0m check_consistent_length(y_true, y_pred)\n\u001b[0;32m--> 100\u001b[0m y_true \u001b[38;5;241m=\u001b[39m \u001b[43mcheck_array\u001b[49m\u001b[43m(\u001b[49m\u001b[43my_true\u001b[49m\u001b[43m,\u001b[49m\u001b[43m \u001b[49m\u001b[43mensure_2d\u001b[49m\u001b[38;5;241;43m=\u001b[39;49m\u001b[38;5;28;43;01mFalse\u001b[39;49;00m\u001b[43m,\u001b[49m\u001b[43m \u001b[49m\u001b[43mdtype\u001b[49m\u001b[38;5;241;43m=\u001b[39;49m\u001b[43mdtype\u001b[49m\u001b[43m)\u001b[49m\n\u001b[1;32m    101\u001b[0m y_pred \u001b[38;5;241m=\u001b[39m check_array(y_pred, ensure_2d\u001b[38;5;241m=\u001b[39m\u001b[38;5;28;01mFalse\u001b[39;00m, dtype\u001b[38;5;241m=\u001b[39mdtype)\n\u001b[1;32m    103\u001b[0m \u001b[38;5;28;01mif\u001b[39;00m y_true\u001b[38;5;241m.\u001b[39mndim \u001b[38;5;241m==\u001b[39m \u001b[38;5;241m1\u001b[39m:\n",
      "File \u001b[0;32m~/anaconda3/envs/ifpri/lib/python3.10/site-packages/sklearn/utils/validation.py:969\u001b[0m, in \u001b[0;36mcheck_array\u001b[0;34m(array, accept_sparse, accept_large_sparse, dtype, order, copy, force_all_finite, ensure_2d, allow_nd, ensure_min_samples, ensure_min_features, estimator, input_name)\u001b[0m\n\u001b[1;32m    967\u001b[0m     n_samples \u001b[38;5;241m=\u001b[39m _num_samples(array)\n\u001b[1;32m    968\u001b[0m     \u001b[38;5;28;01mif\u001b[39;00m n_samples \u001b[38;5;241m<\u001b[39m ensure_min_samples:\n\u001b[0;32m--> 969\u001b[0m         \u001b[38;5;28;01mraise\u001b[39;00m \u001b[38;5;167;01mValueError\u001b[39;00m(\n\u001b[1;32m    970\u001b[0m             \u001b[38;5;124m\"\u001b[39m\u001b[38;5;124mFound array with \u001b[39m\u001b[38;5;132;01m%d\u001b[39;00m\u001b[38;5;124m sample(s) (shape=\u001b[39m\u001b[38;5;132;01m%s\u001b[39;00m\u001b[38;5;124m) while a\u001b[39m\u001b[38;5;124m\"\u001b[39m\n\u001b[1;32m    971\u001b[0m             \u001b[38;5;124m\"\u001b[39m\u001b[38;5;124m minimum of \u001b[39m\u001b[38;5;132;01m%d\u001b[39;00m\u001b[38;5;124m is required\u001b[39m\u001b[38;5;132;01m%s\u001b[39;00m\u001b[38;5;124m.\u001b[39m\u001b[38;5;124m\"\u001b[39m\n\u001b[1;32m    972\u001b[0m             \u001b[38;5;241m%\u001b[39m (n_samples, array\u001b[38;5;241m.\u001b[39mshape, ensure_min_samples, context)\n\u001b[1;32m    973\u001b[0m         )\n\u001b[1;32m    975\u001b[0m \u001b[38;5;28;01mif\u001b[39;00m ensure_min_features \u001b[38;5;241m>\u001b[39m \u001b[38;5;241m0\u001b[39m \u001b[38;5;129;01mand\u001b[39;00m array\u001b[38;5;241m.\u001b[39mndim \u001b[38;5;241m==\u001b[39m \u001b[38;5;241m2\u001b[39m:\n\u001b[1;32m    976\u001b[0m     n_features \u001b[38;5;241m=\u001b[39m array\u001b[38;5;241m.\u001b[39mshape[\u001b[38;5;241m1\u001b[39m]\n",
      "\u001b[0;31mValueError\u001b[0m: Found array with 0 sample(s) (shape=(0,)) while a minimum of 1 is required."
     ]
    }
   ],
   "source": [
    "#tc\n",
    "print(np.sqrt(mean_squared_error(tc_compare['trade_USD_t'], tc_compare['tc_cal'])))\n",
    "print(r2_score(tc_compare['trade_USD_t'], tc_compare['tc_cal']))\n",
    "print((tc_compare['tc_cal'] / tc_compare['trade_USD_t']).describe())\n",
    "sns.scatterplot(x=tc_compare['trade_USD_t'], y=tc_compare['tc_cal'])"
   ]
  },
  {
   "cell_type": "code",
   "execution_count": null,
   "id": "8afe1f7d-92ea-4f85-9e2c-8bbebcfa119e",
   "metadata": {},
   "outputs": [
    {
     "name": "stdout",
     "output_type": "stream",
     "text": [
      "823.6513087467628\n",
      "0.5473183041975516\n",
      "count    120.000000\n",
      "mean       0.807024\n",
      "std        0.458573\n",
      "min        0.200000\n",
      "25%        0.506385\n",
      "50%        0.819702\n",
      "75%        0.899273\n",
      "max        3.000000\n",
      "dtype: float64\n"
     ]
    },
    {
     "data": {
      "text/plain": [
       "<Axes: xlabel='prod_price_USD_t', ylabel='price_cal'>"
      ]
     },
     "execution_count": 214,
     "metadata": {},
     "output_type": "execute_result"
    },
    {
     "data": {
      "image/png": "[encoded data removed]",
      "text/plain": [
       "<Figure size 640x480 with 1 Axes>"
      ]
     },
     "metadata": {},
     "output_type": "display_data"
    }
   ],
   "source": [
    "#prod price\n",
    "print(np.sqrt(mean_squared_error(price_compare['prod_price_USD_t'], price_compare['price_cal'])))\n",
    "print(r2_score(price_compare['prod_price_USD_t'], price_compare['price_cal']))\n",
    "print((price_compare['price_cal'] / price_compare['prod_price_USD_t']).describe())\n",
    "sns.scatterplot(x=price_compare['prod_price_USD_t'], y=price_compare['price_cal'])"
   ]
  },
  {
   "cell_type": "code",
   "execution_count": null,
   "id": "78999399-ce1d-4364-b826-c9da6ae14e08",
   "metadata": {},
   "outputs": [
    {
     "data": {
      "text/html": [
       "<div>\n",
       "<style scoped>\n",
       "    .dataframe tbody tr th:only-of-type {\n",
       "        vertical-align: middle;\n",
       "    }\n",
       "\n",
       "    .dataframe tbody tr th {\n",
       "        vertical-align: top;\n",
       "    }\n",
       "\n",
       "    .dataframe thead th {\n",
       "        text-align: right;\n",
       "    }\n",
       "</style>\n",
       "<table border=\"1\" class=\"dataframe\">\n",
       "  <thead>\n",
       "    <tr style=\"text-align: right;\">\n",
       "      <th></th>\n",
       "      <th>abbreviation</th>\n",
       "      <th>IMPACT_code</th>\n",
       "      <th>yield_t_ha</th>\n",
       "      <th>prod_price_USD_t</th>\n",
       "      <th>import_q</th>\n",
       "      <th>export_q</th>\n",
       "      <th>demand_q</th>\n",
       "      <th>supply_q</th>\n",
       "      <th>domestic_q</th>\n",
       "      <th>demand_elas</th>\n",
       "      <th>supply_elas</th>\n",
       "      <th>price_cal</th>\n",
       "    </tr>\n",
       "  </thead>\n",
       "  <tbody>\n",
       "    <tr>\n",
       "      <th>19</th>\n",
       "      <td>CAF</td>\n",
       "      <td>jrpsd</td>\n",
       "      <td>1.694848</td>\n",
       "      <td>598.617581</td>\n",
       "      <td>21.589532</td>\n",
       "      <td>0.0</td>\n",
       "      <td>21.589532</td>\n",
       "      <td>0.0</td>\n",
       "      <td>0.0</td>\n",
       "      <td>-0.563942</td>\n",
       "      <td>1.1718</td>\n",
       "      <td>192.377370</td>\n",
       "    </tr>\n",
       "    <tr>\n",
       "      <th>26</th>\n",
       "      <td>COD</td>\n",
       "      <td>jrpsd</td>\n",
       "      <td>1.694848</td>\n",
       "      <td>598.617581</td>\n",
       "      <td>1.258140</td>\n",
       "      <td>0.0</td>\n",
       "      <td>1.258140</td>\n",
       "      <td>0.0</td>\n",
       "      <td>0.0</td>\n",
       "      <td>-0.553317</td>\n",
       "      <td>1.1718</td>\n",
       "      <td>178.906447</td>\n",
       "    </tr>\n",
       "    <tr>\n",
       "      <th>123</th>\n",
       "      <td>TCD</td>\n",
       "      <td>jrpsd</td>\n",
       "      <td>1.694848</td>\n",
       "      <td>598.617581</td>\n",
       "      <td>3.058641</td>\n",
       "      <td>0.0</td>\n",
       "      <td>3.058641</td>\n",
       "      <td>0.0</td>\n",
       "      <td>0.0</td>\n",
       "      <td>-0.555412</td>\n",
       "      <td>0.8316</td>\n",
       "      <td>182.633749</td>\n",
       "    </tr>\n",
       "  </tbody>\n",
       "</table>\n",
       "</div>"
      ],
      "text/plain": [
       "    abbreviation IMPACT_code  yield_t_ha  prod_price_USD_t   import_q  \\\n",
       "19           CAF       jrpsd    1.694848        598.617581  21.589532   \n",
       "26           COD       jrpsd    1.694848        598.617581   1.258140   \n",
       "123          TCD       jrpsd    1.694848        598.617581   3.058641   \n",
       "\n",
       "     export_q   demand_q  supply_q  domestic_q  demand_elas  supply_elas  \\\n",
       "19        0.0  21.589532       0.0         0.0    -0.563942       1.1718   \n",
       "26        0.0   1.258140       0.0         0.0    -0.553317       1.1718   \n",
       "123       0.0   3.058641       0.0         0.0    -0.555412       0.8316   \n",
       "\n",
       "      price_cal  \n",
       "19   192.377370  \n",
       "26   178.906447  \n",
       "123  182.633749  "
      ]
     },
     "execution_count": 182,
     "metadata": {},
     "output_type": "execute_result"
    }
   ],
   "source": [
    "price_compare[(price_compare['price_cal']<200) & (price_compare['prod_price_USD_t']>500)]"
   ]
  },
  {
   "cell_type": "code",
   "execution_count": null,
   "id": "878fcda3-9640-4e45-b0b3-a25a9c6e79ef",
   "metadata": {},
   "outputs": [
    {
     "data": {
      "text/html": [
       "<div>\n",
       "<style scoped>\n",
       "    .dataframe tbody tr th:only-of-type {\n",
       "        vertical-align: middle;\n",
       "    }\n",
       "\n",
       "    .dataframe tbody tr th {\n",
       "        vertical-align: top;\n",
       "    }\n",
       "\n",
       "    .dataframe thead th {\n",
       "        text-align: right;\n",
       "    }\n",
       "</style>\n",
       "<table border=\"1\" class=\"dataframe\">\n",
       "  <thead>\n",
       "    <tr style=\"text-align: right;\">\n",
       "      <th></th>\n",
       "      <th>abbreviation</th>\n",
       "      <th>IMPACT_code</th>\n",
       "      <th>yield_t_ha</th>\n",
       "      <th>prod_price_USD_t</th>\n",
       "      <th>import_q</th>\n",
       "      <th>export_q</th>\n",
       "      <th>demand_q</th>\n",
       "      <th>supply_q</th>\n",
       "      <th>domestic_q</th>\n",
       "      <th>demand_elas</th>\n",
       "      <th>supply_elas</th>\n",
       "      <th>price_cal</th>\n",
       "    </tr>\n",
       "  </thead>\n",
       "  <tbody>\n",
       "    <tr>\n",
       "      <th>144</th>\n",
       "      <td>UZB</td>\n",
       "      <td>jtols</td>\n",
       "      <td>1.763412</td>\n",
       "      <td>4.205225e+08</td>\n",
       "      <td>23601.112415</td>\n",
       "      <td>43057.980476</td>\n",
       "      <td>7119.384347</td>\n",
       "      <td>26576.252407</td>\n",
       "      <td>-16481.728068</td>\n",
       "      <td>-0.30331</td>\n",
       "      <td>0.7938</td>\n",
       "      <td>2.412115e+08</td>\n",
       "    </tr>\n",
       "  </tbody>\n",
       "</table>\n",
       "</div>"
      ],
      "text/plain": [
       "    abbreviation IMPACT_code  yield_t_ha  prod_price_USD_t      import_q  \\\n",
       "144          UZB       jtols    1.763412      4.205225e+08  23601.112415   \n",
       "\n",
       "         export_q     demand_q      supply_q    domestic_q  demand_elas  \\\n",
       "144  43057.980476  7119.384347  26576.252407 -16481.728068     -0.30331   \n",
       "\n",
       "     supply_elas     price_cal  \n",
       "144       0.7938  2.412115e+08  "
      ]
     },
     "execution_count": 194,
     "metadata": {},
     "output_type": "execute_result"
    }
   ],
   "source": [
    "price_compare[(price_compare['prod_price_USD_t']>1e8)]"
   ]
  },
  {
   "cell_type": "code",
   "execution_count": null,
   "id": "7557e850-fbdf-4b65-8587-9bfe67397dfd",
   "metadata": {},
   "outputs": [
    {
     "data": {
      "text/html": [
       "<div>\n",
       "<style scoped>\n",
       "    .dataframe tbody tr th:only-of-type {\n",
       "        vertical-align: middle;\n",
       "    }\n",
       "\n",
       "    .dataframe tbody tr th {\n",
       "        vertical-align: top;\n",
       "    }\n",
       "\n",
       "    .dataframe thead th {\n",
       "        text-align: right;\n",
       "    }\n",
       "</style>\n",
       "<table border=\"1\" class=\"dataframe\">\n",
       "  <thead>\n",
       "    <tr style=\"text-align: right;\">\n",
       "      <th></th>\n",
       "      <th>abbreviation</th>\n",
       "      <th>IMPACT_code</th>\n",
       "      <th>yield_t_ha</th>\n",
       "      <th>prod_price_USD_t</th>\n",
       "      <th>import_q</th>\n",
       "      <th>export_q</th>\n",
       "      <th>demand_q</th>\n",
       "      <th>supply_q</th>\n",
       "      <th>domestic_q</th>\n",
       "      <th>demand_elas</th>\n",
       "      <th>supply_elas</th>\n",
       "      <th>price_cal</th>\n",
       "    </tr>\n",
       "  </thead>\n",
       "  <tbody>\n",
       "    <tr>\n",
       "      <th>75</th>\n",
       "      <td>KOR</td>\n",
       "      <td>jtemf</td>\n",
       "      <td>13.928295</td>\n",
       "      <td>1854.540096</td>\n",
       "      <td>113296.53841</td>\n",
       "      <td>39809.99929</td>\n",
       "      <td>1.643176e+06</td>\n",
       "      <td>1569689.0</td>\n",
       "      <td>1.529879e+06</td>\n",
       "      <td>-0.355639</td>\n",
       "      <td>0.352</td>\n",
       "      <td>1103.329394</td>\n",
       "    </tr>\n",
       "  </tbody>\n",
       "</table>\n",
       "</div>"
      ],
      "text/plain": [
       "   abbreviation IMPACT_code  yield_t_ha  prod_price_USD_t      import_q  \\\n",
       "75          KOR       jtemf   13.928295       1854.540096  113296.53841   \n",
       "\n",
       "       export_q      demand_q   supply_q    domestic_q  demand_elas  \\\n",
       "75  39809.99929  1.643176e+06  1569689.0  1.529879e+06    -0.355639   \n",
       "\n",
       "    supply_elas    price_cal  \n",
       "75        0.352  1103.329394  "
      ]
     },
     "execution_count": 135,
     "metadata": {},
     "output_type": "execute_result"
    }
   ],
   "source": [
    "price_compare[price_compare['abbreviation']=='KOR']"
   ]
  },
  {
   "cell_type": "code",
   "execution_count": null,
   "id": "84094ff7-a6a1-42f7-93d3-e9e6629ac2a2",
   "metadata": {},
   "outputs": [],
   "source": []
  }
 ],
 "metadata": {
  "kernelspec": {
   "display_name": "ifpri",
   "language": "python",
   "name": "python3"
  },
  "language_info": {
   "codemirror_mode": {
    "name": "ipython",
    "version": 3
   },
   "file_extension": ".py",
   "mimetype": "text/x-python",
   "name": "python",
   "nbconvert_exporter": "python",
   "pygments_lexer": "ipython3",
   "version": "3.10.0"
  }
 },
 "nbformat": 4,
 "nbformat_minor": 5
}
