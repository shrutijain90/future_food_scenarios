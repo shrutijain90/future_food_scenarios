{
 "cells": [
  {
   "cell_type": "code",
   "execution_count": 1,
   "id": "c1014e76-8cd8-47f4-8f36-8c56c3f0342b",
   "metadata": {},
   "outputs": [
    {
     "name": "stdout",
     "output_type": "stream",
     "text": [
      "\u001b[34mfuture_trade\u001b[m\u001b[m\n"
     ]
    }
   ],
   "source": [
    "import os\n",
    "os.chdir('../..')\n",
    "!ls"
   ]
  },
  {
   "cell_type": "code",
   "execution_count": 2,
   "id": "79686dbd-b349-47ac-a72c-57bbaa0232e5",
   "metadata": {},
   "outputs": [],
   "source": [
    "import pandas as pd\n",
    "import numpy as np\n",
    "import matplotlib.pyplot as plt\n",
    "import seaborn as sns\n",
    "from pyomo.environ import *\n",
    "from pyomo.mpec import *\n",
    "import math\n",
    "import datetime\n",
    "from sklearn.metrics import mean_squared_error\n",
    "from sklearn.metrics import r2_score\n",
    "\n",
    "from future_trade.spatial_trade_model.functions_general import *\n",
    "from future_trade.spatial_trade_model.functions_calibration import *\n",
    "from pathos.multiprocessing import ProcessPool, cpu_count"
   ]
  },
  {
   "cell_type": "code",
   "execution_count": 3,
   "id": "c8002e45-588b-49f6-8e59-ada12a4c0196",
   "metadata": {},
   "outputs": [],
   "source": [
    "data_dir = '../../OPSIS/Data/Trade_clearance_model'\n",
    "calibration_output = f'{data_dir}/Output/Calibration/'"
   ]
  },
  {
   "cell_type": "code",
   "execution_count": 125,
   "id": "5e0cb287-a1b8-4835-a330-8e54cac58093",
   "metadata": {},
   "outputs": [
    {
     "name": "stdout",
     "output_type": "stream",
     "text": [
      "jwhea\n",
      "rows in calibrated trade: (23409, 3)\n",
      "accuracy: 0.90319962407621\n",
      "precision: 0.8671273445212241\n",
      "recall: 0.7338345864661654\n",
      "r2 linear: 0.9999990564774628\n",
      "r2 log: 0.7265731784570998\n",
      "r2 linear excl dom sup: 0.9998860477784629\n",
      "r2 log excl dom sup: 0.7140511467497511\n",
      "rmse: 1184.5175669216483\n",
      "jrice\n",
      "rows in calibrated trade: (23409, 3)\n",
      "accuracy: 0.897518048613781\n",
      "precision: 0.9290917921321029\n",
      "recall: 0.45919347095535284\n",
      "r2 linear: 0.999999358697712\n",
      "r2 log: 0.668760410561031\n",
      "r2 linear excl dom sup: 0.9990427701582278\n",
      "r2 log excl dom sup: 0.6355702433455448\n",
      "rmse: 1041.4764159822096\n",
      "jmaiz\n",
      "rows in calibrated trade: (23409, 3)\n",
      "accuracy: 0.8902131658763723\n",
      "precision: 0.8556990454800674\n",
      "recall: 0.5971786833855799\n",
      "r2 linear: 0.9999998526827631\n",
      "r2 log: 0.6944157185866421\n",
      "r2 linear excl dom sup: 0.9999881557498888\n",
      "r2 log excl dom sup: 0.6549089141952693\n",
      "rmse: 1034.2555816635738\n",
      "jsoyb\n",
      "rows in calibrated trade: (23409, 3)\n",
      "accuracy: 0.8904267589388697\n",
      "precision: 0.7220949263502455\n",
      "recall: 0.5624681285058644\n",
      "r2 linear: 0.9999985174506847\n",
      "r2 log: 0.42533922394985935\n",
      "r2 linear excl dom sup: 0.9999965742762854\n",
      "r2 log excl dom sup: 0.39021808061898366\n",
      "rmse: 853.273103588529\n",
      "jbarl\n",
      "rows in calibrated trade: (22201, 3)\n",
      "accuracy: 0.8705914148011351\n",
      "precision: 0.4111507827519912\n",
      "recall: 0.6725067385444744\n",
      "r2 linear: 0.9999704708882156\n",
      "r2 log: -0.23370183859820504\n",
      "r2 linear excl dom sup: 0.9992369502694772\n",
      "r2 log excl dom sup: -0.43584988250024903\n",
      "rmse: 985.4539437170928\n",
      "jcass\n",
      "rows in calibrated trade: (23104, 3)\n",
      "accuracy: 0.9424774930747922\n",
      "precision: 0.6601239669421488\n",
      "recall: 0.3898718730933496\n",
      "r2 linear: 0.9999981823860722\n",
      "r2 log: 0.17098904027840367\n",
      "r2 linear excl dom sup: 0.9999869288304194\n",
      "r2 log excl dom sup: -0.08419960596103304\n",
      "rmse: 768.8927520287297\n"
     ]
    }
   ],
   "source": [
    "for crop_code in [\n",
    "    'jwhea', 'jrice', 'jmaiz', 'jsoyb', 'jbarl', 'jcass', \n",
    "    # 'jmill', 'jsorg', \n",
    "    # 'jocer', 'jpota', 'jyams', 'jswpt', 'jorat', \n",
    "    # 'jvege', 'jbana', 'jplnt', 'jsubf', 'jtemf', 'jbean', \n",
    "    # 'jchkp', 'jcowp', 'jlent', 'jpigp', 'jopul', \n",
    "    # 'jgrnd', 'jothr', 'jrpsd', 'jsnfl', 'jtols', 'jpalm', \n",
    "    # 'jsugb', 'jsugc'\n",
    "    ]:\n",
    "    print(crop_code)\n",
    "    df_country = pd.read_csv(f'{data_dir}/Input/Country_data/country_information_'+str(crop_code)+'.csv')\n",
    "    df_bil = pd.read_csv(f'{data_dir}/Input/Trade_cost/bilateral_trade_cost_'+str(crop_code)+'.csv')\n",
    "    \n",
    "    trade_cal = pd.read_csv(f'{calibration_output}trade_calibration_{crop_code}.csv', header=None)\n",
    "    trade_cal.columns = ['from_abbreviation', 'to_abbreviation', 'trade_cal']\n",
    "    trade_cal['trade_cal'] = trade_cal['trade_cal'] * 1000\n",
    "\n",
    "    calib = pd.read_csv(f'{calibration_output}calib_calibration_{crop_code}.csv', header=None)\n",
    "    calib.columns = ['from_abbreviation', 'to_abbreviation', 'calib']\n",
    "\n",
    "    tc = pd.read_csv(f'{calibration_output}tc_calibration_{crop_code}.csv', header=None)\n",
    "    tc.columns = ['from_abbreviation', 'to_abbreviation', 'tc']\n",
    "\n",
    "    conprice = pd.read_csv(f'{calibration_output}conprice_calibration_{crop_code}.csv', header=None)\n",
    "    conprice.columns = ['abbreviation', 'conprice']\n",
    "\n",
    "    prodprice = pd.read_csv(f'{calibration_output}prodprice_calibration_{crop_code}.csv', header=None)\n",
    "    prodprice.columns = ['abbreviation', 'prodprice']\n",
    "    \n",
    "    print(f'rows in calibrated trade: {trade_cal.shape}')\n",
    "\n",
    "    df_bil = df_bil.merge(trade_cal)\n",
    "    print(f\"accuracy: {len(df_bil[(df_bil['trade_cal']>1)==(df_bil['q_calib']>1)])/(len(df_bil))}\")\n",
    "    print(f\"precision: {len(df_bil[(df_bil['trade_cal']>1) & (df_bil['q_calib']>1)]) / len(df_bil[(df_bil['trade_cal']>1)])}\")\n",
    "    print(f\"recall: {len(df_bil[(df_bil['trade_cal']>1) & (df_bil['q_calib']>1)]) / len(df_bil[(df_bil['q_calib']>1)])}\")\n",
    "    print(f\"r2 linear: {r2_score(df_bil['q_calib'], df_bil['trade_cal'])}\")\n",
    "    print(f\"r2 log: {r2_score(np.log(df_bil['q_calib']+1), np.log(df_bil['trade_cal']+1))}\")\n",
    "    print(f\"r2 linear excl dom sup: {r2_score(df_bil[df_bil['from_abbreviation']!=df_bil['to_abbreviation']]['q_calib'], df_bil[df_bil['from_abbreviation']!=df_bil['to_abbreviation']]['trade_cal'])}\")\n",
    "    print(f\"r2 log excl dom sup: {r2_score(np.log(df_bil[df_bil['from_abbreviation']!=df_bil['to_abbreviation']]['q_calib']+1), np.log(df_bil[df_bil['from_abbreviation']!=df_bil['to_abbreviation']]['trade_cal']+1))}\")\n",
    "    print(f\"rmse: {np.sqrt(mean_squared_error(df_bil['q_calib'], df_bil['trade_cal']))}\")"
   ]
  },
  {
   "cell_type": "code",
   "execution_count": 126,
   "id": "54d0c928-04d6-4f25-bec4-2c2c48412d1a",
   "metadata": {},
   "outputs": [],
   "source": [
    "crop_code = 'jcass'"
   ]
  },
  {
   "cell_type": "code",
   "execution_count": 127,
   "id": "d41134d9-45cb-4a0d-8f85-897c9d124759",
   "metadata": {},
   "outputs": [],
   "source": [
    "df_country = pd.read_csv(f'{data_dir}/Input/Country_data/country_information_'+str(crop_code)+'.csv')\n",
    "df_bil = pd.read_csv(f'{data_dir}/Input/Trade_cost/bilateral_trade_cost_'+str(crop_code)+'.csv')\n",
    "\n",
    "trade_cal = pd.read_csv(f'{calibration_output}trade_calibration_{crop_code}.csv', header=None)\n",
    "trade_cal.columns = ['from_abbreviation', 'to_abbreviation', 'trade_cal']\n",
    "trade_cal['trade_cal'] = trade_cal['trade_cal'] * 1000\n",
    "\n",
    "calib = pd.read_csv(f'{calibration_output}calib_calibration_{crop_code}.csv', header=None)\n",
    "calib.columns = ['from_abbreviation', 'to_abbreviation', 'calib']\n",
    "\n",
    "tc = pd.read_csv(f'{calibration_output}tc_calibration_{crop_code}.csv', header=None)\n",
    "tc.columns = ['from_abbreviation', 'to_abbreviation', 'tc']\n",
    "\n",
    "conprice = pd.read_csv(f'{calibration_output}conprice_calibration_{crop_code}.csv', header=None)\n",
    "conprice.columns = ['abbreviation', 'conprice']\n",
    "\n",
    "prodprice = pd.read_csv(f'{calibration_output}prodprice_calibration_{crop_code}.csv', header=None)\n",
    "prodprice.columns = ['abbreviation', 'prodprice']"
   ]
  },
  {
   "cell_type": "code",
   "execution_count": 128,
   "id": "ce74f6a0-e7fb-4adb-9186-025dfb99cb18",
   "metadata": {},
   "outputs": [
    {
     "data": {
      "text/html": [
       "<div>\n",
       "<style scoped>\n",
       "    .dataframe tbody tr th:only-of-type {\n",
       "        vertical-align: middle;\n",
       "    }\n",
       "\n",
       "    .dataframe tbody tr th {\n",
       "        vertical-align: top;\n",
       "    }\n",
       "\n",
       "    .dataframe thead th {\n",
       "        text-align: right;\n",
       "    }\n",
       "</style>\n",
       "<table border=\"1\" class=\"dataframe\">\n",
       "  <thead>\n",
       "    <tr style=\"text-align: right;\">\n",
       "      <th></th>\n",
       "      <th>calib</th>\n",
       "    </tr>\n",
       "  </thead>\n",
       "  <tbody>\n",
       "    <tr>\n",
       "      <th>count</th>\n",
       "      <td>23104.000000</td>\n",
       "    </tr>\n",
       "    <tr>\n",
       "      <th>mean</th>\n",
       "      <td>0.406560</td>\n",
       "    </tr>\n",
       "    <tr>\n",
       "      <th>std</th>\n",
       "      <td>4.479840</td>\n",
       "    </tr>\n",
       "    <tr>\n",
       "      <th>min</th>\n",
       "      <td>0.000000</td>\n",
       "    </tr>\n",
       "    <tr>\n",
       "      <th>25%</th>\n",
       "      <td>0.000000</td>\n",
       "    </tr>\n",
       "    <tr>\n",
       "      <th>50%</th>\n",
       "      <td>0.000000</td>\n",
       "    </tr>\n",
       "    <tr>\n",
       "      <th>75%</th>\n",
       "      <td>0.000000</td>\n",
       "    </tr>\n",
       "    <tr>\n",
       "      <th>max</th>\n",
       "      <td>205.933337</td>\n",
       "    </tr>\n",
       "  </tbody>\n",
       "</table>\n",
       "</div>"
      ],
      "text/plain": [
       "              calib\n",
       "count  23104.000000\n",
       "mean       0.406560\n",
       "std        4.479840\n",
       "min        0.000000\n",
       "25%        0.000000\n",
       "50%        0.000000\n",
       "75%        0.000000\n",
       "max      205.933337"
      ]
     },
     "execution_count": 128,
     "metadata": {},
     "output_type": "execute_result"
    }
   ],
   "source": [
    "calib.describe()"
   ]
  },
  {
   "cell_type": "code",
   "execution_count": 129,
   "id": "52803680-85d8-4d29-8b80-9f68cb82bfe5",
   "metadata": {},
   "outputs": [
    {
     "data": {
      "text/html": [
       "<div>\n",
       "<style scoped>\n",
       "    .dataframe tbody tr th:only-of-type {\n",
       "        vertical-align: middle;\n",
       "    }\n",
       "\n",
       "    .dataframe tbody tr th {\n",
       "        vertical-align: top;\n",
       "    }\n",
       "\n",
       "    .dataframe thead th {\n",
       "        text-align: right;\n",
       "    }\n",
       "</style>\n",
       "<table border=\"1\" class=\"dataframe\">\n",
       "  <thead>\n",
       "    <tr style=\"text-align: right;\">\n",
       "      <th></th>\n",
       "      <th>tc</th>\n",
       "    </tr>\n",
       "  </thead>\n",
       "  <tbody>\n",
       "    <tr>\n",
       "      <th>count</th>\n",
       "      <td>23104.000000</td>\n",
       "    </tr>\n",
       "    <tr>\n",
       "      <th>mean</th>\n",
       "      <td>183.184358</td>\n",
       "    </tr>\n",
       "    <tr>\n",
       "      <th>std</th>\n",
       "      <td>77.737459</td>\n",
       "    </tr>\n",
       "    <tr>\n",
       "      <th>min</th>\n",
       "      <td>2.215021</td>\n",
       "    </tr>\n",
       "    <tr>\n",
       "      <th>25%</th>\n",
       "      <td>130.138665</td>\n",
       "    </tr>\n",
       "    <tr>\n",
       "      <th>50%</th>\n",
       "      <td>162.662924</td>\n",
       "    </tr>\n",
       "    <tr>\n",
       "      <th>75%</th>\n",
       "      <td>215.975422</td>\n",
       "    </tr>\n",
       "    <tr>\n",
       "      <th>max</th>\n",
       "      <td>678.182633</td>\n",
       "    </tr>\n",
       "  </tbody>\n",
       "</table>\n",
       "</div>"
      ],
      "text/plain": [
       "                 tc\n",
       "count  23104.000000\n",
       "mean     183.184358\n",
       "std       77.737459\n",
       "min        2.215021\n",
       "25%      130.138665\n",
       "50%      162.662924\n",
       "75%      215.975422\n",
       "max      678.182633"
      ]
     },
     "execution_count": 129,
     "metadata": {},
     "output_type": "execute_result"
    }
   ],
   "source": [
    "tc.describe()"
   ]
  },
  {
   "cell_type": "code",
   "execution_count": 130,
   "id": "c3ce3ca3-fed0-40e5-9cb3-c4a59cd87932",
   "metadata": {},
   "outputs": [
    {
     "data": {
      "text/html": [
       "<div>\n",
       "<style scoped>\n",
       "    .dataframe tbody tr th:only-of-type {\n",
       "        vertical-align: middle;\n",
       "    }\n",
       "\n",
       "    .dataframe tbody tr th {\n",
       "        vertical-align: top;\n",
       "    }\n",
       "\n",
       "    .dataframe thead th {\n",
       "        text-align: right;\n",
       "    }\n",
       "</style>\n",
       "<table border=\"1\" class=\"dataframe\">\n",
       "  <thead>\n",
       "    <tr style=\"text-align: right;\">\n",
       "      <th></th>\n",
       "      <th>conprice</th>\n",
       "    </tr>\n",
       "  </thead>\n",
       "  <tbody>\n",
       "    <tr>\n",
       "      <th>count</th>\n",
       "      <td>152.000000</td>\n",
       "    </tr>\n",
       "    <tr>\n",
       "      <th>mean</th>\n",
       "      <td>370.290895</td>\n",
       "    </tr>\n",
       "    <tr>\n",
       "      <th>std</th>\n",
       "      <td>104.606825</td>\n",
       "    </tr>\n",
       "    <tr>\n",
       "      <th>min</th>\n",
       "      <td>190.130115</td>\n",
       "    </tr>\n",
       "    <tr>\n",
       "      <th>25%</th>\n",
       "      <td>306.572437</td>\n",
       "    </tr>\n",
       "    <tr>\n",
       "      <th>50%</th>\n",
       "      <td>353.238300</td>\n",
       "    </tr>\n",
       "    <tr>\n",
       "      <th>75%</th>\n",
       "      <td>430.594226</td>\n",
       "    </tr>\n",
       "    <tr>\n",
       "      <th>max</th>\n",
       "      <td>960.181990</td>\n",
       "    </tr>\n",
       "  </tbody>\n",
       "</table>\n",
       "</div>"
      ],
      "text/plain": [
       "         conprice\n",
       "count  152.000000\n",
       "mean   370.290895\n",
       "std    104.606825\n",
       "min    190.130115\n",
       "25%    306.572437\n",
       "50%    353.238300\n",
       "75%    430.594226\n",
       "max    960.181990"
      ]
     },
     "execution_count": 130,
     "metadata": {},
     "output_type": "execute_result"
    }
   ],
   "source": [
    "conprice.describe()"
   ]
  },
  {
   "cell_type": "code",
   "execution_count": 131,
   "id": "a0200632-8b37-450f-b76d-ee57f4f767a9",
   "metadata": {},
   "outputs": [
    {
     "data": {
      "text/html": [
       "<div>\n",
       "<style scoped>\n",
       "    .dataframe tbody tr th:only-of-type {\n",
       "        vertical-align: middle;\n",
       "    }\n",
       "\n",
       "    .dataframe tbody tr th {\n",
       "        vertical-align: top;\n",
       "    }\n",
       "\n",
       "    .dataframe thead th {\n",
       "        text-align: right;\n",
       "    }\n",
       "</style>\n",
       "<table border=\"1\" class=\"dataframe\">\n",
       "  <thead>\n",
       "    <tr style=\"text-align: right;\">\n",
       "      <th></th>\n",
       "      <th>prodprice</th>\n",
       "    </tr>\n",
       "  </thead>\n",
       "  <tbody>\n",
       "    <tr>\n",
       "      <th>count</th>\n",
       "      <td>152.000000</td>\n",
       "    </tr>\n",
       "    <tr>\n",
       "      <th>mean</th>\n",
       "      <td>505.891745</td>\n",
       "    </tr>\n",
       "    <tr>\n",
       "      <th>std</th>\n",
       "      <td>599.403543</td>\n",
       "    </tr>\n",
       "    <tr>\n",
       "      <th>min</th>\n",
       "      <td>108.664701</td>\n",
       "    </tr>\n",
       "    <tr>\n",
       "      <th>25%</th>\n",
       "      <td>248.576088</td>\n",
       "    </tr>\n",
       "    <tr>\n",
       "      <th>50%</th>\n",
       "      <td>411.359617</td>\n",
       "    </tr>\n",
       "    <tr>\n",
       "      <th>75%</th>\n",
       "      <td>552.995655</td>\n",
       "    </tr>\n",
       "    <tr>\n",
       "      <th>max</th>\n",
       "      <td>5279.546444</td>\n",
       "    </tr>\n",
       "  </tbody>\n",
       "</table>\n",
       "</div>"
      ],
      "text/plain": [
       "         prodprice\n",
       "count   152.000000\n",
       "mean    505.891745\n",
       "std     599.403543\n",
       "min     108.664701\n",
       "25%     248.576088\n",
       "50%     411.359617\n",
       "75%     552.995655\n",
       "max    5279.546444"
      ]
     },
     "execution_count": 131,
     "metadata": {},
     "output_type": "execute_result"
    }
   ],
   "source": [
    "prodprice.describe()"
   ]
  },
  {
   "cell_type": "code",
   "execution_count": 132,
   "id": "faab6cd5-61ec-4c06-b29e-fbe5cdeb3f15",
   "metadata": {},
   "outputs": [
    {
     "data": {
      "text/html": [
       "<div>\n",
       "<style scoped>\n",
       "    .dataframe tbody tr th:only-of-type {\n",
       "        vertical-align: middle;\n",
       "    }\n",
       "\n",
       "    .dataframe tbody tr th {\n",
       "        vertical-align: top;\n",
       "    }\n",
       "\n",
       "    .dataframe thead th {\n",
       "        text-align: right;\n",
       "    }\n",
       "</style>\n",
       "<table border=\"1\" class=\"dataframe\">\n",
       "  <thead>\n",
       "    <tr style=\"text-align: right;\">\n",
       "      <th></th>\n",
       "      <th>from_abbreviation</th>\n",
       "      <th>to_abbreviation</th>\n",
       "      <th>calib</th>\n",
       "    </tr>\n",
       "  </thead>\n",
       "  <tbody>\n",
       "    <tr>\n",
       "      <th>20290</th>\n",
       "      <td>THA</td>\n",
       "      <td>KHM</td>\n",
       "      <td>25.258867</td>\n",
       "    </tr>\n",
       "    <tr>\n",
       "      <th>20292</th>\n",
       "      <td>THA</td>\n",
       "      <td>LAO</td>\n",
       "      <td>25.452794</td>\n",
       "    </tr>\n",
       "    <tr>\n",
       "      <th>20284</th>\n",
       "      <td>THA</td>\n",
       "      <td>JAM</td>\n",
       "      <td>25.674237</td>\n",
       "    </tr>\n",
       "    <tr>\n",
       "      <th>22278</th>\n",
       "      <td>VNM</td>\n",
       "      <td>MMR</td>\n",
       "      <td>26.040162</td>\n",
       "    </tr>\n",
       "    <tr>\n",
       "      <th>22203</th>\n",
       "      <td>VNM</td>\n",
       "      <td>BGD</td>\n",
       "      <td>26.224584</td>\n",
       "    </tr>\n",
       "    <tr>\n",
       "      <th>...</th>\n",
       "      <td>...</td>\n",
       "      <td>...</td>\n",
       "      <td>...</td>\n",
       "    </tr>\n",
       "    <tr>\n",
       "      <th>20246</th>\n",
       "      <td>THA</td>\n",
       "      <td>COL</td>\n",
       "      <td>139.970081</td>\n",
       "    </tr>\n",
       "    <tr>\n",
       "      <th>20359</th>\n",
       "      <td>THA</td>\n",
       "      <td>USA</td>\n",
       "      <td>146.025520</td>\n",
       "    </tr>\n",
       "    <tr>\n",
       "      <th>20361</th>\n",
       "      <td>THA</td>\n",
       "      <td>VEN</td>\n",
       "      <td>161.101287</td>\n",
       "    </tr>\n",
       "    <tr>\n",
       "      <th>16947</th>\n",
       "      <td>PRK</td>\n",
       "      <td>KOR</td>\n",
       "      <td>201.374775</td>\n",
       "    </tr>\n",
       "    <tr>\n",
       "      <th>11475</th>\n",
       "      <td>KOR</td>\n",
       "      <td>KOR</td>\n",
       "      <td>205.933337</td>\n",
       "    </tr>\n",
       "  </tbody>\n",
       "</table>\n",
       "<p>100 rows × 3 columns</p>\n",
       "</div>"
      ],
      "text/plain": [
       "      from_abbreviation to_abbreviation       calib\n",
       "20290               THA             KHM   25.258867\n",
       "20292               THA             LAO   25.452794\n",
       "20284               THA             JAM   25.674237\n",
       "22278               VNM             MMR   26.040162\n",
       "22203               VNM             BGD   26.224584\n",
       "...                 ...             ...         ...\n",
       "20246               THA             COL  139.970081\n",
       "20359               THA             USA  146.025520\n",
       "20361               THA             VEN  161.101287\n",
       "16947               PRK             KOR  201.374775\n",
       "11475               KOR             KOR  205.933337\n",
       "\n",
       "[100 rows x 3 columns]"
      ]
     },
     "execution_count": 132,
     "metadata": {},
     "output_type": "execute_result"
    }
   ],
   "source": [
    "calib.sort_values('calib').tail(100)"
   ]
  },
  {
   "cell_type": "code",
   "execution_count": 133,
   "id": "2b1a90eb",
   "metadata": {},
   "outputs": [
    {
     "data": {
      "text/html": [
       "<div>\n",
       "<style scoped>\n",
       "    .dataframe tbody tr th:only-of-type {\n",
       "        vertical-align: middle;\n",
       "    }\n",
       "\n",
       "    .dataframe tbody tr th {\n",
       "        vertical-align: top;\n",
       "    }\n",
       "\n",
       "    .dataframe thead th {\n",
       "        text-align: right;\n",
       "    }\n",
       "</style>\n",
       "<table border=\"1\" class=\"dataframe\">\n",
       "  <thead>\n",
       "    <tr style=\"text-align: right;\">\n",
       "      <th></th>\n",
       "      <th>from_abbreviation</th>\n",
       "      <th>to_abbreviation</th>\n",
       "      <th>tc</th>\n",
       "    </tr>\n",
       "  </thead>\n",
       "  <tbody>\n",
       "    <tr>\n",
       "      <th>16947</th>\n",
       "      <td>PRK</td>\n",
       "      <td>KOR</td>\n",
       "      <td>250.270846</td>\n",
       "    </tr>\n",
       "  </tbody>\n",
       "</table>\n",
       "</div>"
      ],
      "text/plain": [
       "      from_abbreviation to_abbreviation          tc\n",
       "16947               PRK             KOR  250.270846"
      ]
     },
     "execution_count": 133,
     "metadata": {},
     "output_type": "execute_result"
    }
   ],
   "source": [
    "tc[(tc['from_abbreviation']=='PRK') & (tc['to_abbreviation']=='KOR')]"
   ]
  },
  {
   "cell_type": "code",
   "execution_count": 134,
   "id": "961163f8",
   "metadata": {},
   "outputs": [
    {
     "data": {
      "text/html": [
       "<div>\n",
       "<style scoped>\n",
       "    .dataframe tbody tr th:only-of-type {\n",
       "        vertical-align: middle;\n",
       "    }\n",
       "\n",
       "    .dataframe tbody tr th {\n",
       "        vertical-align: top;\n",
       "    }\n",
       "\n",
       "    .dataframe thead th {\n",
       "        text-align: right;\n",
       "    }\n",
       "</style>\n",
       "<table border=\"1\" class=\"dataframe\">\n",
       "  <thead>\n",
       "    <tr style=\"text-align: right;\">\n",
       "      <th></th>\n",
       "      <th>from_abbreviation</th>\n",
       "      <th>to_abbreviation</th>\n",
       "      <th>calib</th>\n",
       "    </tr>\n",
       "  </thead>\n",
       "  <tbody>\n",
       "    <tr>\n",
       "      <th>16947</th>\n",
       "      <td>PRK</td>\n",
       "      <td>KOR</td>\n",
       "      <td>201.374775</td>\n",
       "    </tr>\n",
       "  </tbody>\n",
       "</table>\n",
       "</div>"
      ],
      "text/plain": [
       "      from_abbreviation to_abbreviation       calib\n",
       "16947               PRK             KOR  201.374775"
      ]
     },
     "execution_count": 134,
     "metadata": {},
     "output_type": "execute_result"
    }
   ],
   "source": [
    "calib[(calib['from_abbreviation']=='PRK') & (calib['to_abbreviation']=='KOR')]"
   ]
  },
  {
   "cell_type": "code",
   "execution_count": 135,
   "id": "f2e24dca-b170-4624-8883-d3050fd316d6",
   "metadata": {},
   "outputs": [
    {
     "data": {
      "text/html": [
       "<div>\n",
       "<style scoped>\n",
       "    .dataframe tbody tr th:only-of-type {\n",
       "        vertical-align: middle;\n",
       "    }\n",
       "\n",
       "    .dataframe tbody tr th {\n",
       "        vertical-align: top;\n",
       "    }\n",
       "\n",
       "    .dataframe thead th {\n",
       "        text-align: right;\n",
       "    }\n",
       "</style>\n",
       "<table border=\"1\" class=\"dataframe\">\n",
       "  <thead>\n",
       "    <tr style=\"text-align: right;\">\n",
       "      <th></th>\n",
       "      <th>trade_USD_t</th>\n",
       "    </tr>\n",
       "  </thead>\n",
       "  <tbody>\n",
       "    <tr>\n",
       "      <th>count</th>\n",
       "      <td>23409.000000</td>\n",
       "    </tr>\n",
       "    <tr>\n",
       "      <th>mean</th>\n",
       "      <td>183.734522</td>\n",
       "    </tr>\n",
       "    <tr>\n",
       "      <th>std</th>\n",
       "      <td>77.738295</td>\n",
       "    </tr>\n",
       "    <tr>\n",
       "      <th>min</th>\n",
       "      <td>14.341609</td>\n",
       "    </tr>\n",
       "    <tr>\n",
       "      <th>25%</th>\n",
       "      <td>130.302544</td>\n",
       "    </tr>\n",
       "    <tr>\n",
       "      <th>50%</th>\n",
       "      <td>163.260262</td>\n",
       "    </tr>\n",
       "    <tr>\n",
       "      <th>75%</th>\n",
       "      <td>216.897932</td>\n",
       "    </tr>\n",
       "    <tr>\n",
       "      <th>max</th>\n",
       "      <td>678.296006</td>\n",
       "    </tr>\n",
       "  </tbody>\n",
       "</table>\n",
       "</div>"
      ],
      "text/plain": [
       "        trade_USD_t\n",
       "count  23409.000000\n",
       "mean     183.734522\n",
       "std       77.738295\n",
       "min       14.341609\n",
       "25%      130.302544\n",
       "50%      163.260262\n",
       "75%      216.897932\n",
       "max      678.296006"
      ]
     },
     "execution_count": 135,
     "metadata": {},
     "output_type": "execute_result"
    }
   ],
   "source": [
    "df_bil[['trade_USD_t']].describe()"
   ]
  },
  {
   "cell_type": "code",
   "execution_count": 136,
   "id": "e9563401-6cd3-4f83-beba-243d19492654",
   "metadata": {},
   "outputs": [
    {
     "data": {
      "text/plain": [
       "count     153.000000\n",
       "mean      528.442781\n",
       "std       614.451207\n",
       "min        70.200000\n",
       "25%       219.269355\n",
       "50%       476.413792\n",
       "75%       575.076409\n",
       "max      5302.039802\n",
       "Name: prod_price_USD_t, dtype: float64"
      ]
     },
     "execution_count": 136,
     "metadata": {},
     "output_type": "execute_result"
    }
   ],
   "source": [
    "df_country['prod_price_USD_t'].describe()"
   ]
  },
  {
   "cell_type": "code",
   "execution_count": 137,
   "id": "000d19b8-79bf-4ec2-b986-58d079846838",
   "metadata": {},
   "outputs": [
    {
     "data": {
      "text/plain": [
       "0.9949126268584988"
      ]
     },
     "execution_count": 137,
     "metadata": {},
     "output_type": "execute_result"
    }
   ],
   "source": [
    "d = df_bil[['from_abbreviation', 'to_abbreviation', 'trade_USD_t']].merge(tc)\n",
    "r2_score(d['trade_USD_t'], d['tc'])"
   ]
  },
  {
   "cell_type": "code",
   "execution_count": 138,
   "id": "f6f82902-cdc3-486f-a77e-3a0e9ce1511b",
   "metadata": {},
   "outputs": [
    {
     "data": {
      "text/plain": [
       "5.539991056647455"
      ]
     },
     "execution_count": 138,
     "metadata": {},
     "output_type": "execute_result"
    }
   ],
   "source": [
    "np.sqrt(mean_squared_error(d['trade_USD_t'], d['tc']))"
   ]
  },
  {
   "cell_type": "code",
   "execution_count": 139,
   "id": "85e73ad0-9950-4708-8789-76eae6ffc690",
   "metadata": {},
   "outputs": [
    {
     "data": {
      "text/plain": [
       "0.9696345196803166"
      ]
     },
     "execution_count": 139,
     "metadata": {},
     "output_type": "execute_result"
    }
   ],
   "source": [
    "d = df_country[['abbreviation', 'prod_price_USD_t']].merge(prodprice)\n",
    "r2_score(d['prod_price_USD_t'], d['prodprice'])"
   ]
  },
  {
   "cell_type": "code",
   "execution_count": 140,
   "id": "d77a84de-8fc7-433e-9ff7-55fc0a56e352",
   "metadata": {},
   "outputs": [
    {
     "data": {
      "text/plain": [
       "106.98258833724945"
      ]
     },
     "execution_count": 140,
     "metadata": {},
     "output_type": "execute_result"
    }
   ],
   "source": [
    "np.sqrt(mean_squared_error(d['prod_price_USD_t'], d['prodprice']))"
   ]
  },
  {
   "cell_type": "code",
   "execution_count": 141,
   "id": "6e3d2dfe-ded9-4dbd-8e39-163250a49355",
   "metadata": {},
   "outputs": [],
   "source": [
    "df_bil = df_bil.merge(trade_cal)"
   ]
  },
  {
   "cell_type": "code",
   "execution_count": 142,
   "id": "a28bd214-c398-4c2a-9acf-7bfea3c09de2",
   "metadata": {},
   "outputs": [
    {
     "data": {
      "text/html": [
       "<div>\n",
       "<style scoped>\n",
       "    .dataframe tbody tr th:only-of-type {\n",
       "        vertical-align: middle;\n",
       "    }\n",
       "\n",
       "    .dataframe tbody tr th {\n",
       "        vertical-align: top;\n",
       "    }\n",
       "\n",
       "    .dataframe thead th {\n",
       "        text-align: right;\n",
       "    }\n",
       "</style>\n",
       "<table border=\"1\" class=\"dataframe\">\n",
       "  <thead>\n",
       "    <tr style=\"text-align: right;\">\n",
       "      <th></th>\n",
       "      <th>q_calib</th>\n",
       "      <th>trade_cal</th>\n",
       "    </tr>\n",
       "  </thead>\n",
       "  <tbody>\n",
       "    <tr>\n",
       "      <th>count</th>\n",
       "      <td>2.310400e+04</td>\n",
       "      <td>2.310400e+04</td>\n",
       "    </tr>\n",
       "    <tr>\n",
       "      <th>mean</th>\n",
       "      <td>1.353137e+04</td>\n",
       "      <td>1.354744e+04</td>\n",
       "    </tr>\n",
       "    <tr>\n",
       "      <th>std</th>\n",
       "      <td>5.703275e+05</td>\n",
       "      <td>5.703271e+05</td>\n",
       "    </tr>\n",
       "    <tr>\n",
       "      <th>min</th>\n",
       "      <td>0.000000e+00</td>\n",
       "      <td>1.000000e+00</td>\n",
       "    </tr>\n",
       "    <tr>\n",
       "      <th>25%</th>\n",
       "      <td>0.000000e+00</td>\n",
       "      <td>1.000000e+00</td>\n",
       "    </tr>\n",
       "    <tr>\n",
       "      <th>50%</th>\n",
       "      <td>0.000000e+00</td>\n",
       "      <td>1.000000e+00</td>\n",
       "    </tr>\n",
       "    <tr>\n",
       "      <th>75%</th>\n",
       "      <td>6.770712e-05</td>\n",
       "      <td>1.000000e+00</td>\n",
       "    </tr>\n",
       "    <tr>\n",
       "      <th>max</th>\n",
       "      <td>5.940633e+07</td>\n",
       "      <td>5.940633e+07</td>\n",
       "    </tr>\n",
       "  </tbody>\n",
       "</table>\n",
       "</div>"
      ],
      "text/plain": [
       "            q_calib     trade_cal\n",
       "count  2.310400e+04  2.310400e+04\n",
       "mean   1.353137e+04  1.354744e+04\n",
       "std    5.703275e+05  5.703271e+05\n",
       "min    0.000000e+00  1.000000e+00\n",
       "25%    0.000000e+00  1.000000e+00\n",
       "50%    0.000000e+00  1.000000e+00\n",
       "75%    6.770712e-05  1.000000e+00\n",
       "max    5.940633e+07  5.940633e+07"
      ]
     },
     "execution_count": 142,
     "metadata": {},
     "output_type": "execute_result"
    }
   ],
   "source": [
    "df_bil[['q_calib', 'trade_cal']].describe()"
   ]
  },
  {
   "cell_type": "code",
   "execution_count": 143,
   "id": "1f4cd2b4-f66e-4fe4-a264-0416abf78261",
   "metadata": {},
   "outputs": [
    {
     "data": {
      "text/plain": [
       "q_calib      3.126288e+08\n",
       "trade_cal    3.130001e+08\n",
       "dtype: float64"
      ]
     },
     "execution_count": 143,
     "metadata": {},
     "output_type": "execute_result"
    }
   ],
   "source": [
    "df_bil[['q_calib', 'trade_cal']].sum()"
   ]
  },
  {
   "cell_type": "code",
   "execution_count": 144,
   "id": "2a6def01-6752-4ecd-b749-8bee555aada2",
   "metadata": {},
   "outputs": [
    {
     "data": {
      "text/plain": [
       "q_calib      3.489608e+07\n",
       "trade_cal    3.540712e+07\n",
       "dtype: float64"
      ]
     },
     "execution_count": 144,
     "metadata": {},
     "output_type": "execute_result"
    }
   ],
   "source": [
    "df_bil[df_bil['from_abbreviation']!=df_bil['to_abbreviation']][['q_calib', 'trade_cal']].sum()"
   ]
  },
  {
   "cell_type": "code",
   "execution_count": 145,
   "id": "9c60ee24-a501-4625-b1b0-5f8565caad66",
   "metadata": {},
   "outputs": [
    {
     "data": {
      "text/plain": [
       "(1639, 10)"
      ]
     },
     "execution_count": 145,
     "metadata": {},
     "output_type": "execute_result"
    }
   ],
   "source": [
    "df_bil[df_bil['q_calib']>1].shape"
   ]
  },
  {
   "cell_type": "code",
   "execution_count": 146,
   "id": "6a3949ac-9495-446a-8553-0d83844d6d07",
   "metadata": {},
   "outputs": [
    {
     "data": {
      "text/plain": [
       "(968, 10)"
      ]
     },
     "execution_count": 146,
     "metadata": {},
     "output_type": "execute_result"
    }
   ],
   "source": [
    "df_bil[df_bil['trade_cal']>1].shape"
   ]
  },
  {
   "cell_type": "code",
   "execution_count": 147,
   "id": "d9027c49-7cb1-4fa5-a767-fa3f827c4a1e",
   "metadata": {},
   "outputs": [
    {
     "data": {
      "text/html": [
       "<div>\n",
       "<style scoped>\n",
       "    .dataframe tbody tr th:only-of-type {\n",
       "        vertical-align: middle;\n",
       "    }\n",
       "\n",
       "    .dataframe tbody tr th {\n",
       "        vertical-align: top;\n",
       "    }\n",
       "\n",
       "    .dataframe thead th {\n",
       "        text-align: right;\n",
       "    }\n",
       "</style>\n",
       "<table border=\"1\" class=\"dataframe\">\n",
       "  <thead>\n",
       "    <tr style=\"text-align: right;\">\n",
       "      <th></th>\n",
       "      <th>q_calib</th>\n",
       "      <th>trade_cal</th>\n",
       "    </tr>\n",
       "  </thead>\n",
       "  <tbody>\n",
       "    <tr>\n",
       "      <th>count</th>\n",
       "      <td>3.290000e+02</td>\n",
       "      <td>329.000000</td>\n",
       "    </tr>\n",
       "    <tr>\n",
       "      <th>mean</th>\n",
       "      <td>7.267263e-02</td>\n",
       "      <td>1553.227964</td>\n",
       "    </tr>\n",
       "    <tr>\n",
       "      <th>std</th>\n",
       "      <td>1.780864e-01</td>\n",
       "      <td>2958.732849</td>\n",
       "    </tr>\n",
       "    <tr>\n",
       "      <th>min</th>\n",
       "      <td>0.000000e+00</td>\n",
       "      <td>2.000000</td>\n",
       "    </tr>\n",
       "    <tr>\n",
       "      <th>25%</th>\n",
       "      <td>0.000000e+00</td>\n",
       "      <td>283.000000</td>\n",
       "    </tr>\n",
       "    <tr>\n",
       "      <th>50%</th>\n",
       "      <td>6.725515e-08</td>\n",
       "      <td>801.000000</td>\n",
       "    </tr>\n",
       "    <tr>\n",
       "      <th>75%</th>\n",
       "      <td>2.886084e-02</td>\n",
       "      <td>1749.000000</td>\n",
       "    </tr>\n",
       "    <tr>\n",
       "      <th>max</th>\n",
       "      <td>9.449741e-01</td>\n",
       "      <td>31303.000000</td>\n",
       "    </tr>\n",
       "  </tbody>\n",
       "</table>\n",
       "</div>"
      ],
      "text/plain": [
       "            q_calib     trade_cal\n",
       "count  3.290000e+02    329.000000\n",
       "mean   7.267263e-02   1553.227964\n",
       "std    1.780864e-01   2958.732849\n",
       "min    0.000000e+00      2.000000\n",
       "25%    0.000000e+00    283.000000\n",
       "50%    6.725515e-08    801.000000\n",
       "75%    2.886084e-02   1749.000000\n",
       "max    9.449741e-01  31303.000000"
      ]
     },
     "execution_count": 147,
     "metadata": {},
     "output_type": "execute_result"
    }
   ],
   "source": [
    "# false positives\n",
    "df_bil[(df_bil['trade_cal']>1) & (df_bil['q_calib']<=1)][['q_calib', 'trade_cal']].describe()"
   ]
  },
  {
   "cell_type": "code",
   "execution_count": 148,
   "id": "61a9d8df-ef29-4633-b5ba-c0325f6d1a2a",
   "metadata": {},
   "outputs": [
    {
     "data": {
      "text/html": [
       "<div>\n",
       "<style scoped>\n",
       "    .dataframe tbody tr th:only-of-type {\n",
       "        vertical-align: middle;\n",
       "    }\n",
       "\n",
       "    .dataframe tbody tr th {\n",
       "        vertical-align: top;\n",
       "    }\n",
       "\n",
       "    .dataframe thead th {\n",
       "        text-align: right;\n",
       "    }\n",
       "</style>\n",
       "<table border=\"1\" class=\"dataframe\">\n",
       "  <thead>\n",
       "    <tr style=\"text-align: right;\">\n",
       "      <th></th>\n",
       "      <th>from_abbreviation</th>\n",
       "      <th>to_abbreviation</th>\n",
       "      <th>IMPACT_code</th>\n",
       "      <th>trade_USD_t</th>\n",
       "      <th>adv</th>\n",
       "      <th>q_calib</th>\n",
       "      <th>trade_relationship</th>\n",
       "      <th>q_old</th>\n",
       "      <th>trade_relationship_old</th>\n",
       "      <th>trade_cal</th>\n",
       "    </tr>\n",
       "  </thead>\n",
       "  <tbody>\n",
       "    <tr>\n",
       "      <th>20340</th>\n",
       "      <td>THA</td>\n",
       "      <td>SOM</td>\n",
       "      <td>jcass</td>\n",
       "      <td>155.250714</td>\n",
       "      <td>0.0</td>\n",
       "      <td>0.038258</td>\n",
       "      <td>0</td>\n",
       "      <td>0.000000</td>\n",
       "      <td>0</td>\n",
       "      <td>11003.0</td>\n",
       "    </tr>\n",
       "    <tr>\n",
       "      <th>22239</th>\n",
       "      <td>VNM</td>\n",
       "      <td>GAB</td>\n",
       "      <td>jcass</td>\n",
       "      <td>137.056994</td>\n",
       "      <td>0.3</td>\n",
       "      <td>0.039352</td>\n",
       "      <td>0</td>\n",
       "      <td>0.003570</td>\n",
       "      <td>0</td>\n",
       "      <td>11247.0</td>\n",
       "    </tr>\n",
       "    <tr>\n",
       "      <th>22221</th>\n",
       "      <td>VNM</td>\n",
       "      <td>COG</td>\n",
       "      <td>jcass</td>\n",
       "      <td>164.155343</td>\n",
       "      <td>0.2</td>\n",
       "      <td>0.192367</td>\n",
       "      <td>0</td>\n",
       "      <td>0.515862</td>\n",
       "      <td>0</td>\n",
       "      <td>12622.0</td>\n",
       "    </tr>\n",
       "    <tr>\n",
       "      <th>16947</th>\n",
       "      <td>PRK</td>\n",
       "      <td>KOR</td>\n",
       "      <td>jcass</td>\n",
       "      <td>48.896071</td>\n",
       "      <td>0.0</td>\n",
       "      <td>0.000000</td>\n",
       "      <td>0</td>\n",
       "      <td>0.000000</td>\n",
       "      <td>0</td>\n",
       "      <td>30610.0</td>\n",
       "    </tr>\n",
       "    <tr>\n",
       "      <th>11475</th>\n",
       "      <td>KOR</td>\n",
       "      <td>KOR</td>\n",
       "      <td>jcass</td>\n",
       "      <td>28.586094</td>\n",
       "      <td>0.0</td>\n",
       "      <td>0.000000</td>\n",
       "      <td>0</td>\n",
       "      <td>0.000000</td>\n",
       "      <td>0</td>\n",
       "      <td>31303.0</td>\n",
       "    </tr>\n",
       "  </tbody>\n",
       "</table>\n",
       "</div>"
      ],
      "text/plain": [
       "      from_abbreviation to_abbreviation IMPACT_code  trade_USD_t  adv  \\\n",
       "20340               THA             SOM       jcass   155.250714  0.0   \n",
       "22239               VNM             GAB       jcass   137.056994  0.3   \n",
       "22221               VNM             COG       jcass   164.155343  0.2   \n",
       "16947               PRK             KOR       jcass    48.896071  0.0   \n",
       "11475               KOR             KOR       jcass    28.586094  0.0   \n",
       "\n",
       "        q_calib  trade_relationship     q_old  trade_relationship_old  \\\n",
       "20340  0.038258                   0  0.000000                       0   \n",
       "22239  0.039352                   0  0.003570                       0   \n",
       "22221  0.192367                   0  0.515862                       0   \n",
       "16947  0.000000                   0  0.000000                       0   \n",
       "11475  0.000000                   0  0.000000                       0   \n",
       "\n",
       "       trade_cal  \n",
       "20340    11003.0  \n",
       "22239    11247.0  \n",
       "22221    12622.0  \n",
       "16947    30610.0  \n",
       "11475    31303.0  "
      ]
     },
     "execution_count": 148,
     "metadata": {},
     "output_type": "execute_result"
    }
   ],
   "source": [
    "df_bil[(df_bil['trade_cal']>1) & (df_bil['q_calib']<=1)].sort_values('trade_cal').tail()"
   ]
  },
  {
   "cell_type": "code",
   "execution_count": 149,
   "id": "c6535dd9-16e8-4982-b3e6-a236b5495ad9",
   "metadata": {},
   "outputs": [
    {
     "data": {
      "text/html": [
       "<div>\n",
       "<style scoped>\n",
       "    .dataframe tbody tr th:only-of-type {\n",
       "        vertical-align: middle;\n",
       "    }\n",
       "\n",
       "    .dataframe tbody tr th {\n",
       "        vertical-align: top;\n",
       "    }\n",
       "\n",
       "    .dataframe thead th {\n",
       "        text-align: right;\n",
       "    }\n",
       "</style>\n",
       "<table border=\"1\" class=\"dataframe\">\n",
       "  <thead>\n",
       "    <tr style=\"text-align: right;\">\n",
       "      <th></th>\n",
       "      <th>q_calib</th>\n",
       "      <th>trade_cal</th>\n",
       "    </tr>\n",
       "  </thead>\n",
       "  <tbody>\n",
       "    <tr>\n",
       "      <th>count</th>\n",
       "      <td>1000.000000</td>\n",
       "      <td>1000.0</td>\n",
       "    </tr>\n",
       "    <tr>\n",
       "      <th>mean</th>\n",
       "      <td>424.549137</td>\n",
       "      <td>1.0</td>\n",
       "    </tr>\n",
       "    <tr>\n",
       "      <th>std</th>\n",
       "      <td>2846.952949</td>\n",
       "      <td>0.0</td>\n",
       "    </tr>\n",
       "    <tr>\n",
       "      <th>min</th>\n",
       "      <td>1.001309</td>\n",
       "      <td>1.0</td>\n",
       "    </tr>\n",
       "    <tr>\n",
       "      <th>25%</th>\n",
       "      <td>2.810082</td>\n",
       "      <td>1.0</td>\n",
       "    </tr>\n",
       "    <tr>\n",
       "      <th>50%</th>\n",
       "      <td>9.552086</td>\n",
       "      <td>1.0</td>\n",
       "    </tr>\n",
       "    <tr>\n",
       "      <th>75%</th>\n",
       "      <td>50.105489</td>\n",
       "      <td>1.0</td>\n",
       "    </tr>\n",
       "    <tr>\n",
       "      <th>max</th>\n",
       "      <td>57591.491343</td>\n",
       "      <td>1.0</td>\n",
       "    </tr>\n",
       "  </tbody>\n",
       "</table>\n",
       "</div>"
      ],
      "text/plain": [
       "            q_calib  trade_cal\n",
       "count   1000.000000     1000.0\n",
       "mean     424.549137        1.0\n",
       "std     2846.952949        0.0\n",
       "min        1.001309        1.0\n",
       "25%        2.810082        1.0\n",
       "50%        9.552086        1.0\n",
       "75%       50.105489        1.0\n",
       "max    57591.491343        1.0"
      ]
     },
     "execution_count": 149,
     "metadata": {},
     "output_type": "execute_result"
    }
   ],
   "source": [
    "# false negatives\n",
    "df_bil[(df_bil['trade_cal']==1) & (df_bil['q_calib']>1)][['q_calib', 'trade_cal']].describe()"
   ]
  },
  {
   "cell_type": "code",
   "execution_count": 150,
   "id": "8eba4ae4-f0bb-454b-aa09-6ca2e114513c",
   "metadata": {},
   "outputs": [
    {
     "data": {
      "text/html": [
       "<div>\n",
       "<style scoped>\n",
       "    .dataframe tbody tr th:only-of-type {\n",
       "        vertical-align: middle;\n",
       "    }\n",
       "\n",
       "    .dataframe tbody tr th {\n",
       "        vertical-align: top;\n",
       "    }\n",
       "\n",
       "    .dataframe thead th {\n",
       "        text-align: right;\n",
       "    }\n",
       "</style>\n",
       "<table border=\"1\" class=\"dataframe\">\n",
       "  <thead>\n",
       "    <tr style=\"text-align: right;\">\n",
       "      <th></th>\n",
       "      <th>from_abbreviation</th>\n",
       "      <th>to_abbreviation</th>\n",
       "      <th>IMPACT_code</th>\n",
       "      <th>trade_USD_t</th>\n",
       "      <th>adv</th>\n",
       "      <th>q_calib</th>\n",
       "      <th>trade_relationship</th>\n",
       "      <th>q_old</th>\n",
       "      <th>trade_relationship_old</th>\n",
       "      <th>trade_cal</th>\n",
       "    </tr>\n",
       "  </thead>\n",
       "  <tbody>\n",
       "    <tr>\n",
       "      <th>15912</th>\n",
       "      <td>OPO</td>\n",
       "      <td>OPO</td>\n",
       "      <td>jcass</td>\n",
       "      <td>28.088628</td>\n",
       "      <td>0.000048</td>\n",
       "      <td>16270.455413</td>\n",
       "      <td>1</td>\n",
       "      <td>17768.523315</td>\n",
       "      <td>1</td>\n",
       "      <td>1.0</td>\n",
       "    </tr>\n",
       "    <tr>\n",
       "      <th>1530</th>\n",
       "      <td>BFA</td>\n",
       "      <td>BFA</td>\n",
       "      <td>jcass</td>\n",
       "      <td>51.545859</td>\n",
       "      <td>0.000000</td>\n",
       "      <td>17019.238207</td>\n",
       "      <td>1</td>\n",
       "      <td>22952.976065</td>\n",
       "      <td>1</td>\n",
       "      <td>1.0</td>\n",
       "    </tr>\n",
       "    <tr>\n",
       "      <th>20655</th>\n",
       "      <td>TLS</td>\n",
       "      <td>TLS</td>\n",
       "      <td>jcass</td>\n",
       "      <td>23.164005</td>\n",
       "      <td>0.000000</td>\n",
       "      <td>19144.361157</td>\n",
       "      <td>1</td>\n",
       "      <td>27689.144000</td>\n",
       "      <td>1</td>\n",
       "      <td>1.0</td>\n",
       "    </tr>\n",
       "    <tr>\n",
       "      <th>7956</th>\n",
       "      <td>GNB</td>\n",
       "      <td>GNB</td>\n",
       "      <td>jcass</td>\n",
       "      <td>39.424150</td>\n",
       "      <td>0.000000</td>\n",
       "      <td>52281.652822</td>\n",
       "      <td>1</td>\n",
       "      <td>42528.572000</td>\n",
       "      <td>1</td>\n",
       "      <td>1.0</td>\n",
       "    </tr>\n",
       "    <tr>\n",
       "      <th>15759</th>\n",
       "      <td>OIO</td>\n",
       "      <td>OIO</td>\n",
       "      <td>jcass</td>\n",
       "      <td>35.311535</td>\n",
       "      <td>0.000000</td>\n",
       "      <td>57591.491343</td>\n",
       "      <td>1</td>\n",
       "      <td>53094.337515</td>\n",
       "      <td>1</td>\n",
       "      <td>1.0</td>\n",
       "    </tr>\n",
       "  </tbody>\n",
       "</table>\n",
       "</div>"
      ],
      "text/plain": [
       "      from_abbreviation to_abbreviation IMPACT_code  trade_USD_t       adv  \\\n",
       "15912               OPO             OPO       jcass    28.088628  0.000048   \n",
       "1530                BFA             BFA       jcass    51.545859  0.000000   \n",
       "20655               TLS             TLS       jcass    23.164005  0.000000   \n",
       "7956                GNB             GNB       jcass    39.424150  0.000000   \n",
       "15759               OIO             OIO       jcass    35.311535  0.000000   \n",
       "\n",
       "            q_calib  trade_relationship         q_old  trade_relationship_old  \\\n",
       "15912  16270.455413                   1  17768.523315                       1   \n",
       "1530   17019.238207                   1  22952.976065                       1   \n",
       "20655  19144.361157                   1  27689.144000                       1   \n",
       "7956   52281.652822                   1  42528.572000                       1   \n",
       "15759  57591.491343                   1  53094.337515                       1   \n",
       "\n",
       "       trade_cal  \n",
       "15912        1.0  \n",
       "1530         1.0  \n",
       "20655        1.0  \n",
       "7956         1.0  \n",
       "15759        1.0  "
      ]
     },
     "execution_count": 150,
     "metadata": {},
     "output_type": "execute_result"
    }
   ],
   "source": [
    "df_bil[(df_bil['trade_cal']==1) & (df_bil['q_calib']>1)].sort_values('q_calib').tail()"
   ]
  },
  {
   "cell_type": "code",
   "execution_count": 151,
   "id": "fc1e752b-45b0-4b5e-a09c-9fe653e601b4",
   "metadata": {},
   "outputs": [
    {
     "data": {
      "image/png": "[encoded data removed]",
      "text/plain": [
       "<Figure size 350x350 with 1 Axes>"
      ]
     },
     "metadata": {},
     "output_type": "display_data"
    }
   ],
   "source": [
    "fig, ax = plt.subplots(figsize = (3.5,3.5))\n",
    "plt.scatter(np.log(df_bil['trade_cal']), np.log(df_bil['q_calib']+1), s = 8, color = 'grey', alpha = 0.4, zorder = 3)\n",
    "plt.plot(np.linspace(0,16, 100), np.linspace(0,16, 100), color = 'k', lw = 0.5, zorder = 1)\n",
    "# plt.xlim(0, 12); \n",
    "plt.xlabel('Predicted trade ln(t)')\n",
    "# plt.ylim(0, 12); \n",
    "plt.ylabel('Observed trade ln(t)')\n",
    "plt.show()"
   ]
  },
  {
   "cell_type": "code",
   "execution_count": 152,
   "id": "e73df0c1-3c25-44b5-99fa-2bf80eca3822",
   "metadata": {},
   "outputs": [
    {
     "data": {
      "image/png": "[encoded data removed]",
      "text/plain": [
       "<Figure size 350x350 with 1 Axes>"
      ]
     },
     "metadata": {},
     "output_type": "display_data"
    }
   ],
   "source": [
    "fig, ax = plt.subplots(figsize = (3.5,3.5))\n",
    "plt.scatter(np.log(df_bil[df_bil['from_abbreviation']!=df_bil['to_abbreviation']]['trade_cal']), \n",
    "            np.log(df_bil[df_bil['from_abbreviation']!=df_bil['to_abbreviation']]['q_calib']+1), \n",
    "            s = 8, color = 'grey', alpha = 0.4, zorder = 3)\n",
    "plt.plot(np.linspace(0,16, 100), np.linspace(0,16, 100), color = 'k', lw = 0.5, zorder = 1)\n",
    "# plt.xlim(0, 12); \n",
    "plt.xlabel('Predicted trade ln(t)')\n",
    "# plt.ylim(0, 12); \n",
    "plt.ylabel('Observed trade ln(t)')\n",
    "plt.show()"
   ]
  },
  {
   "cell_type": "code",
   "execution_count": 153,
   "id": "badbc97e-4fa3-4af0-916a-0479dc90f6a6",
   "metadata": {},
   "outputs": [
    {
     "data": {
      "image/png": "[encoded data removed]",
      "text/plain": [
       "<Figure size 350x350 with 1 Axes>"
      ]
     },
     "metadata": {},
     "output_type": "display_data"
    }
   ],
   "source": [
    "fig, ax = plt.subplots(figsize = (3.5,3.5))\n",
    "plt.scatter(df_bil['trade_cal'], df_bil['q_calib'], s = 8, color = 'grey', alpha = 0.4, zorder = 3)\n",
    "# plt.plot(np.linspace(0,16, 100), np.linspace(0,16, 100), color = 'k', lw = 0.5, zorder = 1)\n",
    "# plt.xlim(0, 12); \n",
    "plt.xlabel('Predicted trade (t)')\n",
    "# plt.ylim(0, 12); \n",
    "plt.ylabel('Observed trade (t)')\n",
    "plt.show()"
   ]
  },
  {
   "cell_type": "code",
   "execution_count": 154,
   "id": "08a89e6f-ac92-4855-99dc-1d4987d0660a",
   "metadata": {},
   "outputs": [
    {
     "data": {
      "image/png": "[encoded data removed]",
      "text/plain": [
       "<Figure size 350x350 with 1 Axes>"
      ]
     },
     "metadata": {},
     "output_type": "display_data"
    }
   ],
   "source": [
    "fig, ax = plt.subplots(figsize = (3.5,3.5))\n",
    "plt.scatter(df_bil[df_bil['from_abbreviation']!=df_bil['to_abbreviation']]['trade_cal'], \n",
    "            df_bil[df_bil['from_abbreviation']!=df_bil['to_abbreviation']]['q_calib'], \n",
    "            s = 8, color = 'grey', alpha = 0.4, zorder = 3)\n",
    "# plt.plot(np.linspace(0,16, 100), np.linspace(0,16, 100), color = 'k', lw = 0.5, zorder = 1)\n",
    "# plt.xlim(0, 12); \n",
    "plt.xlabel('Predicted trade (t)')\n",
    "# plt.ylim(0, 12); \n",
    "plt.ylabel('Observed trade (t)')\n",
    "plt.show()"
   ]
  },
  {
   "cell_type": "code",
   "execution_count": null,
   "id": "661d5cee-8e92-4e2d-8ed7-f83f9c029733",
   "metadata": {},
   "outputs": [],
   "source": []
  },
  {
   "cell_type": "code",
   "execution_count": null,
   "id": "322f1c29-88f4-4d79-a81f-db9740c2715c",
   "metadata": {},
   "outputs": [],
   "source": []
  },
  {
   "cell_type": "code",
   "execution_count": null,
   "id": "ee9aa9a1-7b94-481f-b2a2-b51000daab0c",
   "metadata": {},
   "outputs": [],
   "source": []
  },
  {
   "cell_type": "code",
   "execution_count": null,
   "id": "38d375a8-49db-44c0-9c75-ed705e096ede",
   "metadata": {},
   "outputs": [],
   "source": []
  }
 ],
 "metadata": {
  "kernelspec": {
   "display_name": "ifpri",
   "language": "python",
   "name": "python3"
  },
  "language_info": {
   "codemirror_mode": {
    "name": "ipython",
    "version": 3
   },
   "file_extension": ".py",
   "mimetype": "text/x-python",
   "name": "python",
   "nbconvert_exporter": "python",
   "pygments_lexer": "ipython3",
   "version": "3.10.0"
  }
 },
 "nbformat": 4,
 "nbformat_minor": 5
}
