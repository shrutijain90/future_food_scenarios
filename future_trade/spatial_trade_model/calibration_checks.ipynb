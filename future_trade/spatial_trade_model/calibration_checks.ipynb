{
 "cells": [
  {
   "cell_type": "code",
   "execution_count": 1,
   "id": "c1014e76-8cd8-47f4-8f36-8c56c3f0342b",
   "metadata": {},
   "outputs": [
    {
     "name": "stdout",
     "output_type": "stream",
     "text": [
      "\u001b[34mfuture_trade\u001b[m\u001b[m\n"
     ]
    }
   ],
   "source": [
    "import os\n",
    "os.chdir('../..')\n",
    "!ls"
   ]
  },
  {
   "cell_type": "code",
   "execution_count": 2,
   "id": "79686dbd-b349-47ac-a72c-57bbaa0232e5",
   "metadata": {},
   "outputs": [],
   "source": [
    "import pandas as pd\n",
    "import numpy as np\n",
    "import matplotlib.pyplot as plt\n",
    "import seaborn as sns\n",
    "from pyomo.environ import *\n",
    "from pyomo.mpec import *\n",
    "import math\n",
    "import datetime\n",
    "from sklearn.metrics import mean_squared_error\n",
    "from sklearn.metrics import r2_score\n",
    "\n",
    "from future_trade.spatial_trade_model.functions_general import *\n",
    "from future_trade.spatial_trade_model.functions_calibration import *\n",
    "from pathos.multiprocessing import ProcessPool, cpu_count"
   ]
  },
  {
   "cell_type": "code",
   "execution_count": 3,
   "id": "c8002e45-588b-49f6-8e59-ada12a4c0196",
   "metadata": {},
   "outputs": [],
   "source": [
    "data_dir = '../../OPSIS/Data/Trade_clearance_model'\n",
    "calibration_output = f'{data_dir}/Output/Calibration/'"
   ]
  },
  {
   "cell_type": "code",
   "execution_count": 34,
   "id": "5e0cb287-a1b8-4835-a330-8e54cac58093",
   "metadata": {},
   "outputs": [
    {
     "name": "stdout",
     "output_type": "stream",
     "text": [
      "jwhea\n",
      "rows in calibrated trade: (2704, 3)\n",
      "accuracy: 0.7917899408284024\n",
      "precision: 0.9909456740442656\n",
      "recall: 0.6400259909031839\n",
      "r2 linear: 0.9999996386248412\n",
      "r2 log: 0.8327446372733524\n",
      "r2 linear excl dom sup: 0.9999636512050172\n",
      "r2 log excl dom sup: 0.8155938175961464\n",
      "rmse: 2184.6821080752616\n",
      "jrice\n",
      "rows in calibrated trade: (2704, 3)\n",
      "accuracy: 0.7396449704142012\n",
      "precision: 0.9708141321044547\n",
      "recall: 0.47987851176917234\n",
      "r2 linear: 0.9999999433228247\n",
      "r2 log: 0.7762046849812558\n",
      "r2 linear excl dom sup: 0.9999529626981974\n",
      "r2 log excl dom sup: 0.7480952888904234\n",
      "rmse: 926.0673067448608\n",
      "jmaiz\n",
      "rows in calibrated trade: (2704, 3)\n",
      "accuracy: 0.7407544378698225\n",
      "precision: 0.9880952380952381\n",
      "recall: 0.5456936226166995\n",
      "r2 linear: 0.9999999295722397\n",
      "r2 log: 0.7511538420155341\n",
      "r2 linear excl dom sup: 0.9999890960297244\n",
      "r2 log excl dom sup: 0.715197645684408\n",
      "rmse: 2109.7041319719556\n",
      "jbarl\n",
      "rows in calibrated trade: (2704, 3)\n",
      "accuracy: 0.8428254437869822\n",
      "precision: 0.9173989455184535\n",
      "recall: 0.58\n",
      "r2 linear: 0.9999871608293263\n",
      "r2 log: 0.7772300906851768\n",
      "r2 linear excl dom sup: 0.9996432050506463\n",
      "r2 log excl dom sup: 0.7293449356576154\n",
      "rmse: 1985.059417552714\n",
      "jmill\n",
      "rows in calibrated trade: (2704, 3)\n",
      "accuracy: 0.8912721893491125\n",
      "precision: 0.802547770700637\n",
      "recall: 0.5206611570247934\n",
      "r2 linear: 0.9999995602019787\n",
      "r2 log: 0.7464998067477897\n",
      "r2 linear excl dom sup: 0.9794177624442343\n",
      "r2 log excl dom sup: 0.6338694402224984\n",
      "rmse: 186.4068373742829\n",
      "jsorg\n",
      "rows in calibrated trade: (2704, 3)\n",
      "accuracy: 0.8631656804733728\n",
      "precision: 0.6391437308868502\n",
      "recall: 0.45336225596529284\n",
      "r2 linear: 0.999993546290479\n",
      "r2 log: 0.47795716556860146\n",
      "r2 linear excl dom sup: 0.9999223917866916\n",
      "r2 log excl dom sup: 0.23793852330222176\n",
      "rmse: 736.1338752490993\n",
      "jocer\n",
      "rows in calibrated trade: (2704, 3)\n",
      "accuracy: 0.7762573964497042\n",
      "precision: 0.9804195804195804\n",
      "recall: 0.5425696594427245\n",
      "r2 linear: 0.9999982036092525\n",
      "r2 log: 0.759921859031117\n",
      "r2 linear excl dom sup: 0.9999027787521539\n",
      "r2 log excl dom sup: 0.7084423593310472\n",
      "rmse: 446.0280956650063\n",
      "jcass\n",
      "rows in calibrated trade: (2704, 3)\n",
      "accuracy: 0.8923816568047337\n",
      "precision: 0.8928571428571429\n",
      "recall: 0.5159474671669794\n",
      "r2 linear: 0.999999975372875\n",
      "r2 log: 0.7690722325710511\n",
      "r2 linear excl dom sup: 0.9999997202447567\n",
      "r2 log excl dom sup: 0.7190586385880959\n",
      "rmse: 327.4619065519997\n",
      "jpota\n",
      "rows in calibrated trade: (2704, 3)\n",
      "accuracy: 0.6745562130177515\n",
      "precision: 0.9386666666666666\n",
      "recall: 0.4577373211963589\n",
      "r2 linear: 0.9999998166337946\n",
      "r2 log: 0.676764649313768\n",
      "r2 linear excl dom sup: 0.9995823228829503\n",
      "r2 log excl dom sup: 0.6009895491747008\n",
      "rmse: 940.4341817615456\n",
      "jyams\n",
      "rows in calibrated trade: (2704, 3)\n",
      "accuracy: 0.977810650887574\n",
      "precision: 0.9015151515151515\n",
      "recall: 0.7168674698795181\n",
      "r2 linear: 0.9999999994939216\n",
      "r2 log: 0.7274319208180289\n",
      "r2 linear excl dom sup: 0.9961017594732776\n",
      "r2 log excl dom sup: 0.47518014074176695\n",
      "rmse: 26.429597766327774\n",
      "jswpt\n",
      "rows in calibrated trade: (2704, 3)\n",
      "accuracy: 0.8938609467455622\n",
      "precision: 0.8629032258064516\n",
      "recall: 0.4582441113490364\n",
      "r2 linear: 0.9999997476172858\n",
      "r2 log: 0.7225001444979973\n",
      "r2 linear excl dom sup: 0.9492576523824602\n",
      "r2 log excl dom sup: 0.5486082222740316\n",
      "rmse: 529.2860368222036\n",
      "jorat\n",
      "rows in calibrated trade: (2704, 3)\n",
      "accuracy: 0.9541420118343196\n",
      "precision: 0.9090909090909091\n",
      "recall: 0.6293706293706294\n",
      "r2 linear: 0.9999999991490969\n",
      "r2 log: 0.7995280573772907\n",
      "r2 linear excl dom sup: 0.9999632074664813\n",
      "r2 log excl dom sup: 0.6028772571464596\n",
      "rmse: 5.75380864426719\n",
      "jvege\n",
      "rows in calibrated trade: (2704, 3)\n",
      "accuracy: 0.5761834319526628\n",
      "precision: 0.9934640522875817\n",
      "recall: 0.5461077844311377\n",
      "r2 linear: 0.9999999962646048\n",
      "r2 log: 0.576913670196208\n",
      "r2 linear excl dom sup: 0.9999753652521657\n",
      "r2 log excl dom sup: 0.4898584608267128\n",
      "rmse: 711.5037068816421\n",
      "jbana\n",
      "rows in calibrated trade: (2704, 3)\n",
      "accuracy: 0.9230769230769231\n",
      "precision: 0.9190751445086706\n",
      "recall: 0.6385542168674698\n",
      "r2 linear: 0.9999998533038345\n",
      "r2 log: 0.8782382989234909\n",
      "r2 linear excl dom sup: 0.9999880021736153\n",
      "r2 log excl dom sup: 0.8403148973329054\n",
      "rmse: 285.79671138134086\n",
      "jplnt\n",
      "rows in calibrated trade: (2704, 3)\n",
      "accuracy: 0.9789201183431953\n",
      "precision: 0.875\n",
      "recall: 0.7484276729559748\n",
      "r2 linear: 0.9999999705747968\n",
      "r2 log: 0.7074141595314545\n",
      "r2 linear excl dom sup: 0.9998551349045811\n",
      "r2 log excl dom sup: 0.5050588939155521\n",
      "rmse: 59.45631594690067\n",
      "jsubf\n",
      "rows in calibrated trade: (2704, 3)\n",
      "accuracy: 0.7200443786982249\n",
      "precision: 0.9935437589670014\n",
      "recall: 0.6493202062822316\n",
      "r2 linear: 0.9999999547026841\n",
      "r2 log: 0.7565111625539211\n",
      "r2 linear excl dom sup: 0.9999631861222993\n",
      "r2 log excl dom sup: 0.7256856466741741\n",
      "rmse: 678.7841786001825\n",
      "jtemf\n",
      "rows in calibrated trade: (2704, 3)\n",
      "accuracy: 0.6786242603550295\n",
      "precision: 0.9523809523809523\n",
      "recall: 0.5278255880665519\n",
      "r2 linear: 0.99999963380856\n",
      "r2 log: 0.6532270792114898\n",
      "r2 linear excl dom sup: 0.9990542382943576\n",
      "r2 log excl dom sup: 0.6088494934676595\n",
      "rmse: 1255.7992074302758\n",
      "jbean\n",
      "rows in calibrated trade: (2704, 3)\n",
      "accuracy: 0.6664201183431953\n",
      "precision: 0.8739612188365651\n",
      "recall: 0.4375866851595007\n",
      "r2 linear: 0.999993082869564\n",
      "r2 log: 0.5935441839334061\n",
      "r2 linear excl dom sup: 0.9986344287484024\n",
      "r2 log excl dom sup: 0.5162331646278456\n",
      "rmse: 459.4815497784779\n",
      "jchkp\n",
      "rows in calibrated trade: (2704, 3)\n",
      "accuracy: 0.8505917159763313\n",
      "precision: 0.9250720461095101\n",
      "recall: 0.4592274678111588\n",
      "r2 linear: 0.999999807124857\n",
      "r2 log: 0.7805470980977021\n",
      "r2 linear excl dom sup: 0.999756502714353\n",
      "r2 log excl dom sup: 0.746609516368991\n",
      "rmse: 96.70586208860733\n",
      "jcowp\n",
      "rows in calibrated trade: (2704, 3)\n",
      "accuracy: 0.959689349112426\n",
      "precision: 0.8992805755395683\n",
      "recall: 0.5681818181818182\n",
      "r2 linear: 0.9999999412039886\n",
      "r2 log: 0.7117115233684471\n",
      "r2 linear excl dom sup: 0.97705855289664\n",
      "r2 log excl dom sup: 0.5294622458010589\n",
      "rmse: 26.25774605155408\n",
      "jlent\n",
      "rows in calibrated trade: (2704, 3)\n",
      "accuracy: 0.8757396449704142\n",
      "precision: 0.8833819241982507\n",
      "recall: 0.5058430717863105\n",
      "r2 linear: 0.9999886415398901\n",
      "r2 log: 0.7865815290945946\n",
      "r2 linear excl dom sup: 0.9999453513188504\n",
      "r2 log excl dom sup: 0.7566465778968197\n",
      "rmse: 103.54540262319887\n",
      "jpigp\n",
      "rows in calibrated trade: (2704, 3)\n",
      "accuracy: 0.9859467455621301\n",
      "precision: 0.975609756097561\n",
      "recall: 0.6896551724137931\n",
      "r2 linear: 0.9999999406355916\n",
      "r2 log: 0.5722263609458669\n",
      "r2 linear excl dom sup: 0.9999926384736832\n",
      "r2 log excl dom sup: 0.34390947015457884\n",
      "rmse: 18.89846865618762\n",
      "jopul\n",
      "rows in calibrated trade: (2704, 3)\n",
      "accuracy: 0.6667899408284024\n",
      "precision: 0.9332247557003257\n",
      "recall: 0.39986043265875787\n",
      "r2 linear: 0.9999745149985291\n",
      "r2 log: 0.669425963388016\n",
      "r2 linear excl dom sup: 0.9998934563680795\n",
      "r2 log excl dom sup: 0.6000941549728895\n",
      "rmse: 417.6416873416832\n",
      "jsoyb\n",
      "rows in calibrated trade: (2704, 3)\n",
      "accuracy: 0.7011834319526628\n",
      "precision: 0.9712\n",
      "recall: 0.4345025053686471\n",
      "r2 linear: 0.999999482545644\n",
      "r2 log: 0.7142839562079013\n",
      "r2 linear excl dom sup: 0.999999032181197\n",
      "r2 log excl dom sup: 0.6823256078232822\n",
      "rmse: 1483.1635612405248\n",
      "jgrnd\n",
      "rows in calibrated trade: (2704, 3)\n",
      "accuracy: 0.7869822485207101\n",
      "precision: 0.9729119638826185\n",
      "recall: 0.43316582914572865\n",
      "r2 linear: 0.9999993388084375\n",
      "r2 log: 0.7746148102620649\n",
      "r2 linear excl dom sup: 0.9987650198590229\n",
      "r2 log excl dom sup: 0.729646409327764\n",
      "rmse: 269.0666707783896\n",
      "jothr\n",
      "rows in calibrated trade: (2704, 3)\n",
      "accuracy: 0.6575443786982249\n",
      "precision: 0.9911894273127754\n",
      "recall: 0.5512003919647231\n",
      "r2 linear: 0.9999938889967299\n",
      "r2 log: 0.7165206548118563\n",
      "r2 linear excl dom sup: 0.9998450692386304\n",
      "r2 log excl dom sup: 0.6874960268561017\n",
      "rmse: 297.2217853332878\n",
      "jrpsd\n",
      "rows in calibrated trade: (2704, 3)\n",
      "accuracy: 0.7488905325443787\n",
      "precision: 0.9133448873483535\n",
      "recall: 0.45588235294117646\n",
      "r2 linear: 0.9999969589227655\n",
      "r2 log: 0.70287345722715\n",
      "r2 linear excl dom sup: 0.999978975397196\n",
      "r2 log excl dom sup: 0.6644267822219722\n",
      "rmse: 673.719570660853\n",
      "jsnfl\n",
      "rows in calibrated trade: (2704, 3)\n",
      "accuracy: 0.7729289940828402\n",
      "precision: 0.899513776337115\n",
      "recall: 0.5013550135501355\n",
      "r2 linear: 0.9999814387986129\n",
      "r2 log: 0.651394278105258\n",
      "r2 linear excl dom sup: 0.9999016929200826\n",
      "r2 log excl dom sup: 0.6219710163096701\n",
      "rmse: 815.0397942798185\n",
      "jtols\n",
      "rows in calibrated trade: (2704, 3)\n",
      "accuracy: 0.6568047337278107\n",
      "precision: 0.9933774834437086\n",
      "recall: 0.532724505327245\n",
      "r2 linear: 0.9999992093288133\n",
      "r2 log: 0.6935721687276326\n",
      "r2 linear excl dom sup: 0.9998435485849908\n",
      "r2 log excl dom sup: 0.6564553826713095\n",
      "rmse: 469.85599617865466\n",
      "jpalm\n",
      "rows in calibrated trade: (2704, 3)\n",
      "accuracy: 0.9038461538461539\n",
      "precision: 0.7843551797040169\n",
      "recall: 0.7013232514177694\n",
      "r2 linear: 0.9999997253479275\n",
      "r2 log: 0.7447127829554541\n",
      "r2 linear excl dom sup: 0.9999973427353064\n",
      "r2 log excl dom sup: 0.7569149237541846\n",
      "rmse: 1279.201024572185\n",
      "jsugb\n",
      "rows in calibrated trade: (2704, 3)\n",
      "accuracy: 0.8535502958579881\n",
      "precision: 0.9705882352941176\n",
      "recall: 0.6245019920318725\n",
      "r2 linear: 0.9999995641666757\n",
      "r2 log: 0.8080300336910358\n",
      "r2 linear excl dom sup: 0.9999473050228784\n",
      "r2 log excl dom sup: 0.7851420035971187\n",
      "rmse: 875.8808958653652\n",
      "jsugc\n",
      "rows in calibrated trade: (2704, 3)\n",
      "accuracy: 0.8391272189349113\n",
      "precision: 0.9407114624505929\n",
      "recall: 0.6467391304347826\n",
      "r2 linear: 0.9999999855665529\n",
      "r2 log: 0.7703560804754677\n",
      "r2 linear excl dom sup: 0.9999944200211687\n",
      "r2 log excl dom sup: 0.7493999119139547\n",
      "rmse: 1720.364886973264\n"
     ]
    }
   ],
   "source": [
    "for crop_code in [\n",
    "    'jwhea', 'jrice', 'jmaiz', 'jbarl', 'jmill', 'jsorg', \n",
    "    'jocer', 'jcass', 'jpota', 'jyams', 'jswpt', 'jorat', \n",
    "    'jvege', 'jbana', 'jplnt', 'jsubf', 'jtemf', 'jbean', \n",
    "    'jchkp', 'jcowp', 'jlent', 'jpigp', 'jopul', 'jsoyb',\n",
    "    'jgrnd', 'jothr', 'jrpsd', 'jsnfl', 'jtols', 'jpalm', \n",
    "    'jsugb', 'jsugc']:\n",
    "    print(crop_code)\n",
    "    df_country = pd.read_csv(f'{data_dir}/Grouped_Input/Country_data/country_information_'+str(crop_code)+'.csv')\n",
    "    df_bil = pd.read_csv(f'{data_dir}/Grouped_Input/Trade_cost/bilateral_trade_cost_'+str(crop_code)+'.csv')\n",
    "    \n",
    "    trade_cal = pd.read_csv(f'{calibration_output}trade_calibration_{crop_code}.csv', header=None)\n",
    "    trade_cal.columns = ['from_abbreviation', 'to_abbreviation', 'trade_cal']\n",
    "    trade_cal['trade_cal'] = trade_cal['trade_cal'] * 1000\n",
    "\n",
    "    calib = pd.read_csv(f'{calibration_output}calib_calibration_{crop_code}.csv', header=None)\n",
    "    calib.columns = ['from_abbreviation', 'to_abbreviation', 'calib']\n",
    "\n",
    "    tc = pd.read_csv(f'{calibration_output}tc_calibration_{crop_code}.csv', header=None)\n",
    "    tc.columns = ['from_abbreviation', 'to_abbreviation', 'tc']\n",
    "\n",
    "    conprice = pd.read_csv(f'{calibration_output}conprice_calibration_{crop_code}.csv', header=None)\n",
    "    conprice.columns = ['abbreviation', 'conprice']\n",
    "\n",
    "    prodprice = pd.read_csv(f'{calibration_output}prodprice_calibration_{crop_code}.csv', header=None)\n",
    "    prodprice.columns = ['abbreviation', 'prodprice']\n",
    "    \n",
    "    print(f'rows in calibrated trade: {trade_cal.shape}')\n",
    "\n",
    "    df_bil = df_bil.merge(trade_cal)\n",
    "    print(f\"accuracy: {len(df_bil[(df_bil['trade_cal']>1)==(df_bil['q_calib']>1)])/(len(df_bil))}\")\n",
    "    print(f\"precision: {len(df_bil[(df_bil['trade_cal']>1) & (df_bil['q_calib']>1)]) / len(df_bil[(df_bil['trade_cal']>1)])}\")\n",
    "    print(f\"recall: {len(df_bil[(df_bil['trade_cal']>1) & (df_bil['q_calib']>1)]) / len(df_bil[(df_bil['q_calib']>1)])}\")\n",
    "    print(f\"r2 linear: {r2_score(df_bil['q_calib'], df_bil['trade_cal'])}\")\n",
    "    print(f\"r2 log: {r2_score(np.log(df_bil['q_calib']+1), np.log(df_bil['trade_cal']+1))}\")\n",
    "    print(f\"r2 linear excl dom sup: {r2_score(df_bil[df_bil['from_abbreviation']!=df_bil['to_abbreviation']]['q_calib'], df_bil[df_bil['from_abbreviation']!=df_bil['to_abbreviation']]['trade_cal'])}\")\n",
    "    print(f\"r2 log excl dom sup: {r2_score(np.log(df_bil[df_bil['from_abbreviation']!=df_bil['to_abbreviation']]['q_calib']+1), np.log(df_bil[df_bil['from_abbreviation']!=df_bil['to_abbreviation']]['trade_cal']+1))}\")\n",
    "    print(f\"rmse: {np.sqrt(mean_squared_error(df_bil['q_calib'], df_bil['trade_cal']))}\")"
   ]
  },
  {
   "cell_type": "code",
   "execution_count": 35,
   "id": "54d0c928-04d6-4f25-bec4-2c2c48412d1a",
   "metadata": {},
   "outputs": [],
   "source": [
    "crop_code = 'jbean'"
   ]
  },
  {
   "cell_type": "code",
   "execution_count": 36,
   "id": "d41134d9-45cb-4a0d-8f85-897c9d124759",
   "metadata": {},
   "outputs": [],
   "source": [
    "df_country = pd.read_csv(f'{data_dir}/Grouped_Input/Country_data/country_information_'+str(crop_code)+'.csv')\n",
    "df_bil = pd.read_csv(f'{data_dir}/Grouped_Input/Trade_cost/bilateral_trade_cost_'+str(crop_code)+'.csv')\n",
    "\n",
    "trade_cal = pd.read_csv(f'{calibration_output}trade_calibration_{crop_code}.csv', header=None)\n",
    "trade_cal.columns = ['from_abbreviation', 'to_abbreviation', 'trade_cal']\n",
    "trade_cal['trade_cal'] = trade_cal['trade_cal'] * 1000\n",
    "\n",
    "calib = pd.read_csv(f'{calibration_output}calib_calibration_{crop_code}.csv', header=None)\n",
    "calib.columns = ['from_abbreviation', 'to_abbreviation', 'calib']\n",
    "\n",
    "tc = pd.read_csv(f'{calibration_output}tc_calibration_{crop_code}.csv', header=None)\n",
    "tc.columns = ['from_abbreviation', 'to_abbreviation', 'tc']\n",
    "\n",
    "conprice = pd.read_csv(f'{calibration_output}conprice_calibration_{crop_code}.csv', header=None)\n",
    "conprice.columns = ['abbreviation', 'conprice']\n",
    "\n",
    "prodprice = pd.read_csv(f'{calibration_output}prodprice_calibration_{crop_code}.csv', header=None)\n",
    "prodprice.columns = ['abbreviation', 'prodprice']"
   ]
  },
  {
   "cell_type": "code",
   "execution_count": 37,
   "id": "ce74f6a0-e7fb-4adb-9186-025dfb99cb18",
   "metadata": {},
   "outputs": [
    {
     "data": {
      "text/html": [
       "<div>\n",
       "<style scoped>\n",
       "    .dataframe tbody tr th:only-of-type {\n",
       "        vertical-align: middle;\n",
       "    }\n",
       "\n",
       "    .dataframe tbody tr th {\n",
       "        vertical-align: top;\n",
       "    }\n",
       "\n",
       "    .dataframe thead th {\n",
       "        text-align: right;\n",
       "    }\n",
       "</style>\n",
       "<table border=\"1\" class=\"dataframe\">\n",
       "  <thead>\n",
       "    <tr style=\"text-align: right;\">\n",
       "      <th></th>\n",
       "      <th>calib</th>\n",
       "    </tr>\n",
       "  </thead>\n",
       "  <tbody>\n",
       "    <tr>\n",
       "      <th>count</th>\n",
       "      <td>2704.000000</td>\n",
       "    </tr>\n",
       "    <tr>\n",
       "      <th>mean</th>\n",
       "      <td>0.175722</td>\n",
       "    </tr>\n",
       "    <tr>\n",
       "      <th>std</th>\n",
       "      <td>1.440617</td>\n",
       "    </tr>\n",
       "    <tr>\n",
       "      <th>min</th>\n",
       "      <td>0.000000</td>\n",
       "    </tr>\n",
       "    <tr>\n",
       "      <th>25%</th>\n",
       "      <td>0.000000</td>\n",
       "    </tr>\n",
       "    <tr>\n",
       "      <th>50%</th>\n",
       "      <td>0.000000</td>\n",
       "    </tr>\n",
       "    <tr>\n",
       "      <th>75%</th>\n",
       "      <td>0.000000</td>\n",
       "    </tr>\n",
       "    <tr>\n",
       "      <th>max</th>\n",
       "      <td>31.592697</td>\n",
       "    </tr>\n",
       "  </tbody>\n",
       "</table>\n",
       "</div>"
      ],
      "text/plain": [
       "             calib\n",
       "count  2704.000000\n",
       "mean      0.175722\n",
       "std       1.440617\n",
       "min       0.000000\n",
       "25%       0.000000\n",
       "50%       0.000000\n",
       "75%       0.000000\n",
       "max      31.592697"
      ]
     },
     "execution_count": 37,
     "metadata": {},
     "output_type": "execute_result"
    }
   ],
   "source": [
    "calib.describe()"
   ]
  },
  {
   "cell_type": "code",
   "execution_count": 38,
   "id": "52803680-85d8-4d29-8b80-9f68cb82bfe5",
   "metadata": {},
   "outputs": [
    {
     "data": {
      "text/html": [
       "<div>\n",
       "<style scoped>\n",
       "    .dataframe tbody tr th:only-of-type {\n",
       "        vertical-align: middle;\n",
       "    }\n",
       "\n",
       "    .dataframe tbody tr th {\n",
       "        vertical-align: top;\n",
       "    }\n",
       "\n",
       "    .dataframe thead th {\n",
       "        text-align: right;\n",
       "    }\n",
       "</style>\n",
       "<table border=\"1\" class=\"dataframe\">\n",
       "  <thead>\n",
       "    <tr style=\"text-align: right;\">\n",
       "      <th></th>\n",
       "      <th>tc</th>\n",
       "    </tr>\n",
       "  </thead>\n",
       "  <tbody>\n",
       "    <tr>\n",
       "      <th>count</th>\n",
       "      <td>2704.000000</td>\n",
       "    </tr>\n",
       "    <tr>\n",
       "      <th>mean</th>\n",
       "      <td>164.465701</td>\n",
       "    </tr>\n",
       "    <tr>\n",
       "      <th>std</th>\n",
       "      <td>59.195824</td>\n",
       "    </tr>\n",
       "    <tr>\n",
       "      <th>min</th>\n",
       "      <td>14.016404</td>\n",
       "    </tr>\n",
       "    <tr>\n",
       "      <th>25%</th>\n",
       "      <td>123.396396</td>\n",
       "    </tr>\n",
       "    <tr>\n",
       "      <th>50%</th>\n",
       "      <td>153.982683</td>\n",
       "    </tr>\n",
       "    <tr>\n",
       "      <th>75%</th>\n",
       "      <td>193.503371</td>\n",
       "    </tr>\n",
       "    <tr>\n",
       "      <th>max</th>\n",
       "      <td>487.202824</td>\n",
       "    </tr>\n",
       "  </tbody>\n",
       "</table>\n",
       "</div>"
      ],
      "text/plain": [
       "                tc\n",
       "count  2704.000000\n",
       "mean    164.465701\n",
       "std      59.195824\n",
       "min      14.016404\n",
       "25%     123.396396\n",
       "50%     153.982683\n",
       "75%     193.503371\n",
       "max     487.202824"
      ]
     },
     "execution_count": 38,
     "metadata": {},
     "output_type": "execute_result"
    }
   ],
   "source": [
    "tc.describe()"
   ]
  },
  {
   "cell_type": "code",
   "execution_count": 39,
   "id": "c3ce3ca3-fed0-40e5-9cb3-c4a59cd87932",
   "metadata": {},
   "outputs": [
    {
     "data": {
      "text/html": [
       "<div>\n",
       "<style scoped>\n",
       "    .dataframe tbody tr th:only-of-type {\n",
       "        vertical-align: middle;\n",
       "    }\n",
       "\n",
       "    .dataframe tbody tr th {\n",
       "        vertical-align: top;\n",
       "    }\n",
       "\n",
       "    .dataframe thead th {\n",
       "        text-align: right;\n",
       "    }\n",
       "</style>\n",
       "<table border=\"1\" class=\"dataframe\">\n",
       "  <thead>\n",
       "    <tr style=\"text-align: right;\">\n",
       "      <th></th>\n",
       "      <th>conprice</th>\n",
       "    </tr>\n",
       "  </thead>\n",
       "  <tbody>\n",
       "    <tr>\n",
       "      <th>count</th>\n",
       "      <td>52.000000</td>\n",
       "    </tr>\n",
       "    <tr>\n",
       "      <th>mean</th>\n",
       "      <td>534.140096</td>\n",
       "    </tr>\n",
       "    <tr>\n",
       "      <th>std</th>\n",
       "      <td>109.243010</td>\n",
       "    </tr>\n",
       "    <tr>\n",
       "      <th>min</th>\n",
       "      <td>349.350637</td>\n",
       "    </tr>\n",
       "    <tr>\n",
       "      <th>25%</th>\n",
       "      <td>442.999805</td>\n",
       "    </tr>\n",
       "    <tr>\n",
       "      <th>50%</th>\n",
       "      <td>531.564257</td>\n",
       "    </tr>\n",
       "    <tr>\n",
       "      <th>75%</th>\n",
       "      <td>597.109384</td>\n",
       "    </tr>\n",
       "    <tr>\n",
       "      <th>max</th>\n",
       "      <td>811.090688</td>\n",
       "    </tr>\n",
       "  </tbody>\n",
       "</table>\n",
       "</div>"
      ],
      "text/plain": [
       "         conprice\n",
       "count   52.000000\n",
       "mean   534.140096\n",
       "std    109.243010\n",
       "min    349.350637\n",
       "25%    442.999805\n",
       "50%    531.564257\n",
       "75%    597.109384\n",
       "max    811.090688"
      ]
     },
     "execution_count": 39,
     "metadata": {},
     "output_type": "execute_result"
    }
   ],
   "source": [
    "conprice.describe()"
   ]
  },
  {
   "cell_type": "code",
   "execution_count": 40,
   "id": "a0200632-8b37-450f-b76d-ee57f4f767a9",
   "metadata": {},
   "outputs": [
    {
     "data": {
      "text/html": [
       "<div>\n",
       "<style scoped>\n",
       "    .dataframe tbody tr th:only-of-type {\n",
       "        vertical-align: middle;\n",
       "    }\n",
       "\n",
       "    .dataframe tbody tr th {\n",
       "        vertical-align: top;\n",
       "    }\n",
       "\n",
       "    .dataframe thead th {\n",
       "        text-align: right;\n",
       "    }\n",
       "</style>\n",
       "<table border=\"1\" class=\"dataframe\">\n",
       "  <thead>\n",
       "    <tr style=\"text-align: right;\">\n",
       "      <th></th>\n",
       "      <th>prodprice</th>\n",
       "    </tr>\n",
       "  </thead>\n",
       "  <tbody>\n",
       "    <tr>\n",
       "      <th>count</th>\n",
       "      <td>52.000000</td>\n",
       "    </tr>\n",
       "    <tr>\n",
       "      <th>mean</th>\n",
       "      <td>989.478621</td>\n",
       "    </tr>\n",
       "    <tr>\n",
       "      <th>std</th>\n",
       "      <td>479.510015</td>\n",
       "    </tr>\n",
       "    <tr>\n",
       "      <th>min</th>\n",
       "      <td>318.800361</td>\n",
       "    </tr>\n",
       "    <tr>\n",
       "      <th>25%</th>\n",
       "      <td>659.995590</td>\n",
       "    </tr>\n",
       "    <tr>\n",
       "      <th>50%</th>\n",
       "      <td>975.053828</td>\n",
       "    </tr>\n",
       "    <tr>\n",
       "      <th>75%</th>\n",
       "      <td>1258.138475</td>\n",
       "    </tr>\n",
       "    <tr>\n",
       "      <th>max</th>\n",
       "      <td>2507.758379</td>\n",
       "    </tr>\n",
       "  </tbody>\n",
       "</table>\n",
       "</div>"
      ],
      "text/plain": [
       "         prodprice\n",
       "count    52.000000\n",
       "mean    989.478621\n",
       "std     479.510015\n",
       "min     318.800361\n",
       "25%     659.995590\n",
       "50%     975.053828\n",
       "75%    1258.138475\n",
       "max    2507.758379"
      ]
     },
     "execution_count": 40,
     "metadata": {},
     "output_type": "execute_result"
    }
   ],
   "source": [
    "prodprice.describe()"
   ]
  },
  {
   "cell_type": "code",
   "execution_count": 41,
   "id": "faab6cd5-61ec-4c06-b29e-fbe5cdeb3f15",
   "metadata": {},
   "outputs": [
    {
     "data": {
      "text/html": [
       "<div>\n",
       "<style scoped>\n",
       "    .dataframe tbody tr th:only-of-type {\n",
       "        vertical-align: middle;\n",
       "    }\n",
       "\n",
       "    .dataframe tbody tr th {\n",
       "        vertical-align: top;\n",
       "    }\n",
       "\n",
       "    .dataframe thead th {\n",
       "        text-align: right;\n",
       "    }\n",
       "</style>\n",
       "<table border=\"1\" class=\"dataframe\">\n",
       "  <thead>\n",
       "    <tr style=\"text-align: right;\">\n",
       "      <th></th>\n",
       "      <th>from_abbreviation</th>\n",
       "      <th>to_abbreviation</th>\n",
       "      <th>calib</th>\n",
       "    </tr>\n",
       "  </thead>\n",
       "  <tbody>\n",
       "    <tr>\n",
       "      <th>1113</th>\n",
       "      <td>G22</td>\n",
       "      <td>G22</td>\n",
       "      <td>0.332785</td>\n",
       "    </tr>\n",
       "    <tr>\n",
       "      <th>1115</th>\n",
       "      <td>G22</td>\n",
       "      <td>G24</td>\n",
       "      <td>0.334954</td>\n",
       "    </tr>\n",
       "    <tr>\n",
       "      <th>1125</th>\n",
       "      <td>G22</td>\n",
       "      <td>G34</td>\n",
       "      <td>0.350247</td>\n",
       "    </tr>\n",
       "    <tr>\n",
       "      <th>1661</th>\n",
       "      <td>G32</td>\n",
       "      <td>G50</td>\n",
       "      <td>0.401987</td>\n",
       "    </tr>\n",
       "    <tr>\n",
       "      <th>2477</th>\n",
       "      <td>G48</td>\n",
       "      <td>G34</td>\n",
       "      <td>0.429413</td>\n",
       "    </tr>\n",
       "    <tr>\n",
       "      <th>...</th>\n",
       "      <td>...</td>\n",
       "      <td>...</td>\n",
       "      <td>...</td>\n",
       "    </tr>\n",
       "    <tr>\n",
       "      <th>198</th>\n",
       "      <td>G04</td>\n",
       "      <td>G43</td>\n",
       "      <td>18.387404</td>\n",
       "    </tr>\n",
       "    <tr>\n",
       "      <th>168</th>\n",
       "      <td>G04</td>\n",
       "      <td>G13</td>\n",
       "      <td>18.845565</td>\n",
       "    </tr>\n",
       "    <tr>\n",
       "      <th>178</th>\n",
       "      <td>G04</td>\n",
       "      <td>G23</td>\n",
       "      <td>24.229154</td>\n",
       "    </tr>\n",
       "    <tr>\n",
       "      <th>2460</th>\n",
       "      <td>G48</td>\n",
       "      <td>G17</td>\n",
       "      <td>26.452261</td>\n",
       "    </tr>\n",
       "    <tr>\n",
       "      <th>2466</th>\n",
       "      <td>G48</td>\n",
       "      <td>G23</td>\n",
       "      <td>31.592697</td>\n",
       "    </tr>\n",
       "  </tbody>\n",
       "</table>\n",
       "<p>100 rows × 3 columns</p>\n",
       "</div>"
      ],
      "text/plain": [
       "     from_abbreviation to_abbreviation      calib\n",
       "1113               G22             G22   0.332785\n",
       "1115               G22             G24   0.334954\n",
       "1125               G22             G34   0.350247\n",
       "1661               G32             G50   0.401987\n",
       "2477               G48             G34   0.429413\n",
       "...                ...             ...        ...\n",
       "198                G04             G43  18.387404\n",
       "168                G04             G13  18.845565\n",
       "178                G04             G23  24.229154\n",
       "2460               G48             G17  26.452261\n",
       "2466               G48             G23  31.592697\n",
       "\n",
       "[100 rows x 3 columns]"
      ]
     },
     "execution_count": 41,
     "metadata": {},
     "output_type": "execute_result"
    }
   ],
   "source": [
    "calib.sort_values('calib').tail(100)"
   ]
  },
  {
   "cell_type": "code",
   "execution_count": 42,
   "id": "f2e24dca-b170-4624-8883-d3050fd316d6",
   "metadata": {},
   "outputs": [
    {
     "data": {
      "text/html": [
       "<div>\n",
       "<style scoped>\n",
       "    .dataframe tbody tr th:only-of-type {\n",
       "        vertical-align: middle;\n",
       "    }\n",
       "\n",
       "    .dataframe tbody tr th {\n",
       "        vertical-align: top;\n",
       "    }\n",
       "\n",
       "    .dataframe thead th {\n",
       "        text-align: right;\n",
       "    }\n",
       "</style>\n",
       "<table border=\"1\" class=\"dataframe\">\n",
       "  <thead>\n",
       "    <tr style=\"text-align: right;\">\n",
       "      <th></th>\n",
       "      <th>trade_USD_t</th>\n",
       "    </tr>\n",
       "  </thead>\n",
       "  <tbody>\n",
       "    <tr>\n",
       "      <th>count</th>\n",
       "      <td>2704.000000</td>\n",
       "    </tr>\n",
       "    <tr>\n",
       "      <th>mean</th>\n",
       "      <td>164.422307</td>\n",
       "    </tr>\n",
       "    <tr>\n",
       "      <th>std</th>\n",
       "      <td>59.125416</td>\n",
       "    </tr>\n",
       "    <tr>\n",
       "      <th>min</th>\n",
       "      <td>20.662449</td>\n",
       "    </tr>\n",
       "    <tr>\n",
       "      <th>25%</th>\n",
       "      <td>123.078758</td>\n",
       "    </tr>\n",
       "    <tr>\n",
       "      <th>50%</th>\n",
       "      <td>153.826487</td>\n",
       "    </tr>\n",
       "    <tr>\n",
       "      <th>75%</th>\n",
       "      <td>193.297088</td>\n",
       "    </tr>\n",
       "    <tr>\n",
       "      <th>max</th>\n",
       "      <td>487.202836</td>\n",
       "    </tr>\n",
       "  </tbody>\n",
       "</table>\n",
       "</div>"
      ],
      "text/plain": [
       "       trade_USD_t\n",
       "count  2704.000000\n",
       "mean    164.422307\n",
       "std      59.125416\n",
       "min      20.662449\n",
       "25%     123.078758\n",
       "50%     153.826487\n",
       "75%     193.297088\n",
       "max     487.202836"
      ]
     },
     "execution_count": 42,
     "metadata": {},
     "output_type": "execute_result"
    }
   ],
   "source": [
    "df_bil[['trade_USD_t']].describe()"
   ]
  },
  {
   "cell_type": "code",
   "execution_count": 43,
   "id": "e9563401-6cd3-4f83-beba-243d19492654",
   "metadata": {},
   "outputs": [
    {
     "data": {
      "text/plain": [
       "count      52.000000\n",
       "mean      988.041768\n",
       "std       490.929813\n",
       "min       245.141757\n",
       "25%       687.661551\n",
       "50%       975.774390\n",
       "75%      1260.904224\n",
       "max      2507.841736\n",
       "Name: prod_price_USD_t, dtype: float64"
      ]
     },
     "execution_count": 43,
     "metadata": {},
     "output_type": "execute_result"
    }
   ],
   "source": [
    "df_country['prod_price_USD_t'].describe()"
   ]
  },
  {
   "cell_type": "code",
   "execution_count": 44,
   "id": "000d19b8-79bf-4ec2-b986-58d079846838",
   "metadata": {},
   "outputs": [
    {
     "data": {
      "text/plain": [
       "0.9984095259121937"
      ]
     },
     "execution_count": 44,
     "metadata": {},
     "output_type": "execute_result"
    }
   ],
   "source": [
    "d = df_bil[['from_abbreviation', 'to_abbreviation', 'trade_USD_t']].merge(tc)\n",
    "r2_score(d['trade_USD_t'], d['tc'])"
   ]
  },
  {
   "cell_type": "code",
   "execution_count": 45,
   "id": "f6f82902-cdc3-486f-a77e-3a0e9ce1511b",
   "metadata": {},
   "outputs": [
    {
     "data": {
      "text/plain": [
       "2.3575297683703766"
      ]
     },
     "execution_count": 45,
     "metadata": {},
     "output_type": "execute_result"
    }
   ],
   "source": [
    "np.sqrt(mean_squared_error(d['trade_USD_t'], d['tc']))"
   ]
  },
  {
   "cell_type": "code",
   "execution_count": 46,
   "id": "85e73ad0-9950-4708-8789-76eae6ffc690",
   "metadata": {},
   "outputs": [
    {
     "data": {
      "text/plain": [
       "0.9970452489312205"
      ]
     },
     "execution_count": 46,
     "metadata": {},
     "output_type": "execute_result"
    }
   ],
   "source": [
    "d = df_country[['abbreviation', 'prod_price_USD_t']].merge(prodprice)\n",
    "r2_score(d['prod_price_USD_t'], d['prodprice'])"
   ]
  },
  {
   "cell_type": "code",
   "execution_count": 47,
   "id": "d77a84de-8fc7-433e-9ff7-55fc0a56e352",
   "metadata": {},
   "outputs": [
    {
     "data": {
      "text/plain": [
       "26.427937560313282"
      ]
     },
     "execution_count": 47,
     "metadata": {},
     "output_type": "execute_result"
    }
   ],
   "source": [
    "np.sqrt(mean_squared_error(d['prod_price_USD_t'], d['prodprice']))"
   ]
  },
  {
   "cell_type": "code",
   "execution_count": 48,
   "id": "6e3d2dfe-ded9-4dbd-8e39-163250a49355",
   "metadata": {},
   "outputs": [],
   "source": [
    "df_bil = df_bil.merge(trade_cal)"
   ]
  },
  {
   "cell_type": "code",
   "execution_count": 49,
   "id": "a28bd214-c398-4c2a-9acf-7bfea3c09de2",
   "metadata": {},
   "outputs": [
    {
     "data": {
      "text/html": [
       "<div>\n",
       "<style scoped>\n",
       "    .dataframe tbody tr th:only-of-type {\n",
       "        vertical-align: middle;\n",
       "    }\n",
       "\n",
       "    .dataframe tbody tr th {\n",
       "        vertical-align: top;\n",
       "    }\n",
       "\n",
       "    .dataframe thead th {\n",
       "        text-align: right;\n",
       "    }\n",
       "</style>\n",
       "<table border=\"1\" class=\"dataframe\">\n",
       "  <thead>\n",
       "    <tr style=\"text-align: right;\">\n",
       "      <th></th>\n",
       "      <th>q_calib</th>\n",
       "      <th>trade_cal</th>\n",
       "    </tr>\n",
       "  </thead>\n",
       "  <tbody>\n",
       "    <tr>\n",
       "      <th>count</th>\n",
       "      <td>2.704000e+03</td>\n",
       "      <td>2.704000e+03</td>\n",
       "    </tr>\n",
       "    <tr>\n",
       "      <th>mean</th>\n",
       "      <td>1.234991e+04</td>\n",
       "      <td>1.233578e+04</td>\n",
       "    </tr>\n",
       "    <tr>\n",
       "      <th>std</th>\n",
       "      <td>1.747372e+05</td>\n",
       "      <td>1.747222e+05</td>\n",
       "    </tr>\n",
       "    <tr>\n",
       "      <th>min</th>\n",
       "      <td>0.000000e+00</td>\n",
       "      <td>1.000000e+00</td>\n",
       "    </tr>\n",
       "    <tr>\n",
       "      <th>25%</th>\n",
       "      <td>2.711874e-02</td>\n",
       "      <td>1.000000e+00</td>\n",
       "    </tr>\n",
       "    <tr>\n",
       "      <th>50%</th>\n",
       "      <td>1.642511e+00</td>\n",
       "      <td>1.000000e+00</td>\n",
       "    </tr>\n",
       "    <tr>\n",
       "      <th>75%</th>\n",
       "      <td>1.084856e+02</td>\n",
       "      <td>1.125000e+01</td>\n",
       "    </tr>\n",
       "    <tr>\n",
       "      <th>max</th>\n",
       "      <td>5.900894e+06</td>\n",
       "      <td>5.900455e+06</td>\n",
       "    </tr>\n",
       "  </tbody>\n",
       "</table>\n",
       "</div>"
      ],
      "text/plain": [
       "            q_calib     trade_cal\n",
       "count  2.704000e+03  2.704000e+03\n",
       "mean   1.234991e+04  1.233578e+04\n",
       "std    1.747372e+05  1.747222e+05\n",
       "min    0.000000e+00  1.000000e+00\n",
       "25%    2.711874e-02  1.000000e+00\n",
       "50%    1.642511e+00  1.000000e+00\n",
       "75%    1.084856e+02  1.125000e+01\n",
       "max    5.900894e+06  5.900455e+06"
      ]
     },
     "execution_count": 49,
     "metadata": {},
     "output_type": "execute_result"
    }
   ],
   "source": [
    "df_bil[['q_calib', 'trade_cal']].describe()"
   ]
  },
  {
   "cell_type": "code",
   "execution_count": 50,
   "id": "1f4cd2b4-f66e-4fe4-a264-0416abf78261",
   "metadata": {},
   "outputs": [
    {
     "data": {
      "text/plain": [
       "q_calib      3.339417e+07\n",
       "trade_cal    3.335595e+07\n",
       "dtype: float64"
      ]
     },
     "execution_count": 50,
     "metadata": {},
     "output_type": "execute_result"
    }
   ],
   "source": [
    "df_bil[['q_calib', 'trade_cal']].sum()"
   ]
  },
  {
   "cell_type": "code",
   "execution_count": 51,
   "id": "2a6def01-6752-4ecd-b749-8bee555aada2",
   "metadata": {},
   "outputs": [
    {
     "data": {
      "text/plain": [
       "q_calib      4.166576e+06\n",
       "trade_cal    4.143943e+06\n",
       "dtype: float64"
      ]
     },
     "execution_count": 51,
     "metadata": {},
     "output_type": "execute_result"
    }
   ],
   "source": [
    "df_bil[df_bil['from_abbreviation']!=df_bil['to_abbreviation']][['q_calib', 'trade_cal']].sum()"
   ]
  },
  {
   "cell_type": "code",
   "execution_count": 52,
   "id": "9c60ee24-a501-4625-b1b0-5f8565caad66",
   "metadata": {},
   "outputs": [
    {
     "data": {
      "text/plain": [
       "(1442, 10)"
      ]
     },
     "execution_count": 52,
     "metadata": {},
     "output_type": "execute_result"
    }
   ],
   "source": [
    "df_bil[df_bil['q_calib']>1].shape"
   ]
  },
  {
   "cell_type": "code",
   "execution_count": 53,
   "id": "6a3949ac-9495-446a-8553-0d83844d6d07",
   "metadata": {},
   "outputs": [
    {
     "data": {
      "text/plain": [
       "(722, 10)"
      ]
     },
     "execution_count": 53,
     "metadata": {},
     "output_type": "execute_result"
    }
   ],
   "source": [
    "df_bil[df_bil['trade_cal']>1].shape"
   ]
  },
  {
   "cell_type": "code",
   "execution_count": 54,
   "id": "d9027c49-7cb1-4fa5-a767-fa3f827c4a1e",
   "metadata": {},
   "outputs": [
    {
     "data": {
      "text/html": [
       "<div>\n",
       "<style scoped>\n",
       "    .dataframe tbody tr th:only-of-type {\n",
       "        vertical-align: middle;\n",
       "    }\n",
       "\n",
       "    .dataframe tbody tr th {\n",
       "        vertical-align: top;\n",
       "    }\n",
       "\n",
       "    .dataframe thead th {\n",
       "        text-align: right;\n",
       "    }\n",
       "</style>\n",
       "<table border=\"1\" class=\"dataframe\">\n",
       "  <thead>\n",
       "    <tr style=\"text-align: right;\">\n",
       "      <th></th>\n",
       "      <th>q_calib</th>\n",
       "      <th>trade_cal</th>\n",
       "    </tr>\n",
       "  </thead>\n",
       "  <tbody>\n",
       "    <tr>\n",
       "      <th>count</th>\n",
       "      <td>9.100000e+01</td>\n",
       "      <td>91.000000</td>\n",
       "    </tr>\n",
       "    <tr>\n",
       "      <th>mean</th>\n",
       "      <td>1.850694e-01</td>\n",
       "      <td>754.219780</td>\n",
       "    </tr>\n",
       "    <tr>\n",
       "      <th>std</th>\n",
       "      <td>2.686840e-01</td>\n",
       "      <td>1191.199161</td>\n",
       "    </tr>\n",
       "    <tr>\n",
       "      <th>min</th>\n",
       "      <td>9.079979e-08</td>\n",
       "      <td>2.000000</td>\n",
       "    </tr>\n",
       "    <tr>\n",
       "      <th>25%</th>\n",
       "      <td>1.912312e-03</td>\n",
       "      <td>50.500000</td>\n",
       "    </tr>\n",
       "    <tr>\n",
       "      <th>50%</th>\n",
       "      <td>3.591956e-02</td>\n",
       "      <td>268.000000</td>\n",
       "    </tr>\n",
       "    <tr>\n",
       "      <th>75%</th>\n",
       "      <td>2.971074e-01</td>\n",
       "      <td>839.500000</td>\n",
       "    </tr>\n",
       "    <tr>\n",
       "      <th>max</th>\n",
       "      <td>9.894604e-01</td>\n",
       "      <td>5944.000000</td>\n",
       "    </tr>\n",
       "  </tbody>\n",
       "</table>\n",
       "</div>"
      ],
      "text/plain": [
       "            q_calib    trade_cal\n",
       "count  9.100000e+01    91.000000\n",
       "mean   1.850694e-01   754.219780\n",
       "std    2.686840e-01  1191.199161\n",
       "min    9.079979e-08     2.000000\n",
       "25%    1.912312e-03    50.500000\n",
       "50%    3.591956e-02   268.000000\n",
       "75%    2.971074e-01   839.500000\n",
       "max    9.894604e-01  5944.000000"
      ]
     },
     "execution_count": 54,
     "metadata": {},
     "output_type": "execute_result"
    }
   ],
   "source": [
    "# false positives\n",
    "df_bil[(df_bil['trade_cal']>1) & (df_bil['q_calib']<=1)][['q_calib', 'trade_cal']].describe()"
   ]
  },
  {
   "cell_type": "code",
   "execution_count": 55,
   "id": "61a9d8df-ef29-4633-b5ba-c0325f6d1a2a",
   "metadata": {},
   "outputs": [
    {
     "data": {
      "text/html": [
       "<div>\n",
       "<style scoped>\n",
       "    .dataframe tbody tr th:only-of-type {\n",
       "        vertical-align: middle;\n",
       "    }\n",
       "\n",
       "    .dataframe tbody tr th {\n",
       "        vertical-align: top;\n",
       "    }\n",
       "\n",
       "    .dataframe thead th {\n",
       "        text-align: right;\n",
       "    }\n",
       "</style>\n",
       "<table border=\"1\" class=\"dataframe\">\n",
       "  <thead>\n",
       "    <tr style=\"text-align: right;\">\n",
       "      <th></th>\n",
       "      <th>from_abbreviation</th>\n",
       "      <th>to_abbreviation</th>\n",
       "      <th>IMPACT_code</th>\n",
       "      <th>q_calib</th>\n",
       "      <th>q_old</th>\n",
       "      <th>trade_USD_t</th>\n",
       "      <th>adv</th>\n",
       "      <th>trade_relationship</th>\n",
       "      <th>trade_relationship_old</th>\n",
       "      <th>trade_cal</th>\n",
       "    </tr>\n",
       "  </thead>\n",
       "  <tbody>\n",
       "    <tr>\n",
       "      <th>2453</th>\n",
       "      <td>G48</td>\n",
       "      <td>G10</td>\n",
       "      <td>jbean</td>\n",
       "      <td>0.778861</td>\n",
       "      <td>0.340945</td>\n",
       "      <td>128.375011</td>\n",
       "      <td>0.050000</td>\n",
       "      <td>0</td>\n",
       "      <td>0</td>\n",
       "      <td>3993.0</td>\n",
       "    </tr>\n",
       "    <tr>\n",
       "      <th>1049</th>\n",
       "      <td>G21</td>\n",
       "      <td>G10</td>\n",
       "      <td>jbean</td>\n",
       "      <td>0.006137</td>\n",
       "      <td>0.718866</td>\n",
       "      <td>142.079361</td>\n",
       "      <td>0.050000</td>\n",
       "      <td>0</td>\n",
       "      <td>0</td>\n",
       "      <td>4036.0</td>\n",
       "    </tr>\n",
       "    <tr>\n",
       "      <th>1101</th>\n",
       "      <td>G22</td>\n",
       "      <td>G10</td>\n",
       "      <td>jbean</td>\n",
       "      <td>0.044862</td>\n",
       "      <td>0.000216</td>\n",
       "      <td>132.157402</td>\n",
       "      <td>0.050000</td>\n",
       "      <td>0</td>\n",
       "      <td>0</td>\n",
       "      <td>4037.0</td>\n",
       "    </tr>\n",
       "    <tr>\n",
       "      <th>224</th>\n",
       "      <td>G05</td>\n",
       "      <td>G17</td>\n",
       "      <td>jbean</td>\n",
       "      <td>0.004038</td>\n",
       "      <td>0.010250</td>\n",
       "      <td>148.662252</td>\n",
       "      <td>0.014863</td>\n",
       "      <td>0</td>\n",
       "      <td>0</td>\n",
       "      <td>4351.0</td>\n",
       "    </tr>\n",
       "    <tr>\n",
       "      <th>225</th>\n",
       "      <td>G05</td>\n",
       "      <td>G18</td>\n",
       "      <td>jbean</td>\n",
       "      <td>0.009455</td>\n",
       "      <td>0.003633</td>\n",
       "      <td>121.128765</td>\n",
       "      <td>0.247247</td>\n",
       "      <td>0</td>\n",
       "      <td>0</td>\n",
       "      <td>5944.0</td>\n",
       "    </tr>\n",
       "  </tbody>\n",
       "</table>\n",
       "</div>"
      ],
      "text/plain": [
       "     from_abbreviation to_abbreviation IMPACT_code   q_calib     q_old  \\\n",
       "2453               G48             G10       jbean  0.778861  0.340945   \n",
       "1049               G21             G10       jbean  0.006137  0.718866   \n",
       "1101               G22             G10       jbean  0.044862  0.000216   \n",
       "224                G05             G17       jbean  0.004038  0.010250   \n",
       "225                G05             G18       jbean  0.009455  0.003633   \n",
       "\n",
       "      trade_USD_t       adv  trade_relationship  trade_relationship_old  \\\n",
       "2453   128.375011  0.050000                   0                       0   \n",
       "1049   142.079361  0.050000                   0                       0   \n",
       "1101   132.157402  0.050000                   0                       0   \n",
       "224    148.662252  0.014863                   0                       0   \n",
       "225    121.128765  0.247247                   0                       0   \n",
       "\n",
       "      trade_cal  \n",
       "2453     3993.0  \n",
       "1049     4036.0  \n",
       "1101     4037.0  \n",
       "224      4351.0  \n",
       "225      5944.0  "
      ]
     },
     "execution_count": 55,
     "metadata": {},
     "output_type": "execute_result"
    }
   ],
   "source": [
    "df_bil[(df_bil['trade_cal']>1) & (df_bil['q_calib']<=1)].sort_values('trade_cal').tail()"
   ]
  },
  {
   "cell_type": "code",
   "execution_count": 56,
   "id": "c6535dd9-16e8-4982-b3e6-a236b5495ad9",
   "metadata": {},
   "outputs": [
    {
     "data": {
      "text/html": [
       "<div>\n",
       "<style scoped>\n",
       "    .dataframe tbody tr th:only-of-type {\n",
       "        vertical-align: middle;\n",
       "    }\n",
       "\n",
       "    .dataframe tbody tr th {\n",
       "        vertical-align: top;\n",
       "    }\n",
       "\n",
       "    .dataframe thead th {\n",
       "        text-align: right;\n",
       "    }\n",
       "</style>\n",
       "<table border=\"1\" class=\"dataframe\">\n",
       "  <thead>\n",
       "    <tr style=\"text-align: right;\">\n",
       "      <th></th>\n",
       "      <th>q_calib</th>\n",
       "      <th>trade_cal</th>\n",
       "    </tr>\n",
       "  </thead>\n",
       "  <tbody>\n",
       "    <tr>\n",
       "      <th>count</th>\n",
       "      <td>811.000000</td>\n",
       "      <td>811.0</td>\n",
       "    </tr>\n",
       "    <tr>\n",
       "      <th>mean</th>\n",
       "      <td>65.960222</td>\n",
       "      <td>1.0</td>\n",
       "    </tr>\n",
       "    <tr>\n",
       "      <th>std</th>\n",
       "      <td>107.313438</td>\n",
       "      <td>0.0</td>\n",
       "    </tr>\n",
       "    <tr>\n",
       "      <th>min</th>\n",
       "      <td>1.011743</td>\n",
       "      <td>1.0</td>\n",
       "    </tr>\n",
       "    <tr>\n",
       "      <th>25%</th>\n",
       "      <td>4.068632</td>\n",
       "      <td>1.0</td>\n",
       "    </tr>\n",
       "    <tr>\n",
       "      <th>50%</th>\n",
       "      <td>19.224567</td>\n",
       "      <td>1.0</td>\n",
       "    </tr>\n",
       "    <tr>\n",
       "      <th>75%</th>\n",
       "      <td>82.967638</td>\n",
       "      <td>1.0</td>\n",
       "    </tr>\n",
       "    <tr>\n",
       "      <th>max</th>\n",
       "      <td>717.975066</td>\n",
       "      <td>1.0</td>\n",
       "    </tr>\n",
       "  </tbody>\n",
       "</table>\n",
       "</div>"
      ],
      "text/plain": [
       "          q_calib  trade_cal\n",
       "count  811.000000      811.0\n",
       "mean    65.960222        1.0\n",
       "std    107.313438        0.0\n",
       "min      1.011743        1.0\n",
       "25%      4.068632        1.0\n",
       "50%     19.224567        1.0\n",
       "75%     82.967638        1.0\n",
       "max    717.975066        1.0"
      ]
     },
     "execution_count": 56,
     "metadata": {},
     "output_type": "execute_result"
    }
   ],
   "source": [
    "# false negatives\n",
    "df_bil[(df_bil['trade_cal']==1) & (df_bil['q_calib']>1)][['q_calib', 'trade_cal']].describe()"
   ]
  },
  {
   "cell_type": "code",
   "execution_count": 57,
   "id": "8eba4ae4-f0bb-454b-aa09-6ca2e114513c",
   "metadata": {},
   "outputs": [
    {
     "data": {
      "text/html": [
       "<div>\n",
       "<style scoped>\n",
       "    .dataframe tbody tr th:only-of-type {\n",
       "        vertical-align: middle;\n",
       "    }\n",
       "\n",
       "    .dataframe tbody tr th {\n",
       "        vertical-align: top;\n",
       "    }\n",
       "\n",
       "    .dataframe thead th {\n",
       "        text-align: right;\n",
       "    }\n",
       "</style>\n",
       "<table border=\"1\" class=\"dataframe\">\n",
       "  <thead>\n",
       "    <tr style=\"text-align: right;\">\n",
       "      <th></th>\n",
       "      <th>from_abbreviation</th>\n",
       "      <th>to_abbreviation</th>\n",
       "      <th>IMPACT_code</th>\n",
       "      <th>q_calib</th>\n",
       "      <th>q_old</th>\n",
       "      <th>trade_USD_t</th>\n",
       "      <th>adv</th>\n",
       "      <th>trade_relationship</th>\n",
       "      <th>trade_relationship_old</th>\n",
       "      <th>trade_cal</th>\n",
       "    </tr>\n",
       "  </thead>\n",
       "  <tbody>\n",
       "    <tr>\n",
       "      <th>2106</th>\n",
       "      <td>G41</td>\n",
       "      <td>G27</td>\n",
       "      <td>jbean</td>\n",
       "      <td>624.598642</td>\n",
       "      <td>496.497361</td>\n",
       "      <td>158.492827</td>\n",
       "      <td>1.030102</td>\n",
       "      <td>1</td>\n",
       "      <td>1</td>\n",
       "      <td>1.0</td>\n",
       "    </tr>\n",
       "    <tr>\n",
       "      <th>2130</th>\n",
       "      <td>G41</td>\n",
       "      <td>G51</td>\n",
       "      <td>jbean</td>\n",
       "      <td>633.757658</td>\n",
       "      <td>31.825731</td>\n",
       "      <td>164.754281</td>\n",
       "      <td>0.089901</td>\n",
       "      <td>1</td>\n",
       "      <td>1</td>\n",
       "      <td>1.0</td>\n",
       "    </tr>\n",
       "    <tr>\n",
       "      <th>1169</th>\n",
       "      <td>G23</td>\n",
       "      <td>G26</td>\n",
       "      <td>jbean</td>\n",
       "      <td>645.347632</td>\n",
       "      <td>177.098386</td>\n",
       "      <td>148.694112</td>\n",
       "      <td>0.000000</td>\n",
       "      <td>1</td>\n",
       "      <td>1</td>\n",
       "      <td>1.0</td>\n",
       "    </tr>\n",
       "    <tr>\n",
       "      <th>2122</th>\n",
       "      <td>G41</td>\n",
       "      <td>G43</td>\n",
       "      <td>jbean</td>\n",
       "      <td>700.176997</td>\n",
       "      <td>1.920330</td>\n",
       "      <td>166.350984</td>\n",
       "      <td>0.235140</td>\n",
       "      <td>1</td>\n",
       "      <td>1</td>\n",
       "      <td>1.0</td>\n",
       "    </tr>\n",
       "    <tr>\n",
       "      <th>2091</th>\n",
       "      <td>G41</td>\n",
       "      <td>G12</td>\n",
       "      <td>jbean</td>\n",
       "      <td>717.975066</td>\n",
       "      <td>623.272063</td>\n",
       "      <td>136.001036</td>\n",
       "      <td>0.153758</td>\n",
       "      <td>1</td>\n",
       "      <td>1</td>\n",
       "      <td>1.0</td>\n",
       "    </tr>\n",
       "  </tbody>\n",
       "</table>\n",
       "</div>"
      ],
      "text/plain": [
       "     from_abbreviation to_abbreviation IMPACT_code     q_calib       q_old  \\\n",
       "2106               G41             G27       jbean  624.598642  496.497361   \n",
       "2130               G41             G51       jbean  633.757658   31.825731   \n",
       "1169               G23             G26       jbean  645.347632  177.098386   \n",
       "2122               G41             G43       jbean  700.176997    1.920330   \n",
       "2091               G41             G12       jbean  717.975066  623.272063   \n",
       "\n",
       "      trade_USD_t       adv  trade_relationship  trade_relationship_old  \\\n",
       "2106   158.492827  1.030102                   1                       1   \n",
       "2130   164.754281  0.089901                   1                       1   \n",
       "1169   148.694112  0.000000                   1                       1   \n",
       "2122   166.350984  0.235140                   1                       1   \n",
       "2091   136.001036  0.153758                   1                       1   \n",
       "\n",
       "      trade_cal  \n",
       "2106        1.0  \n",
       "2130        1.0  \n",
       "1169        1.0  \n",
       "2122        1.0  \n",
       "2091        1.0  "
      ]
     },
     "execution_count": 57,
     "metadata": {},
     "output_type": "execute_result"
    }
   ],
   "source": [
    "df_bil[(df_bil['trade_cal']==1) & (df_bil['q_calib']>1)].sort_values('q_calib').tail()"
   ]
  },
  {
   "cell_type": "code",
   "execution_count": 58,
   "id": "fc1e752b-45b0-4b5e-a09c-9fe653e601b4",
   "metadata": {},
   "outputs": [
    {
     "data": {
      "image/png": "[encoded data removed]",
      "text/plain": [
       "<Figure size 350x350 with 1 Axes>"
      ]
     },
     "metadata": {},
     "output_type": "display_data"
    }
   ],
   "source": [
    "fig, ax = plt.subplots(figsize = (3.5,3.5))\n",
    "plt.scatter(np.log(df_bil['trade_cal']), np.log(df_bil['q_calib']+1), s = 8, color = 'grey', alpha = 0.4, zorder = 3)\n",
    "plt.plot(np.linspace(0,16, 100), np.linspace(0,16, 100), color = 'k', lw = 0.5, zorder = 1)\n",
    "# plt.xlim(0, 12); \n",
    "plt.xlabel('Predicted trade ln(t)')\n",
    "# plt.ylim(0, 12); \n",
    "plt.ylabel('Observed trade ln(t)')\n",
    "plt.show()"
   ]
  },
  {
   "cell_type": "code",
   "execution_count": 59,
   "id": "e73df0c1-3c25-44b5-99fa-2bf80eca3822",
   "metadata": {},
   "outputs": [
    {
     "data": {
      "image/png": "[encoded data removed]",
      "text/plain": [
       "<Figure size 350x350 with 1 Axes>"
      ]
     },
     "metadata": {},
     "output_type": "display_data"
    }
   ],
   "source": [
    "fig, ax = plt.subplots(figsize = (3.5,3.5))\n",
    "plt.scatter(np.log(df_bil[df_bil['from_abbreviation']!=df_bil['to_abbreviation']]['trade_cal']), \n",
    "            np.log(df_bil[df_bil['from_abbreviation']!=df_bil['to_abbreviation']]['q_calib']+1), \n",
    "            s = 8, color = 'grey', alpha = 0.4, zorder = 3)\n",
    "plt.plot(np.linspace(0,16, 100), np.linspace(0,16, 100), color = 'k', lw = 0.5, zorder = 1)\n",
    "# plt.xlim(0, 12); \n",
    "plt.xlabel('Predicted trade ln(t)')\n",
    "# plt.ylim(0, 12); \n",
    "plt.ylabel('Observed trade ln(t)')\n",
    "plt.show()"
   ]
  },
  {
   "cell_type": "code",
   "execution_count": 60,
   "id": "badbc97e-4fa3-4af0-916a-0479dc90f6a6",
   "metadata": {},
   "outputs": [
    {
     "data": {
      "image/png": "[encoded data removed]",
      "text/plain": [
       "<Figure size 350x350 with 1 Axes>"
      ]
     },
     "metadata": {},
     "output_type": "display_data"
    }
   ],
   "source": [
    "fig, ax = plt.subplots(figsize = (3.5,3.5))\n",
    "plt.scatter(df_bil['trade_cal'], df_bil['q_calib'], s = 8, color = 'grey', alpha = 0.4, zorder = 3)\n",
    "# plt.plot(np.linspace(0,16, 100), np.linspace(0,16, 100), color = 'k', lw = 0.5, zorder = 1)\n",
    "# plt.xlim(0, 12); \n",
    "plt.xlabel('Predicted trade (t)')\n",
    "# plt.ylim(0, 12); \n",
    "plt.ylabel('Observed trade (t)')\n",
    "plt.show()"
   ]
  },
  {
   "cell_type": "code",
   "execution_count": 61,
   "id": "08a89e6f-ac92-4855-99dc-1d4987d0660a",
   "metadata": {},
   "outputs": [
    {
     "data": {
      "image/png": "[encoded data removed]",
      "text/plain": [
       "<Figure size 350x350 with 1 Axes>"
      ]
     },
     "metadata": {},
     "output_type": "display_data"
    }
   ],
   "source": [
    "fig, ax = plt.subplots(figsize = (3.5,3.5))\n",
    "plt.scatter(df_bil[df_bil['from_abbreviation']!=df_bil['to_abbreviation']]['trade_cal'], \n",
    "            df_bil[df_bil['from_abbreviation']!=df_bil['to_abbreviation']]['q_calib'], \n",
    "            s = 8, color = 'grey', alpha = 0.4, zorder = 3)\n",
    "# plt.plot(np.linspace(0,16, 100), np.linspace(0,16, 100), color = 'k', lw = 0.5, zorder = 1)\n",
    "# plt.xlim(0, 12); \n",
    "plt.xlabel('Predicted trade (t)')\n",
    "# plt.ylim(0, 12); \n",
    "plt.ylabel('Observed trade (t)')\n",
    "plt.show()"
   ]
  },
  {
   "cell_type": "code",
   "execution_count": null,
   "id": "661d5cee-8e92-4e2d-8ed7-f83f9c029733",
   "metadata": {},
   "outputs": [],
   "source": []
  },
  {
   "cell_type": "code",
   "execution_count": null,
   "id": "322f1c29-88f4-4d79-a81f-db9740c2715c",
   "metadata": {},
   "outputs": [],
   "source": []
  },
  {
   "cell_type": "code",
   "execution_count": null,
   "id": "ee9aa9a1-7b94-481f-b2a2-b51000daab0c",
   "metadata": {},
   "outputs": [],
   "source": []
  },
  {
   "cell_type": "code",
   "execution_count": null,
   "id": "38d375a8-49db-44c0-9c75-ed705e096ede",
   "metadata": {},
   "outputs": [],
   "source": []
  },
  {
   "cell_type": "code",
   "execution_count": 695,
   "id": "405067bd-6d8f-47b9-9c5e-f0734aea0b2b",
   "metadata": {},
   "outputs": [],
   "source": [
    "model_output = pd.read_csv('../../OPSIS/Data/Future_production_demand_data/IMPACT-output/IFPRI_model_output.csv')"
   ]
  },
  {
   "cell_type": "code",
   "execution_count": 696,
   "id": "1af1fe23-d9e3-444e-a039-a86f6e638df5",
   "metadata": {},
   "outputs": [
    {
     "data": {
      "text/html": [
       "<div>\n",
       "<style scoped>\n",
       "    .dataframe tbody tr th:only-of-type {\n",
       "        vertical-align: middle;\n",
       "    }\n",
       "\n",
       "    .dataframe tbody tr th {\n",
       "        vertical-align: top;\n",
       "    }\n",
       "\n",
       "    .dataframe thead th {\n",
       "        text-align: right;\n",
       "    }\n",
       "</style>\n",
       "<table border=\"1\" class=\"dataframe\">\n",
       "  <thead>\n",
       "    <tr style=\"text-align: right;\">\n",
       "      <th></th>\n",
       "      <th>Region</th>\n",
       "      <th>Commodity</th>\n",
       "      <th>SSP</th>\n",
       "      <th>Scenario</th>\n",
       "      <th>Impactparameter</th>\n",
       "      <th>Year</th>\n",
       "      <th>Val</th>\n",
       "    </tr>\n",
       "  </thead>\n",
       "  <tbody>\n",
       "    <tr>\n",
       "      <th>0</th>\n",
       "      <td>EAP-Australia</td>\n",
       "      <td>AMT-Beef</td>\n",
       "      <td>SSP1</td>\n",
       "      <td>SSP1-RCP8.5-HGEM</td>\n",
       "      <td>QSupXAgg -- Commodity Supply</td>\n",
       "      <td>2050</td>\n",
       "      <td>3238.019688</td>\n",
       "    </tr>\n",
       "    <tr>\n",
       "      <th>1</th>\n",
       "      <td>EAP-Australia</td>\n",
       "      <td>AMT-Beef</td>\n",
       "      <td>SSP1</td>\n",
       "      <td>SSP1-NoCC</td>\n",
       "      <td>QSupXAgg -- Commodity Supply</td>\n",
       "      <td>2050</td>\n",
       "      <td>3301.767951</td>\n",
       "    </tr>\n",
       "    <tr>\n",
       "      <th>2</th>\n",
       "      <td>EAP-Australia</td>\n",
       "      <td>AMT-Beef</td>\n",
       "      <td>SSP1</td>\n",
       "      <td>SSP1-RCP8.5-HGEM</td>\n",
       "      <td>QSupXAgg -- Commodity Supply</td>\n",
       "      <td>2040</td>\n",
       "      <td>3061.296240</td>\n",
       "    </tr>\n",
       "    <tr>\n",
       "      <th>3</th>\n",
       "      <td>EAP-Australia</td>\n",
       "      <td>AMT-Beef</td>\n",
       "      <td>SSP1</td>\n",
       "      <td>SSP1-NoCC</td>\n",
       "      <td>QSupXAgg -- Commodity Supply</td>\n",
       "      <td>2040</td>\n",
       "      <td>3097.548293</td>\n",
       "    </tr>\n",
       "    <tr>\n",
       "      <th>4</th>\n",
       "      <td>EAP-Australia</td>\n",
       "      <td>AMT-Beef</td>\n",
       "      <td>SSP1</td>\n",
       "      <td>SSP1-RCP8.5-HGEM</td>\n",
       "      <td>QSupXAgg -- Commodity Supply</td>\n",
       "      <td>2030</td>\n",
       "      <td>2807.102095</td>\n",
       "    </tr>\n",
       "  </tbody>\n",
       "</table>\n",
       "</div>"
      ],
      "text/plain": [
       "          Region Commodity   SSP          Scenario  \\\n",
       "0  EAP-Australia  AMT-Beef  SSP1  SSP1-RCP8.5-HGEM   \n",
       "1  EAP-Australia  AMT-Beef  SSP1         SSP1-NoCC   \n",
       "2  EAP-Australia  AMT-Beef  SSP1  SSP1-RCP8.5-HGEM   \n",
       "3  EAP-Australia  AMT-Beef  SSP1         SSP1-NoCC   \n",
       "4  EAP-Australia  AMT-Beef  SSP1  SSP1-RCP8.5-HGEM   \n",
       "\n",
       "                Impactparameter  Year          Val  \n",
       "0  QSupXAgg -- Commodity Supply  2050  3238.019688  \n",
       "1  QSupXAgg -- Commodity Supply  2050  3301.767951  \n",
       "2  QSupXAgg -- Commodity Supply  2040  3061.296240  \n",
       "3  QSupXAgg -- Commodity Supply  2040  3097.548293  \n",
       "4  QSupXAgg -- Commodity Supply  2030  2807.102095  "
      ]
     },
     "execution_count": 696,
     "metadata": {},
     "output_type": "execute_result"
    }
   ],
   "source": [
    "model_output.head()"
   ]
  },
  {
   "cell_type": "code",
   "execution_count": 697,
   "id": "70955429-f451-4928-8946-deae3254a3eb",
   "metadata": {},
   "outputs": [
    {
     "name": "stdout",
     "output_type": "stream",
     "text": [
      "380064\n",
      "380064\n"
     ]
    }
   ],
   "source": [
    "### only for SSP2 multiple model runs, take output from 2010 out ###\n",
    "SSP2 = model_output[(model_output['SSP']=='SSP2')&(model_output['Scenario']!='SSP2-RCP4.5-HGEM')&(model_output['Year']>2010)].reset_index(drop = True)\n",
    "\n",
    "### process variables nicely ###\n",
    "SSP2['Commodity_code'],SSP2['Commodity_name'] = SSP2['Commodity'].str.split('-', expand = True)[0],SSP2['Commodity'].str.split('-', expand = True)[1]\n",
    "SSP2['Commodity_name'] = SSP2['Commodity_name'].str.replace(' ', '')\n",
    "SSP2['Var_code'],SSP2['Var_name'] = SSP2['Impactparameter'].str.split(' -- ', expand = True)[0],SSP2['Impactparameter'].str.split(' -- ', expand = True)[1]\n",
    "\n",
    "### remove unpacked columns\n",
    "SSP2 = SSP2.drop(columns = ['Commodity','Impactparameter']).rename(columns = {'Commodity_name':'IMPACT_name'})\n",
    "\n",
    "## set baseline ##\n",
    "SSP2_2020 = SSP2[SSP2['Year']==2020][['Region','Commodity_code','IMPACT_name','Var_code','Var_name','Scenario','Val']].reset_index(drop = True).copy().rename(columns = {'Val':'Val_baseline'})\n",
    "print(len(SSP2))\n",
    "SSP2 = SSP2.merge(SSP2_2020, on = ['Region','Commodity_code','IMPACT_name','Var_code','Var_name','Scenario'], how = 'left')\n",
    "\n",
    "### drop duplicates ##\n",
    "#SSP2 = SSP2.drop_duplicates(subset = ['Scenario','Year','Region','IMPACT_name','Var_name'])\n",
    "print(len(SSP2))\n"
   ]
  },
  {
   "cell_type": "code",
   "execution_count": 698,
   "id": "ad3f425e-9004-4ffc-aba5-9f1682d00126",
   "metadata": {},
   "outputs": [
    {
     "data": {
      "text/plain": [
       "array(['Commodity Supply', 'Total Demand', 'Animal Yield', 'Total Yield'],\n",
       "      dtype=object)"
      ]
     },
     "execution_count": 698,
     "metadata": {},
     "output_type": "execute_result"
    }
   ],
   "source": [
    "SSP2['Var_name'].unique()"
   ]
  },
  {
   "cell_type": "code",
   "execution_count": 699,
   "id": "93818c2e-3456-4941-970a-d364a0c0b2b1",
   "metadata": {},
   "outputs": [
    {
     "data": {
      "text/plain": [
       "array(['QSupXAgg', 'QDXAgg', 'AnmlYldXAgg', 'TYldXAgg'], dtype=object)"
      ]
     },
     "execution_count": 699,
     "metadata": {},
     "output_type": "execute_result"
    }
   ],
   "source": [
    "SSP2['Var_code'].unique()"
   ]
  },
  {
   "cell_type": "code",
   "execution_count": 700,
   "id": "b279d84e-960e-4146-b6fc-6781e8bc0cd9",
   "metadata": {},
   "outputs": [
    {
     "data": {
      "text/plain": [
       "array([2050, 2040, 2030, 2020])"
      ]
     },
     "execution_count": 700,
     "metadata": {},
     "output_type": "execute_result"
    }
   ],
   "source": [
    "SSP2['Year'].unique()"
   ]
  },
  {
   "cell_type": "code",
   "execution_count": 701,
   "id": "cbdf4ca9-a86f-4314-ac47-d33d2242cc26",
   "metadata": {},
   "outputs": [
    {
     "data": {
      "text/plain": [
       "array(['Beef', 'Lamb', 'Pork', 'Poultry', 'Dairy', 'Eggs', 'Barley',\n",
       "       'Maize', 'Millet', 'OtherCereals', 'Rice', 'Sorghum', 'Wheat',\n",
       "       'Cacao', 'Coffee', 'Cotton', 'Other', 'Tea', 'Banana',\n",
       "       'TemperateFruit', 'TropicalFruit', 'Vegetables', 'Groundnutmeal',\n",
       "       'Othermeals', 'PalmKernelMeal', 'RapeseedMeal', 'SoybeanMeal',\n",
       "       'SunflowerMeal', 'GroundnutOil', 'OtherOils', 'PalmFruitOil',\n",
       "       'PalmKernelOil', 'RapeseedOil', 'SoybeanOil', 'SunflowerOil',\n",
       "       'Groundnut', 'OtherOilseeds', 'Rapeseed', 'Soybean', 'Sunflower',\n",
       "       'Beans', 'Chickpeas', 'Lentils', 'OtherPulses', 'Cassava',\n",
       "       'OtherRoots', 'Potato', 'SweetPotato', 'Sugarcane', 'Sugar',\n",
       "       'PalmFruit', 'PalmKernel'], dtype=object)"
      ]
     },
     "execution_count": 701,
     "metadata": {},
     "output_type": "execute_result"
    }
   ],
   "source": [
    "SSP2['IMPACT_name'].unique()"
   ]
  },
  {
   "cell_type": "code",
   "execution_count": 702,
   "id": "596dcff4-5348-4fca-807e-356a04980e4c",
   "metadata": {},
   "outputs": [
    {
     "data": {
      "text/html": [
       "<div>\n",
       "<style scoped>\n",
       "    .dataframe tbody tr th:only-of-type {\n",
       "        vertical-align: middle;\n",
       "    }\n",
       "\n",
       "    .dataframe tbody tr th {\n",
       "        vertical-align: top;\n",
       "    }\n",
       "\n",
       "    .dataframe thead th {\n",
       "        text-align: right;\n",
       "    }\n",
       "</style>\n",
       "<table border=\"1\" class=\"dataframe\">\n",
       "  <thead>\n",
       "    <tr style=\"text-align: right;\">\n",
       "      <th></th>\n",
       "      <th>Region</th>\n",
       "      <th>SSP</th>\n",
       "      <th>Scenario</th>\n",
       "      <th>Year</th>\n",
       "      <th>Val</th>\n",
       "      <th>Commodity_code</th>\n",
       "      <th>IMPACT_name</th>\n",
       "      <th>Var_code</th>\n",
       "      <th>Var_name</th>\n",
       "      <th>Val_baseline</th>\n",
       "    </tr>\n",
       "  </thead>\n",
       "  <tbody>\n",
       "    <tr>\n",
       "      <th>0</th>\n",
       "      <td>EAP-Australia</td>\n",
       "      <td>SSP2</td>\n",
       "      <td>SSP2-RCP8.5-NORE</td>\n",
       "      <td>2050</td>\n",
       "      <td>3171.699220</td>\n",
       "      <td>AMT</td>\n",
       "      <td>Beef</td>\n",
       "      <td>QSupXAgg</td>\n",
       "      <td>Commodity Supply</td>\n",
       "      <td>2529.411069</td>\n",
       "    </tr>\n",
       "    <tr>\n",
       "      <th>1</th>\n",
       "      <td>EAP-Australia</td>\n",
       "      <td>SSP2</td>\n",
       "      <td>SSP2-RCP8.5-MIRO</td>\n",
       "      <td>2050</td>\n",
       "      <td>3143.161579</td>\n",
       "      <td>AMT</td>\n",
       "      <td>Beef</td>\n",
       "      <td>QSupXAgg</td>\n",
       "      <td>Commodity Supply</td>\n",
       "      <td>2525.500166</td>\n",
       "    </tr>\n",
       "    <tr>\n",
       "      <th>2</th>\n",
       "      <td>EAP-Australia</td>\n",
       "      <td>SSP2</td>\n",
       "      <td>SSP2-RCP8.5-IPSL</td>\n",
       "      <td>2050</td>\n",
       "      <td>3149.846790</td>\n",
       "      <td>AMT</td>\n",
       "      <td>Beef</td>\n",
       "      <td>QSupXAgg</td>\n",
       "      <td>Commodity Supply</td>\n",
       "      <td>2526.616833</td>\n",
       "    </tr>\n",
       "    <tr>\n",
       "      <th>3</th>\n",
       "      <td>EAP-Australia</td>\n",
       "      <td>SSP2</td>\n",
       "      <td>SSP2-RCP8.5-HGEM</td>\n",
       "      <td>2050</td>\n",
       "      <td>3124.257407</td>\n",
       "      <td>AMT</td>\n",
       "      <td>Beef</td>\n",
       "      <td>QSupXAgg</td>\n",
       "      <td>Commodity Supply</td>\n",
       "      <td>2523.564194</td>\n",
       "    </tr>\n",
       "    <tr>\n",
       "      <th>4</th>\n",
       "      <td>EAP-Australia</td>\n",
       "      <td>SSP2</td>\n",
       "      <td>SSP2-RCP8.5-GFDL</td>\n",
       "      <td>2050</td>\n",
       "      <td>3215.349318</td>\n",
       "      <td>AMT</td>\n",
       "      <td>Beef</td>\n",
       "      <td>QSupXAgg</td>\n",
       "      <td>Commodity Supply</td>\n",
       "      <td>2538.940192</td>\n",
       "    </tr>\n",
       "  </tbody>\n",
       "</table>\n",
       "</div>"
      ],
      "text/plain": [
       "          Region   SSP          Scenario  Year          Val Commodity_code  \\\n",
       "0  EAP-Australia  SSP2  SSP2-RCP8.5-NORE  2050  3171.699220            AMT   \n",
       "1  EAP-Australia  SSP2  SSP2-RCP8.5-MIRO  2050  3143.161579            AMT   \n",
       "2  EAP-Australia  SSP2  SSP2-RCP8.5-IPSL  2050  3149.846790            AMT   \n",
       "3  EAP-Australia  SSP2  SSP2-RCP8.5-HGEM  2050  3124.257407            AMT   \n",
       "4  EAP-Australia  SSP2  SSP2-RCP8.5-GFDL  2050  3215.349318            AMT   \n",
       "\n",
       "  IMPACT_name  Var_code          Var_name  Val_baseline  \n",
       "0        Beef  QSupXAgg  Commodity Supply   2529.411069  \n",
       "1        Beef  QSupXAgg  Commodity Supply   2525.500166  \n",
       "2        Beef  QSupXAgg  Commodity Supply   2526.616833  \n",
       "3        Beef  QSupXAgg  Commodity Supply   2523.564194  \n",
       "4        Beef  QSupXAgg  Commodity Supply   2538.940192  "
      ]
     },
     "execution_count": 702,
     "metadata": {},
     "output_type": "execute_result"
    }
   ],
   "source": [
    "SSP2.head()"
   ]
  },
  {
   "cell_type": "code",
   "execution_count": 703,
   "id": "25ad6bec-ecff-4534-bb26-01c99e228adc",
   "metadata": {},
   "outputs": [],
   "source": [
    "SSP2 = SSP2[SSP2['Var_name']=='Total Yield']"
   ]
  },
  {
   "cell_type": "code",
   "execution_count": 704,
   "id": "1c8767a4-84df-4b1f-ad9d-c7713f37d97d",
   "metadata": {},
   "outputs": [
    {
     "data": {
      "text/plain": [
       "(71232, 10)"
      ]
     },
     "execution_count": 704,
     "metadata": {},
     "output_type": "execute_result"
    }
   ],
   "source": [
    "SSP2.shape"
   ]
  },
  {
   "cell_type": "code",
   "execution_count": 705,
   "id": "4c96517e-b3aa-4292-948c-63b751acfd6f",
   "metadata": {},
   "outputs": [
    {
     "data": {
      "text/html": [
       "<div>\n",
       "<style scoped>\n",
       "    .dataframe tbody tr th:only-of-type {\n",
       "        vertical-align: middle;\n",
       "    }\n",
       "\n",
       "    .dataframe tbody tr th {\n",
       "        vertical-align: top;\n",
       "    }\n",
       "\n",
       "    .dataframe thead th {\n",
       "        text-align: right;\n",
       "    }\n",
       "</style>\n",
       "<table border=\"1\" class=\"dataframe\">\n",
       "  <thead>\n",
       "    <tr style=\"text-align: right;\">\n",
       "      <th></th>\n",
       "      <th>Region</th>\n",
       "      <th>SSP</th>\n",
       "      <th>Scenario</th>\n",
       "      <th>Year</th>\n",
       "      <th>Val</th>\n",
       "      <th>Commodity_code</th>\n",
       "      <th>IMPACT_name</th>\n",
       "      <th>Var_code</th>\n",
       "      <th>Var_name</th>\n",
       "      <th>Val_baseline</th>\n",
       "    </tr>\n",
       "  </thead>\n",
       "  <tbody>\n",
       "    <tr>\n",
       "      <th>480</th>\n",
       "      <td>EAP-Australia</td>\n",
       "      <td>SSP2</td>\n",
       "      <td>SSP2-RCP8.5-NORE</td>\n",
       "      <td>2050</td>\n",
       "      <td>2.740254</td>\n",
       "      <td>CER</td>\n",
       "      <td>Barley</td>\n",
       "      <td>TYldXAgg</td>\n",
       "      <td>Total Yield</td>\n",
       "      <td>2.049672</td>\n",
       "    </tr>\n",
       "    <tr>\n",
       "      <th>481</th>\n",
       "      <td>EAP-Australia</td>\n",
       "      <td>SSP2</td>\n",
       "      <td>SSP2-RCP8.5-MIRO</td>\n",
       "      <td>2050</td>\n",
       "      <td>2.720572</td>\n",
       "      <td>CER</td>\n",
       "      <td>Barley</td>\n",
       "      <td>TYldXAgg</td>\n",
       "      <td>Total Yield</td>\n",
       "      <td>2.046791</td>\n",
       "    </tr>\n",
       "    <tr>\n",
       "      <th>482</th>\n",
       "      <td>EAP-Australia</td>\n",
       "      <td>SSP2</td>\n",
       "      <td>SSP2-RCP8.5-IPSL</td>\n",
       "      <td>2050</td>\n",
       "      <td>2.595181</td>\n",
       "      <td>CER</td>\n",
       "      <td>Barley</td>\n",
       "      <td>TYldXAgg</td>\n",
       "      <td>Total Yield</td>\n",
       "      <td>2.014886</td>\n",
       "    </tr>\n",
       "    <tr>\n",
       "      <th>483</th>\n",
       "      <td>EAP-Australia</td>\n",
       "      <td>SSP2</td>\n",
       "      <td>SSP2-RCP8.5-HGEM</td>\n",
       "      <td>2050</td>\n",
       "      <td>2.602117</td>\n",
       "      <td>CER</td>\n",
       "      <td>Barley</td>\n",
       "      <td>TYldXAgg</td>\n",
       "      <td>Total Yield</td>\n",
       "      <td>2.018240</td>\n",
       "    </tr>\n",
       "    <tr>\n",
       "      <th>484</th>\n",
       "      <td>EAP-Australia</td>\n",
       "      <td>SSP2</td>\n",
       "      <td>SSP2-RCP8.5-GFDL</td>\n",
       "      <td>2050</td>\n",
       "      <td>2.798624</td>\n",
       "      <td>CER</td>\n",
       "      <td>Barley</td>\n",
       "      <td>TYldXAgg</td>\n",
       "      <td>Total Yield</td>\n",
       "      <td>2.050278</td>\n",
       "    </tr>\n",
       "  </tbody>\n",
       "</table>\n",
       "</div>"
      ],
      "text/plain": [
       "            Region   SSP          Scenario  Year       Val Commodity_code  \\\n",
       "480  EAP-Australia  SSP2  SSP2-RCP8.5-NORE  2050  2.740254            CER   \n",
       "481  EAP-Australia  SSP2  SSP2-RCP8.5-MIRO  2050  2.720572            CER   \n",
       "482  EAP-Australia  SSP2  SSP2-RCP8.5-IPSL  2050  2.595181            CER   \n",
       "483  EAP-Australia  SSP2  SSP2-RCP8.5-HGEM  2050  2.602117            CER   \n",
       "484  EAP-Australia  SSP2  SSP2-RCP8.5-GFDL  2050  2.798624            CER   \n",
       "\n",
       "    IMPACT_name  Var_code     Var_name  Val_baseline  \n",
       "480      Barley  TYldXAgg  Total Yield      2.049672  \n",
       "481      Barley  TYldXAgg  Total Yield      2.046791  \n",
       "482      Barley  TYldXAgg  Total Yield      2.014886  \n",
       "483      Barley  TYldXAgg  Total Yield      2.018240  \n",
       "484      Barley  TYldXAgg  Total Yield      2.050278  "
      ]
     },
     "execution_count": 705,
     "metadata": {},
     "output_type": "execute_result"
    }
   ],
   "source": [
    "SSP2.head()"
   ]
  },
  {
   "cell_type": "code",
   "execution_count": 706,
   "id": "d086bffd-5a21-4885-a686-80a48f24efe6",
   "metadata": {},
   "outputs": [
    {
     "data": {
      "text/plain": [
       "31"
      ]
     },
     "execution_count": 706,
     "metadata": {},
     "output_type": "execute_result"
    }
   ],
   "source": [
    "SSP2['IMPACT_name'].nunique()"
   ]
  },
  {
   "cell_type": "code",
   "execution_count": 707,
   "id": "4c5aaca0-51f9-4e64-9947-e29a38b0d4fd",
   "metadata": {},
   "outputs": [
    {
     "data": {
      "text/plain": [
       "array(['Banana', 'Barley', 'Beans', 'Cacao', 'Cassava', 'Chickpeas',\n",
       "       'Coffee', 'Cotton', 'Groundnut', 'Lentils', 'Maize', 'Millet',\n",
       "       'Other', 'OtherCereals', 'OtherOilseeds', 'OtherPulses',\n",
       "       'OtherRoots', 'PalmFruit', 'Potato', 'Rapeseed', 'Rice', 'Sorghum',\n",
       "       'Soybean', 'Sugarcane', 'Sunflower', 'SweetPotato', 'Tea',\n",
       "       'TemperateFruit', 'TropicalFruit', 'Vegetables', 'Wheat'],\n",
       "      dtype=object)"
      ]
     },
     "execution_count": 707,
     "metadata": {},
     "output_type": "execute_result"
    }
   ],
   "source": [
    "x = SSP2['IMPACT_name'].unique()\n",
    "x.sort()\n",
    "x"
   ]
  },
  {
   "cell_type": "code",
   "execution_count": 708,
   "id": "f50a8fab-a66a-4d47-a869-f337c1e8d74c",
   "metadata": {},
   "outputs": [
    {
     "data": {
      "text/plain": [
       "IMPACT_name\n",
       "Vegetables        3744\n",
       "TemperateFruit    3576\n",
       "Other             3528\n",
       "Maize             3408\n",
       "Potato            3336\n",
       "OtherPulses       3312\n",
       "TropicalFruit     3240\n",
       "OtherOilseeds     3216\n",
       "Wheat             2736\n",
       "Beans             2712\n",
       "Rice              2592\n",
       "Groundnut         2568\n",
       "Sorghum           2472\n",
       "OtherCereals      2256\n",
       "Banana            2232\n",
       "Barley            2208\n",
       "Soybean           2136\n",
       "SweetPotato       2112\n",
       "Sugarcane         2088\n",
       "Cotton            2040\n",
       "Millet            1968\n",
       "Cassava           1800\n",
       "OtherRoots        1776\n",
       "Sunflower         1632\n",
       "Coffee            1632\n",
       "Rapeseed          1440\n",
       "Lentils           1248\n",
       "Chickpeas         1224\n",
       "Cacao             1224\n",
       "Tea               1056\n",
       "PalmFruit          720\n",
       "Name: count, dtype: int64"
      ]
     },
     "execution_count": 708,
     "metadata": {},
     "output_type": "execute_result"
    }
   ],
   "source": [
    "SSP2['IMPACT_name'].value_counts()"
   ]
  },
  {
   "cell_type": "code",
   "execution_count": 709,
   "id": "efcf8dbc-6ef4-4899-9968-5cf40d803d5d",
   "metadata": {},
   "outputs": [
    {
     "data": {
      "text/plain": [
       "157"
      ]
     },
     "execution_count": 709,
     "metadata": {},
     "output_type": "execute_result"
    }
   ],
   "source": [
    "SSP2['Region'].nunique()"
   ]
  },
  {
   "cell_type": "code",
   "execution_count": 710,
   "id": "611ca3eb-eae0-4b39-b263-d8c67a69ccf2",
   "metadata": {},
   "outputs": [
    {
     "data": {
      "text/plain": [
       "Region\n",
       "EAP-China                720\n",
       "LAC-Mexico               720\n",
       "SSA-Tanzania             696\n",
       "SAS-India                672\n",
       "SSA-Kenya                672\n",
       "                        ... \n",
       "SSA-Equatorial Guinea    192\n",
       "EAP-Mongolia             192\n",
       "EUR-Norway               168\n",
       "SSA-Djibouti              96\n",
       "EUR-Iceland               48\n",
       "Name: count, Length: 157, dtype: int64"
      ]
     },
     "execution_count": 710,
     "metadata": {},
     "output_type": "execute_result"
    }
   ],
   "source": [
    "SSP2['Region'].value_counts()"
   ]
  },
  {
   "cell_type": "code",
   "execution_count": 711,
   "id": "aa9548b4-ed67-4306-95cd-1161c90d92ea",
   "metadata": {},
   "outputs": [
    {
     "data": {
      "text/plain": [
       "6"
      ]
     },
     "execution_count": 711,
     "metadata": {},
     "output_type": "execute_result"
    }
   ],
   "source": [
    "SSP2['Scenario'].nunique()"
   ]
  },
  {
   "cell_type": "code",
   "execution_count": 712,
   "id": "0ee0965e-e4fc-43a0-a866-b5418d885745",
   "metadata": {},
   "outputs": [
    {
     "data": {
      "text/plain": [
       "Scenario\n",
       "SSP2-RCP8.5-NORE    11872\n",
       "SSP2-RCP8.5-MIRO    11872\n",
       "SSP2-RCP8.5-IPSL    11872\n",
       "SSP2-RCP8.5-HGEM    11872\n",
       "SSP2-RCP8.5-GFDL    11872\n",
       "SSP2-NoCC           11872\n",
       "Name: count, dtype: int64"
      ]
     },
     "execution_count": 712,
     "metadata": {},
     "output_type": "execute_result"
    }
   ],
   "source": [
    "SSP2['Scenario'].value_counts()"
   ]
  },
  {
   "cell_type": "code",
   "execution_count": 713,
   "id": "819e75b0-ca11-462f-acb8-6a9727fceccc",
   "metadata": {},
   "outputs": [
    {
     "data": {
      "text/plain": [
       "4"
      ]
     },
     "execution_count": 713,
     "metadata": {},
     "output_type": "execute_result"
    }
   ],
   "source": [
    "SSP2['Year'].nunique()"
   ]
  },
  {
   "cell_type": "code",
   "execution_count": 714,
   "id": "267b1f75-1f0b-4f31-be14-dadcc5c86f88",
   "metadata": {},
   "outputs": [
    {
     "data": {
      "text/plain": [
       "Year\n",
       "2050    17808\n",
       "2040    17808\n",
       "2030    17808\n",
       "2020    17808\n",
       "Name: count, dtype: int64"
      ]
     },
     "execution_count": 714,
     "metadata": {},
     "output_type": "execute_result"
    }
   ],
   "source": [
    "SSP2['Year'].value_counts()"
   ]
  },
  {
   "cell_type": "code",
   "execution_count": 715,
   "id": "0585c273-cafe-4ada-9efe-4cd2fb8e1f60",
   "metadata": {},
   "outputs": [
    {
     "data": {
      "text/plain": [
       "116808"
      ]
     },
     "execution_count": 715,
     "metadata": {},
     "output_type": "execute_result"
    }
   ],
   "source": [
    "31*157*6*4"
   ]
  },
  {
   "cell_type": "code",
   "execution_count": null,
   "id": "592acde5-17b3-4902-92e9-276ac4435218",
   "metadata": {},
   "outputs": [],
   "source": []
  },
  {
   "cell_type": "code",
   "execution_count": null,
   "id": "f684e495-4a42-4c43-96f9-319a4d7260ee",
   "metadata": {},
   "outputs": [],
   "source": []
  },
  {
   "cell_type": "code",
   "execution_count": null,
   "id": "68f71519-ddb7-4249-a5cb-64d2439279d0",
   "metadata": {},
   "outputs": [],
   "source": []
  },
  {
   "cell_type": "code",
   "execution_count": null,
   "id": "0d323286-96f6-4a66-bda6-c678ccc648e5",
   "metadata": {},
   "outputs": [],
   "source": []
  },
  {
   "cell_type": "markdown",
   "id": "1c25eb36-b81c-48af-a5e0-d7aea6c787d3",
   "metadata": {},
   "source": [
    "'jwhea', 'jrice', 'jmaiz', \n",
    "'jbarl', 'jmill', 'jsorg', \n",
    "'jocer', 'jcass', 'jpota', \n",
    "'jyams', 'jswpt', 'jorat', \n",
    "'jvege', 'jbana', 'jplnt', \n",
    "'jsubf', 'jtemf', 'jbean', \n",
    "'jchkp', 'jcowp', 'jlent', \n",
    "'jpigp', 'jopul', 'jsoyb',\n",
    "'jgrnd', 'jothr', 'jrpsd', \n",
    "'jsnfl', 'jtols', 'jpalm', \n",
    "'jsugb', 'jsugc'\n",
    "\n",
    "\n",
    "problem crops (start with the scenarios for the others for now):\n",
    "millet: 0.08 r2 for prices, prices are also scaled down to as much as 20%, which doesn't happen often for other crops) \n",
    "bean, chkp, cowp, lent, pigp, opul: negative or almost 0 r2, prices are scaled down quite often and to as much as 20%\n",
    "grnd: calibration was extremely difficult!!!! uzbekistan has 4e8 price??? check fao data\n",
    "rpsd, snfl: negative r2, scatterplot looks weird, prices are scaled down to as much as 20%\n",
    "tols: uzbekistan has a price of 4e8 (probably because og groundnut again)\n",
    "\n",
    "when is calib a problem? its usually close to 0, but all crops have right skews"
   ]
  },
  {
   "cell_type": "code",
   "execution_count": 716,
   "id": "2ed2a830-a439-4f3b-b70e-4d0e1b708538",
   "metadata": {},
   "outputs": [],
   "source": [
    "crop_code = 'jorat'\n",
    "country_file = pd.read_csv(f'{data_dir}/Input/Country_data/country_information_'+str(crop_code)+'.csv')\n",
    "bil_file = pd.read_csv(f'{data_dir}/Input/Trade_cost/bilateral_trade_cost_'+str(crop_code)+'.csv')\n",
    "\n",
    "cal_tc = pd.read_csv(f'{calibration_output}/tc_calibration_{crop_code}.csv', header=None, names=['from_abbreviation', 'to_abbreviation', 'tc_cal'])\n",
    "cal_price = pd.read_csv(f'{calibration_output}/prodprice_calibration_{crop_code}.csv', header=None, names=['abbreviation', 'price_cal'])\n",
    "calib = pd.read_csv(f'{calibration_output}/calib_calibration_{crop_code}.csv', header=None, names=['from_abbreviation', 'to_abbreviation', 'calib'])\n",
    "\n",
    "price_compare = country_file.merge(cal_price)\n",
    "tc_compare = bil_file.merge(cal_tc)"
   ]
  },
  {
   "cell_type": "code",
   "execution_count": 717,
   "id": "13cb590c-7d07-40d5-92c9-9aa8630f7144",
   "metadata": {},
   "outputs": [
    {
     "name": "stdout",
     "output_type": "stream",
     "text": [
      "     from_abbreviation to_abbreviation     calib\n",
      "2210               G43             G27  0.096332\n",
      "2228               G43             G45  0.098549\n",
      "1028               G20             G41  0.170564\n",
      "2201               G43             G18  0.204519\n",
      "1837               G36             G18  0.214451\n",
      "1843               G36             G24  0.236137\n",
      "2218               G43             G35  0.478294\n",
      "2200               G43             G17  0.636850\n",
      "1572               G31             G13  1.167244\n",
      "1611               G31             G52  1.487730\n"
     ]
    },
    {
     "data": {
      "text/plain": [
       "<Axes: >"
      ]
     },
     "execution_count": 717,
     "metadata": {},
     "output_type": "execute_result"
    },
    {
     "data": {
      "image/png": "[encoded data removed]",
      "text/plain": [
       "<Figure size 640x480 with 1 Axes>"
      ]
     },
     "metadata": {},
     "output_type": "display_data"
    }
   ],
   "source": [
    "#calib\n",
    "print(calib.sort_values(by='calib').tail(10))\n",
    "calib['calib'].hist(bins=100)"
   ]
  },
  {
   "cell_type": "code",
   "execution_count": 718,
   "id": "1c8fd110-a3cd-4f37-ae00-242d188ef4e1",
   "metadata": {},
   "outputs": [
    {
     "ename": "ValueError",
     "evalue": "Found array with 0 sample(s) (shape=(0,)) while a minimum of 1 is required.",
     "output_type": "error",
     "traceback": [
      "\u001b[0;31m---------------------------------------------------------------------------\u001b[0m",
      "\u001b[0;31mValueError\u001b[0m                                Traceback (most recent call last)",
      "Cell \u001b[0;32mIn[718], line 2\u001b[0m\n\u001b[1;32m      1\u001b[0m \u001b[38;5;66;03m#tc\u001b[39;00m\n\u001b[0;32m----> 2\u001b[0m \u001b[38;5;28mprint\u001b[39m(np\u001b[38;5;241m.\u001b[39msqrt(\u001b[43mmean_squared_error\u001b[49m\u001b[43m(\u001b[49m\u001b[43mtc_compare\u001b[49m\u001b[43m[\u001b[49m\u001b[38;5;124;43m'\u001b[39;49m\u001b[38;5;124;43mtrade_USD_t\u001b[39;49m\u001b[38;5;124;43m'\u001b[39;49m\u001b[43m]\u001b[49m\u001b[43m,\u001b[49m\u001b[43m \u001b[49m\u001b[43mtc_compare\u001b[49m\u001b[43m[\u001b[49m\u001b[38;5;124;43m'\u001b[39;49m\u001b[38;5;124;43mtc_cal\u001b[39;49m\u001b[38;5;124;43m'\u001b[39;49m\u001b[43m]\u001b[49m\u001b[43m)\u001b[49m))\n\u001b[1;32m      3\u001b[0m \u001b[38;5;28mprint\u001b[39m(r2_score(tc_compare[\u001b[38;5;124m'\u001b[39m\u001b[38;5;124mtrade_USD_t\u001b[39m\u001b[38;5;124m'\u001b[39m], tc_compare[\u001b[38;5;124m'\u001b[39m\u001b[38;5;124mtc_cal\u001b[39m\u001b[38;5;124m'\u001b[39m]))\n\u001b[1;32m      4\u001b[0m \u001b[38;5;28mprint\u001b[39m((tc_compare[\u001b[38;5;124m'\u001b[39m\u001b[38;5;124mtc_cal\u001b[39m\u001b[38;5;124m'\u001b[39m] \u001b[38;5;241m/\u001b[39m tc_compare[\u001b[38;5;124m'\u001b[39m\u001b[38;5;124mtrade_USD_t\u001b[39m\u001b[38;5;124m'\u001b[39m])\u001b[38;5;241m.\u001b[39mdescribe())\n",
      "File \u001b[0;32m~/anaconda3/envs/ifpri/lib/python3.10/site-packages/sklearn/utils/_param_validation.py:211\u001b[0m, in \u001b[0;36mvalidate_params.<locals>.decorator.<locals>.wrapper\u001b[0;34m(*args, **kwargs)\u001b[0m\n\u001b[1;32m    205\u001b[0m \u001b[38;5;28;01mtry\u001b[39;00m:\n\u001b[1;32m    206\u001b[0m     \u001b[38;5;28;01mwith\u001b[39;00m config_context(\n\u001b[1;32m    207\u001b[0m         skip_parameter_validation\u001b[38;5;241m=\u001b[39m(\n\u001b[1;32m    208\u001b[0m             prefer_skip_nested_validation \u001b[38;5;129;01mor\u001b[39;00m global_skip_validation\n\u001b[1;32m    209\u001b[0m         )\n\u001b[1;32m    210\u001b[0m     ):\n\u001b[0;32m--> 211\u001b[0m         \u001b[38;5;28;01mreturn\u001b[39;00m \u001b[43mfunc\u001b[49m\u001b[43m(\u001b[49m\u001b[38;5;241;43m*\u001b[39;49m\u001b[43margs\u001b[49m\u001b[43m,\u001b[49m\u001b[43m \u001b[49m\u001b[38;5;241;43m*\u001b[39;49m\u001b[38;5;241;43m*\u001b[39;49m\u001b[43mkwargs\u001b[49m\u001b[43m)\u001b[49m\n\u001b[1;32m    212\u001b[0m \u001b[38;5;28;01mexcept\u001b[39;00m InvalidParameterError \u001b[38;5;28;01mas\u001b[39;00m e:\n\u001b[1;32m    213\u001b[0m     \u001b[38;5;66;03m# When the function is just a wrapper around an estimator, we allow\u001b[39;00m\n\u001b[1;32m    214\u001b[0m     \u001b[38;5;66;03m# the function to delegate validation to the estimator, but we replace\u001b[39;00m\n\u001b[1;32m    215\u001b[0m     \u001b[38;5;66;03m# the name of the estimator by the name of the function in the error\u001b[39;00m\n\u001b[1;32m    216\u001b[0m     \u001b[38;5;66;03m# message to avoid confusion.\u001b[39;00m\n\u001b[1;32m    217\u001b[0m     msg \u001b[38;5;241m=\u001b[39m re\u001b[38;5;241m.\u001b[39msub(\n\u001b[1;32m    218\u001b[0m         \u001b[38;5;124mr\u001b[39m\u001b[38;5;124m\"\u001b[39m\u001b[38;5;124mparameter of \u001b[39m\u001b[38;5;124m\\\u001b[39m\u001b[38;5;124mw+ must be\u001b[39m\u001b[38;5;124m\"\u001b[39m,\n\u001b[1;32m    219\u001b[0m         \u001b[38;5;124mf\u001b[39m\u001b[38;5;124m\"\u001b[39m\u001b[38;5;124mparameter of \u001b[39m\u001b[38;5;132;01m{\u001b[39;00mfunc\u001b[38;5;241m.\u001b[39m\u001b[38;5;18m__qualname__\u001b[39m\u001b[38;5;132;01m}\u001b[39;00m\u001b[38;5;124m must be\u001b[39m\u001b[38;5;124m\"\u001b[39m,\n\u001b[1;32m    220\u001b[0m         \u001b[38;5;28mstr\u001b[39m(e),\n\u001b[1;32m    221\u001b[0m     )\n",
      "File \u001b[0;32m~/anaconda3/envs/ifpri/lib/python3.10/site-packages/sklearn/metrics/_regression.py:474\u001b[0m, in \u001b[0;36mmean_squared_error\u001b[0;34m(y_true, y_pred, sample_weight, multioutput, squared)\u001b[0m\n\u001b[1;32m    404\u001b[0m \u001b[38;5;129m@validate_params\u001b[39m(\n\u001b[1;32m    405\u001b[0m     {\n\u001b[1;32m    406\u001b[0m         \u001b[38;5;124m\"\u001b[39m\u001b[38;5;124my_true\u001b[39m\u001b[38;5;124m\"\u001b[39m: [\u001b[38;5;124m\"\u001b[39m\u001b[38;5;124marray-like\u001b[39m\u001b[38;5;124m\"\u001b[39m],\n\u001b[0;32m   (...)\u001b[0m\n\u001b[1;32m    415\u001b[0m     y_true, y_pred, \u001b[38;5;241m*\u001b[39m, sample_weight\u001b[38;5;241m=\u001b[39m\u001b[38;5;28;01mNone\u001b[39;00m, multioutput\u001b[38;5;241m=\u001b[39m\u001b[38;5;124m\"\u001b[39m\u001b[38;5;124muniform_average\u001b[39m\u001b[38;5;124m\"\u001b[39m, squared\u001b[38;5;241m=\u001b[39m\u001b[38;5;28;01mTrue\u001b[39;00m\n\u001b[1;32m    416\u001b[0m ):\n\u001b[1;32m    417\u001b[0m \u001b[38;5;250m    \u001b[39m\u001b[38;5;124;03m\"\"\"Mean squared error regression loss.\u001b[39;00m\n\u001b[1;32m    418\u001b[0m \n\u001b[1;32m    419\u001b[0m \u001b[38;5;124;03m    Read more in the :ref:`User Guide <mean_squared_error>`.\u001b[39;00m\n\u001b[0;32m   (...)\u001b[0m\n\u001b[1;32m    472\u001b[0m \u001b[38;5;124;03m    0.825...\u001b[39;00m\n\u001b[1;32m    473\u001b[0m \u001b[38;5;124;03m    \"\"\"\u001b[39;00m\n\u001b[0;32m--> 474\u001b[0m     y_type, y_true, y_pred, multioutput \u001b[38;5;241m=\u001b[39m \u001b[43m_check_reg_targets\u001b[49m\u001b[43m(\u001b[49m\n\u001b[1;32m    475\u001b[0m \u001b[43m        \u001b[49m\u001b[43my_true\u001b[49m\u001b[43m,\u001b[49m\u001b[43m \u001b[49m\u001b[43my_pred\u001b[49m\u001b[43m,\u001b[49m\u001b[43m \u001b[49m\u001b[43mmultioutput\u001b[49m\n\u001b[1;32m    476\u001b[0m \u001b[43m    \u001b[49m\u001b[43m)\u001b[49m\n\u001b[1;32m    477\u001b[0m     check_consistent_length(y_true, y_pred, sample_weight)\n\u001b[1;32m    478\u001b[0m     output_errors \u001b[38;5;241m=\u001b[39m np\u001b[38;5;241m.\u001b[39maverage((y_true \u001b[38;5;241m-\u001b[39m y_pred) \u001b[38;5;241m*\u001b[39m\u001b[38;5;241m*\u001b[39m \u001b[38;5;241m2\u001b[39m, axis\u001b[38;5;241m=\u001b[39m\u001b[38;5;241m0\u001b[39m, weights\u001b[38;5;241m=\u001b[39msample_weight)\n",
      "File \u001b[0;32m~/anaconda3/envs/ifpri/lib/python3.10/site-packages/sklearn/metrics/_regression.py:100\u001b[0m, in \u001b[0;36m_check_reg_targets\u001b[0;34m(y_true, y_pred, multioutput, dtype)\u001b[0m\n\u001b[1;32m     66\u001b[0m \u001b[38;5;250m\u001b[39m\u001b[38;5;124;03m\"\"\"Check that y_true and y_pred belong to the same regression task.\u001b[39;00m\n\u001b[1;32m     67\u001b[0m \n\u001b[1;32m     68\u001b[0m \u001b[38;5;124;03mParameters\u001b[39;00m\n\u001b[0;32m   (...)\u001b[0m\n\u001b[1;32m     97\u001b[0m \u001b[38;5;124;03m    correct keyword.\u001b[39;00m\n\u001b[1;32m     98\u001b[0m \u001b[38;5;124;03m\"\"\"\u001b[39;00m\n\u001b[1;32m     99\u001b[0m check_consistent_length(y_true, y_pred)\n\u001b[0;32m--> 100\u001b[0m y_true \u001b[38;5;241m=\u001b[39m \u001b[43mcheck_array\u001b[49m\u001b[43m(\u001b[49m\u001b[43my_true\u001b[49m\u001b[43m,\u001b[49m\u001b[43m \u001b[49m\u001b[43mensure_2d\u001b[49m\u001b[38;5;241;43m=\u001b[39;49m\u001b[38;5;28;43;01mFalse\u001b[39;49;00m\u001b[43m,\u001b[49m\u001b[43m \u001b[49m\u001b[43mdtype\u001b[49m\u001b[38;5;241;43m=\u001b[39;49m\u001b[43mdtype\u001b[49m\u001b[43m)\u001b[49m\n\u001b[1;32m    101\u001b[0m y_pred \u001b[38;5;241m=\u001b[39m check_array(y_pred, ensure_2d\u001b[38;5;241m=\u001b[39m\u001b[38;5;28;01mFalse\u001b[39;00m, dtype\u001b[38;5;241m=\u001b[39mdtype)\n\u001b[1;32m    103\u001b[0m \u001b[38;5;28;01mif\u001b[39;00m y_true\u001b[38;5;241m.\u001b[39mndim \u001b[38;5;241m==\u001b[39m \u001b[38;5;241m1\u001b[39m:\n",
      "File \u001b[0;32m~/anaconda3/envs/ifpri/lib/python3.10/site-packages/sklearn/utils/validation.py:969\u001b[0m, in \u001b[0;36mcheck_array\u001b[0;34m(array, accept_sparse, accept_large_sparse, dtype, order, copy, force_all_finite, ensure_2d, allow_nd, ensure_min_samples, ensure_min_features, estimator, input_name)\u001b[0m\n\u001b[1;32m    967\u001b[0m     n_samples \u001b[38;5;241m=\u001b[39m _num_samples(array)\n\u001b[1;32m    968\u001b[0m     \u001b[38;5;28;01mif\u001b[39;00m n_samples \u001b[38;5;241m<\u001b[39m ensure_min_samples:\n\u001b[0;32m--> 969\u001b[0m         \u001b[38;5;28;01mraise\u001b[39;00m \u001b[38;5;167;01mValueError\u001b[39;00m(\n\u001b[1;32m    970\u001b[0m             \u001b[38;5;124m\"\u001b[39m\u001b[38;5;124mFound array with \u001b[39m\u001b[38;5;132;01m%d\u001b[39;00m\u001b[38;5;124m sample(s) (shape=\u001b[39m\u001b[38;5;132;01m%s\u001b[39;00m\u001b[38;5;124m) while a\u001b[39m\u001b[38;5;124m\"\u001b[39m\n\u001b[1;32m    971\u001b[0m             \u001b[38;5;124m\"\u001b[39m\u001b[38;5;124m minimum of \u001b[39m\u001b[38;5;132;01m%d\u001b[39;00m\u001b[38;5;124m is required\u001b[39m\u001b[38;5;132;01m%s\u001b[39;00m\u001b[38;5;124m.\u001b[39m\u001b[38;5;124m\"\u001b[39m\n\u001b[1;32m    972\u001b[0m             \u001b[38;5;241m%\u001b[39m (n_samples, array\u001b[38;5;241m.\u001b[39mshape, ensure_min_samples, context)\n\u001b[1;32m    973\u001b[0m         )\n\u001b[1;32m    975\u001b[0m \u001b[38;5;28;01mif\u001b[39;00m ensure_min_features \u001b[38;5;241m>\u001b[39m \u001b[38;5;241m0\u001b[39m \u001b[38;5;129;01mand\u001b[39;00m array\u001b[38;5;241m.\u001b[39mndim \u001b[38;5;241m==\u001b[39m \u001b[38;5;241m2\u001b[39m:\n\u001b[1;32m    976\u001b[0m     n_features \u001b[38;5;241m=\u001b[39m array\u001b[38;5;241m.\u001b[39mshape[\u001b[38;5;241m1\u001b[39m]\n",
      "\u001b[0;31mValueError\u001b[0m: Found array with 0 sample(s) (shape=(0,)) while a minimum of 1 is required."
     ]
    }
   ],
   "source": [
    "#tc\n",
    "print(np.sqrt(mean_squared_error(tc_compare['trade_USD_t'], tc_compare['tc_cal'])))\n",
    "print(r2_score(tc_compare['trade_USD_t'], tc_compare['tc_cal']))\n",
    "print((tc_compare['tc_cal'] / tc_compare['trade_USD_t']).describe())\n",
    "sns.scatterplot(x=tc_compare['trade_USD_t'], y=tc_compare['tc_cal'])"
   ]
  },
  {
   "cell_type": "code",
   "execution_count": null,
   "id": "8afe1f7d-92ea-4f85-9e2c-8bbebcfa119e",
   "metadata": {},
   "outputs": [
    {
     "name": "stdout",
     "output_type": "stream",
     "text": [
      "823.6513087467628\n",
      "0.5473183041975516\n",
      "count    120.000000\n",
      "mean       0.807024\n",
      "std        0.458573\n",
      "min        0.200000\n",
      "25%        0.506385\n",
      "50%        0.819702\n",
      "75%        0.899273\n",
      "max        3.000000\n",
      "dtype: float64\n"
     ]
    },
    {
     "data": {
      "text/plain": [
       "<Axes: xlabel='prod_price_USD_t', ylabel='price_cal'>"
      ]
     },
     "execution_count": 214,
     "metadata": {},
     "output_type": "execute_result"
    },
    {
     "data": {
      "image/png": "[encoded data removed]",
      "text/plain": [
       "<Figure size 640x480 with 1 Axes>"
      ]
     },
     "metadata": {},
     "output_type": "display_data"
    }
   ],
   "source": [
    "#prod price\n",
    "print(np.sqrt(mean_squared_error(price_compare['prod_price_USD_t'], price_compare['price_cal'])))\n",
    "print(r2_score(price_compare['prod_price_USD_t'], price_compare['price_cal']))\n",
    "print((price_compare['price_cal'] / price_compare['prod_price_USD_t']).describe())\n",
    "sns.scatterplot(x=price_compare['prod_price_USD_t'], y=price_compare['price_cal'])"
   ]
  },
  {
   "cell_type": "code",
   "execution_count": null,
   "id": "78999399-ce1d-4364-b826-c9da6ae14e08",
   "metadata": {},
   "outputs": [
    {
     "data": {
      "text/html": [
       "<div>\n",
       "<style scoped>\n",
       "    .dataframe tbody tr th:only-of-type {\n",
       "        vertical-align: middle;\n",
       "    }\n",
       "\n",
       "    .dataframe tbody tr th {\n",
       "        vertical-align: top;\n",
       "    }\n",
       "\n",
       "    .dataframe thead th {\n",
       "        text-align: right;\n",
       "    }\n",
       "</style>\n",
       "<table border=\"1\" class=\"dataframe\">\n",
       "  <thead>\n",
       "    <tr style=\"text-align: right;\">\n",
       "      <th></th>\n",
       "      <th>abbreviation</th>\n",
       "      <th>IMPACT_code</th>\n",
       "      <th>yield_t_ha</th>\n",
       "      <th>prod_price_USD_t</th>\n",
       "      <th>import_q</th>\n",
       "      <th>export_q</th>\n",
       "      <th>demand_q</th>\n",
       "      <th>supply_q</th>\n",
       "      <th>domestic_q</th>\n",
       "      <th>demand_elas</th>\n",
       "      <th>supply_elas</th>\n",
       "      <th>price_cal</th>\n",
       "    </tr>\n",
       "  </thead>\n",
       "  <tbody>\n",
       "    <tr>\n",
       "      <th>19</th>\n",
       "      <td>CAF</td>\n",
       "      <td>jrpsd</td>\n",
       "      <td>1.694848</td>\n",
       "      <td>598.617581</td>\n",
       "      <td>21.589532</td>\n",
       "      <td>0.0</td>\n",
       "      <td>21.589532</td>\n",
       "      <td>0.0</td>\n",
       "      <td>0.0</td>\n",
       "      <td>-0.563942</td>\n",
       "      <td>1.1718</td>\n",
       "      <td>192.377370</td>\n",
       "    </tr>\n",
       "    <tr>\n",
       "      <th>26</th>\n",
       "      <td>COD</td>\n",
       "      <td>jrpsd</td>\n",
       "      <td>1.694848</td>\n",
       "      <td>598.617581</td>\n",
       "      <td>1.258140</td>\n",
       "      <td>0.0</td>\n",
       "      <td>1.258140</td>\n",
       "      <td>0.0</td>\n",
       "      <td>0.0</td>\n",
       "      <td>-0.553317</td>\n",
       "      <td>1.1718</td>\n",
       "      <td>178.906447</td>\n",
       "    </tr>\n",
       "    <tr>\n",
       "      <th>123</th>\n",
       "      <td>TCD</td>\n",
       "      <td>jrpsd</td>\n",
       "      <td>1.694848</td>\n",
       "      <td>598.617581</td>\n",
       "      <td>3.058641</td>\n",
       "      <td>0.0</td>\n",
       "      <td>3.058641</td>\n",
       "      <td>0.0</td>\n",
       "      <td>0.0</td>\n",
       "      <td>-0.555412</td>\n",
       "      <td>0.8316</td>\n",
       "      <td>182.633749</td>\n",
       "    </tr>\n",
       "  </tbody>\n",
       "</table>\n",
       "</div>"
      ],
      "text/plain": [
       "    abbreviation IMPACT_code  yield_t_ha  prod_price_USD_t   import_q  \\\n",
       "19           CAF       jrpsd    1.694848        598.617581  21.589532   \n",
       "26           COD       jrpsd    1.694848        598.617581   1.258140   \n",
       "123          TCD       jrpsd    1.694848        598.617581   3.058641   \n",
       "\n",
       "     export_q   demand_q  supply_q  domestic_q  demand_elas  supply_elas  \\\n",
       "19        0.0  21.589532       0.0         0.0    -0.563942       1.1718   \n",
       "26        0.0   1.258140       0.0         0.0    -0.553317       1.1718   \n",
       "123       0.0   3.058641       0.0         0.0    -0.555412       0.8316   \n",
       "\n",
       "      price_cal  \n",
       "19   192.377370  \n",
       "26   178.906447  \n",
       "123  182.633749  "
      ]
     },
     "execution_count": 182,
     "metadata": {},
     "output_type": "execute_result"
    }
   ],
   "source": [
    "price_compare[(price_compare['price_cal']<200) & (price_compare['prod_price_USD_t']>500)]"
   ]
  },
  {
   "cell_type": "code",
   "execution_count": null,
   "id": "878fcda3-9640-4e45-b0b3-a25a9c6e79ef",
   "metadata": {},
   "outputs": [
    {
     "data": {
      "text/html": [
       "<div>\n",
       "<style scoped>\n",
       "    .dataframe tbody tr th:only-of-type {\n",
       "        vertical-align: middle;\n",
       "    }\n",
       "\n",
       "    .dataframe tbody tr th {\n",
       "        vertical-align: top;\n",
       "    }\n",
       "\n",
       "    .dataframe thead th {\n",
       "        text-align: right;\n",
       "    }\n",
       "</style>\n",
       "<table border=\"1\" class=\"dataframe\">\n",
       "  <thead>\n",
       "    <tr style=\"text-align: right;\">\n",
       "      <th></th>\n",
       "      <th>abbreviation</th>\n",
       "      <th>IMPACT_code</th>\n",
       "      <th>yield_t_ha</th>\n",
       "      <th>prod_price_USD_t</th>\n",
       "      <th>import_q</th>\n",
       "      <th>export_q</th>\n",
       "      <th>demand_q</th>\n",
       "      <th>supply_q</th>\n",
       "      <th>domestic_q</th>\n",
       "      <th>demand_elas</th>\n",
       "      <th>supply_elas</th>\n",
       "      <th>price_cal</th>\n",
       "    </tr>\n",
       "  </thead>\n",
       "  <tbody>\n",
       "    <tr>\n",
       "      <th>144</th>\n",
       "      <td>UZB</td>\n",
       "      <td>jtols</td>\n",
       "      <td>1.763412</td>\n",
       "      <td>4.205225e+08</td>\n",
       "      <td>23601.112415</td>\n",
       "      <td>43057.980476</td>\n",
       "      <td>7119.384347</td>\n",
       "      <td>26576.252407</td>\n",
       "      <td>-16481.728068</td>\n",
       "      <td>-0.30331</td>\n",
       "      <td>0.7938</td>\n",
       "      <td>2.412115e+08</td>\n",
       "    </tr>\n",
       "  </tbody>\n",
       "</table>\n",
       "</div>"
      ],
      "text/plain": [
       "    abbreviation IMPACT_code  yield_t_ha  prod_price_USD_t      import_q  \\\n",
       "144          UZB       jtols    1.763412      4.205225e+08  23601.112415   \n",
       "\n",
       "         export_q     demand_q      supply_q    domestic_q  demand_elas  \\\n",
       "144  43057.980476  7119.384347  26576.252407 -16481.728068     -0.30331   \n",
       "\n",
       "     supply_elas     price_cal  \n",
       "144       0.7938  2.412115e+08  "
      ]
     },
     "execution_count": 194,
     "metadata": {},
     "output_type": "execute_result"
    }
   ],
   "source": [
    "price_compare[(price_compare['prod_price_USD_t']>1e8)]"
   ]
  },
  {
   "cell_type": "code",
   "execution_count": null,
   "id": "7557e850-fbdf-4b65-8587-9bfe67397dfd",
   "metadata": {},
   "outputs": [
    {
     "data": {
      "text/html": [
       "<div>\n",
       "<style scoped>\n",
       "    .dataframe tbody tr th:only-of-type {\n",
       "        vertical-align: middle;\n",
       "    }\n",
       "\n",
       "    .dataframe tbody tr th {\n",
       "        vertical-align: top;\n",
       "    }\n",
       "\n",
       "    .dataframe thead th {\n",
       "        text-align: right;\n",
       "    }\n",
       "</style>\n",
       "<table border=\"1\" class=\"dataframe\">\n",
       "  <thead>\n",
       "    <tr style=\"text-align: right;\">\n",
       "      <th></th>\n",
       "      <th>abbreviation</th>\n",
       "      <th>IMPACT_code</th>\n",
       "      <th>yield_t_ha</th>\n",
       "      <th>prod_price_USD_t</th>\n",
       "      <th>import_q</th>\n",
       "      <th>export_q</th>\n",
       "      <th>demand_q</th>\n",
       "      <th>supply_q</th>\n",
       "      <th>domestic_q</th>\n",
       "      <th>demand_elas</th>\n",
       "      <th>supply_elas</th>\n",
       "      <th>price_cal</th>\n",
       "    </tr>\n",
       "  </thead>\n",
       "  <tbody>\n",
       "    <tr>\n",
       "      <th>75</th>\n",
       "      <td>KOR</td>\n",
       "      <td>jtemf</td>\n",
       "      <td>13.928295</td>\n",
       "      <td>1854.540096</td>\n",
       "      <td>113296.53841</td>\n",
       "      <td>39809.99929</td>\n",
       "      <td>1.643176e+06</td>\n",
       "      <td>1569689.0</td>\n",
       "      <td>1.529879e+06</td>\n",
       "      <td>-0.355639</td>\n",
       "      <td>0.352</td>\n",
       "      <td>1103.329394</td>\n",
       "    </tr>\n",
       "  </tbody>\n",
       "</table>\n",
       "</div>"
      ],
      "text/plain": [
       "   abbreviation IMPACT_code  yield_t_ha  prod_price_USD_t      import_q  \\\n",
       "75          KOR       jtemf   13.928295       1854.540096  113296.53841   \n",
       "\n",
       "       export_q      demand_q   supply_q    domestic_q  demand_elas  \\\n",
       "75  39809.99929  1.643176e+06  1569689.0  1.529879e+06    -0.355639   \n",
       "\n",
       "    supply_elas    price_cal  \n",
       "75        0.352  1103.329394  "
      ]
     },
     "execution_count": 135,
     "metadata": {},
     "output_type": "execute_result"
    }
   ],
   "source": [
    "price_compare[price_compare['abbreviation']=='KOR']"
   ]
  },
  {
   "cell_type": "code",
   "execution_count": null,
   "id": "84094ff7-a6a1-42f7-93d3-e9e6629ac2a2",
   "metadata": {},
   "outputs": [],
   "source": []
  }
 ],
 "metadata": {
  "kernelspec": {
   "display_name": "ifpri",
   "language": "python",
   "name": "python3"
  },
  "language_info": {
   "codemirror_mode": {
    "name": "ipython",
    "version": 3
   },
   "file_extension": ".py",
   "mimetype": "text/x-python",
   "name": "python",
   "nbconvert_exporter": "python",
   "pygments_lexer": "ipython3",
   "version": "3.10.0"
  }
 },
 "nbformat": 4,
 "nbformat_minor": 5
}
